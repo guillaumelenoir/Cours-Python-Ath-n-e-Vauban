{
 "cells": [
  {
   "cell_type": "markdown",
   "id": "3ed58b24",
   "metadata": {},
   "source": [
    "# <span style=\"color:green\"><ins>Chapitre 3: Types de données simples</ins></span>"
   ]
  },
  {
   "cell_type": "code",
   "execution_count": 1,
   "id": "af7541d8",
   "metadata": {},
   "outputs": [],
   "source": [
    "import sys\n",
    "import numpy as np"
   ]
  },
  {
   "cell_type": "markdown",
   "id": "9e79b2b8",
   "metadata": {},
   "source": [
    "## 3.3 Types de données"
   ]
  },
  {
   "cell_type": "markdown",
   "id": "4ae15161",
   "metadata": {},
   "source": [
    "Les objets manipulés peuvent être de différents type :"
   ]
  },
  {
   "cell_type": "code",
   "execution_count": 7,
   "id": "738e3a41",
   "metadata": {},
   "outputs": [
    {
     "data": {
      "text/plain": [
       "int"
      ]
     },
     "execution_count": 7,
     "metadata": {},
     "output_type": "execute_result"
    }
   ],
   "source": [
    "# Entiers :\n",
    "type(234)"
   ]
  },
  {
   "cell_type": "code",
   "execution_count": 8,
   "id": "cf961b34",
   "metadata": {},
   "outputs": [
    {
     "data": {
      "text/plain": [
       "bool"
      ]
     },
     "execution_count": 8,
     "metadata": {},
     "output_type": "execute_result"
    }
   ],
   "source": [
    "# Booléens :\n",
    "type(True)"
   ]
  },
  {
   "cell_type": "code",
   "execution_count": 9,
   "id": "8561b775",
   "metadata": {},
   "outputs": [
    {
     "data": {
      "text/plain": [
       "float"
      ]
     },
     "execution_count": 9,
     "metadata": {},
     "output_type": "execute_result"
    }
   ],
   "source": [
    "# Nombres à virgule flottante (qui représentent les nombres réels) :\n",
    "type(-5.6)"
   ]
  },
  {
   "cell_type": "code",
   "execution_count": 10,
   "id": "a3fb03ec",
   "metadata": {},
   "outputs": [
    {
     "data": {
      "text/plain": [
       "complex"
      ]
     },
     "execution_count": 10,
     "metadata": {},
     "output_type": "execute_result"
    }
   ],
   "source": [
    "# Nombres complexes :\n",
    "type(5+8.9j)"
   ]
  },
  {
   "cell_type": "code",
   "execution_count": 11,
   "id": "e65eb069",
   "metadata": {},
   "outputs": [
    {
     "data": {
      "text/plain": [
       "str"
      ]
     },
     "execution_count": 11,
     "metadata": {},
     "output_type": "execute_result"
    }
   ],
   "source": [
    "# Chaînes de caractères (texte) :\n",
    "type(\"Hello world\")"
   ]
  },
  {
   "cell_type": "code",
   "execution_count": 12,
   "id": "52bd120f",
   "metadata": {},
   "outputs": [
    {
     "data": {
      "text/plain": [
       "list"
      ]
     },
     "execution_count": 12,
     "metadata": {},
     "output_type": "execute_result"
    }
   ],
   "source": [
    "# Listes :\n",
    "type([4,5,\"Hi you\",True])"
   ]
  },
  {
   "cell_type": "code",
   "execution_count": 13,
   "id": "6dac8e06",
   "metadata": {},
   "outputs": [
    {
     "data": {
      "text/plain": [
       "tuple"
      ]
     },
     "execution_count": 13,
     "metadata": {},
     "output_type": "execute_result"
    }
   ],
   "source": [
    "# Tuples :\n",
    "type((\"a\",5.7,[3,4,5]))       # exemple de tuple contenant du texte (str), un float et une liste"
   ]
  },
  {
   "cell_type": "code",
   "execution_count": 14,
   "id": "1c0e97fd",
   "metadata": {},
   "outputs": [
    {
     "data": {
      "text/plain": [
       "dict"
      ]
     },
     "execution_count": 14,
     "metadata": {},
     "output_type": "execute_result"
    }
   ],
   "source": [
    "# Dictionnaires : \n",
    "type({\"Mathématiques\": 8, \"Physique\": 3,\"Chimie\": 2, \"Biologie\": 2})"
   ]
  },
  {
   "cell_type": "code",
   "execution_count": 15,
   "id": "fdaa1975",
   "metadata": {},
   "outputs": [
    {
     "data": {
      "text/plain": [
       "set"
      ]
     },
     "execution_count": 15,
     "metadata": {},
     "output_type": "execute_result"
    }
   ],
   "source": [
    "# Ensembles mutables: \n",
    "type({\"Coeur\",\"Carreau\",\"As\",\"Pique\"})"
   ]
  },
  {
   "cell_type": "code",
   "execution_count": 16,
   "id": "02eec64c",
   "metadata": {},
   "outputs": [
    {
     "data": {
      "text/plain": [
       "frozenset"
      ]
     },
     "execution_count": 16,
     "metadata": {},
     "output_type": "execute_result"
    }
   ],
   "source": [
    "# Ensembles immutables (frozen set) :\n",
    "type(frozenset({\"Coeur\",\"Carreau\",\"As\",\"Pique\"}))"
   ]
  },
  {
   "cell_type": "code",
   "execution_count": 17,
   "id": "bf8e8eb2",
   "metadata": {},
   "outputs": [
    {
     "data": {
      "text/plain": [
       "function"
      ]
     },
     "execution_count": 17,
     "metadata": {},
     "output_type": "execute_result"
    }
   ],
   "source": [
    "# Fonctions :\n",
    "def f(x) : return 2*x+3\n",
    "type(f)"
   ]
  },
  {
   "cell_type": "code",
   "execution_count": 18,
   "id": "0a9a9261",
   "metadata": {},
   "outputs": [
    {
     "data": {
      "text/plain": [
       "NoneType"
      ]
     },
     "execution_count": 18,
     "metadata": {},
     "output_type": "execute_result"
    }
   ],
   "source": [
    "# None :\n",
    "type(None)"
   ]
  },
  {
   "cell_type": "markdown",
   "id": "b9e880ab",
   "metadata": {},
   "source": [
    "## 3.5 Données de type *bool*"
   ]
  },
  {
   "cell_type": "markdown",
   "id": "d72def16",
   "metadata": {},
   "source": [
    "On travaille ici avec des variables qui sont soit vraies (True), soit fausses (False). Ce type de variable est appelée **variable logique** et les règles de calcul sont dictées par l’algèbre de Boole. "
   ]
  },
  {
   "cell_type": "markdown",
   "id": "ded901f4",
   "metadata": {},
   "source": [
    "### Opérateurs de comparaison"
   ]
  },
  {
   "cell_type": "markdown",
   "id": "007111c4",
   "metadata": {},
   "source": [
    "- <, <=, >, >= (strictement plus petit, plus petit ou  égal, ...)\n",
    "- == (égal)\n",
    "- != (différent)"
   ]
  },
  {
   "cell_type": "code",
   "execution_count": 33,
   "id": "fc3e972b",
   "metadata": {},
   "outputs": [
    {
     "name": "stdout",
     "output_type": "stream",
     "text": [
      "False\n",
      "True\n"
     ]
    }
   ],
   "source": [
    "x=2          # signifie : x <- 2\n",
    "x==3         # signifie : x est-il égal à 3? (2 réponses possibles : True/False)\n",
    "y=(x==3)     # y est donc une variable logique\n",
    "print(y)\n",
    "print(x!=3)"
   ]
  },
  {
   "cell_type": "code",
   "execution_count": 34,
   "id": "a80c5bf3",
   "metadata": {},
   "outputs": [
    {
     "name": "stdout",
     "output_type": "stream",
     "text": [
      "False\n",
      "True\n"
     ]
    }
   ],
   "source": [
    "print(2>8)\n",
    "print(2<=8<15)"
   ]
  },
  {
   "cell_type": "markdown",
   "id": "901a335d",
   "metadata": {},
   "source": [
    "### Connecteurs logiques"
   ]
  },
  {
   "cell_type": "markdown",
   "id": "33499755",
   "metadata": {},
   "source": [
    "On peut connecter les variables logiques a et b via les opérateurs suivants :\n",
    "- a and b (et)\n",
    "- a or b (ou inclusif)\n",
    "- not(a) (non)\n",
    "\n",
    "Pour rappel, leurs tables de vérités sont les suivantes :\n",
    "\n",
    "|a|b|a and b|a or b|\n",
    "|-|-|-|-|\n",
    "|True|True|True|True|\n",
    "|True|False|False|True|\n",
    "|False|True|False|True|\n",
    "|False|False|False|False|\n",
    "\n",
    "|a|not(a)|\n",
    "|-|-|\n",
    "|True|False|\n",
    "|False|True|\n",
    "\n",
    "Il existe aussi le \"ou exclusif\" (XOR - soit a, soit b) qui n'est pas disponible par défaut en python. On peut le coder comme suit par exemple :"
   ]
  },
  {
   "cell_type": "code",
   "execution_count": 38,
   "id": "a56a4f28",
   "metadata": {},
   "outputs": [],
   "source": [
    "def xor(a,b) : return (a and not(b)) or (b and not(a))"
   ]
  },
  {
   "cell_type": "code",
   "execution_count": 39,
   "id": "a2652c4d",
   "metadata": {},
   "outputs": [
    {
     "name": "stdout",
     "output_type": "stream",
     "text": [
      "True\n",
      "True\n",
      "False\n"
     ]
    }
   ],
   "source": [
    "x=4\n",
    "print(x>2 and x<5)   # Vrai ET Vrai = Vrai\n",
    "print(x>2 or x<3)    # Vrai OU Faux = Vrai\n",
    "print(xor(x>2,x<5))  # Vrai XOR Vrai = Faux"
   ]
  },
  {
   "cell_type": "markdown",
   "id": "1603c9c0",
   "metadata": {},
   "source": [
    "## 3.7 Type *complex*"
   ]
  },
  {
   "cell_type": "markdown",
   "id": "226ba07c",
   "metadata": {},
   "source": [
    "Lcomplexes sont représentés sous forme rectangulaire *a+bj*, où a = partie réelle (type float) et b = partie imaginaire (type float). Les entiers sont automatiquements convertis en float : "
   ]
  },
  {
   "cell_type": "code",
   "execution_count": 55,
   "id": "dba1b6dd",
   "metadata": {},
   "outputs": [
    {
     "name": "stdout",
     "output_type": "stream",
     "text": [
      "(3+4j)\n",
      "3.0\n",
      "4.0\n",
      "5.0\n",
      "(3-4j)\n",
      "(3-4j)\n"
     ]
    }
   ],
   "source": [
    "z=3+4j\n",
    "print(z)\n",
    "print(z.real)             # partie réelle (type float)\n",
    "print(z.imag)             # partie imaginaire (type float)\n",
    "print(abs(z))             # module\n",
    "print(z.conjugate())      # conjugué\n",
    "print(np.conjugate(z))    # autre façon pour le conjugué"
   ]
  },
  {
   "cell_type": "markdown",
   "id": "1d24812f",
   "metadata": {},
   "source": [
    "## 3.8 Type *str* : Chaines de caractères"
   ]
  },
  {
   "cell_type": "markdown",
   "id": "550e8d12",
   "metadata": {},
   "source": [
    "### Syntaxe de base"
   ]
  },
  {
   "cell_type": "markdown",
   "id": "e50d92f4",
   "metadata": {},
   "source": [
    "Les chaines de caractères (string) sont des valeurs textuelles entourées par des guillemets. Plusieurs choix sont possibles :"
   ]
  },
  {
   "cell_type": "code",
   "execution_count": 56,
   "id": "23534668",
   "metadata": {},
   "outputs": [
    {
     "name": "stdout",
     "output_type": "stream",
     "text": [
      "Hello\n",
      "Hello\n",
      "Hello\n",
      "Hello\n"
     ]
    }
   ],
   "source": [
    "x='Hello'         # Guillemets simples (en apostrophe)\n",
    "print(x)\n",
    "x=\"Hello\"         # Guillemets doubles \n",
    "print(x)\n",
    "x='''Hello'''     # 3 guillemets simples\n",
    "print(x)\n",
    "x=\"\"\"Hello\"\"\"     # 3 guillemets doubles\n",
    "print(x)"
   ]
  },
  {
   "cell_type": "markdown",
   "id": "05ca8020",
   "metadata": {},
   "source": [
    "L'usage des guillemets simples versus double est utile lorsque le texte contient déjà des guillemets :"
   ]
  },
  {
   "cell_type": "code",
   "execution_count": 57,
   "id": "bd526340",
   "metadata": {},
   "outputs": [
    {
     "name": "stdout",
     "output_type": "stream",
     "text": [
      "C'est l'été !\n"
     ]
    }
   ],
   "source": [
    "print(\"C'est l'été !\")"
   ]
  },
  {
   "cell_type": "markdown",
   "id": "be72f34b",
   "metadata": {},
   "source": [
    "Si on avait encadré cette expression par des guillemets simples '...' on aurait eu une erreur car l'apostrophe après le C ferme alors la chaine de caractères. "
   ]
  },
  {
   "cell_type": "markdown",
   "id": "959999ce",
   "metadata": {},
   "source": [
    "De même :"
   ]
  },
  {
   "cell_type": "code",
   "execution_count": 58,
   "id": "c4f2201b",
   "metadata": {},
   "outputs": [
    {
     "name": "stdout",
     "output_type": "stream",
     "text": [
      "Jules César a dit : \"alea jacta est\"\n"
     ]
    }
   ],
   "source": [
    "print('Jules César a dit : \"alea jacta est\"')"
   ]
  },
  {
   "cell_type": "markdown",
   "id": "3f25a751",
   "metadata": {},
   "source": [
    "Les triples guillemets permettent d'écrire des chaines sur plusieurs lignes, chaines qui peuvent contenir des guillemets \"...\" ou '...'. On les utilise notamment pour commenter des fonctions ; dans ce cas, la chaine de caractère est à placer directement sous l'instruction `def`, et on y accède depuis l'extérieur de la fonction via `help` :"
   ]
  },
  {
   "cell_type": "code",
   "execution_count": 59,
   "id": "8c3738b7",
   "metadata": {},
   "outputs": [
    {
     "name": "stdout",
     "output_type": "stream",
     "text": [
      "Help on function f in module __main__:\n",
      "\n",
      "f(x)\n",
      "    Fonction qui calcule la racine carrée du sinus de x\n",
      "    Les valeurs admises de x sont imposées par une étude du domaine :\n",
      "    x appartient à [k*2*pi,k*2*pi+pi], pour tout k entier.\n",
      "\n"
     ]
    }
   ],
   "source": [
    "def f(x) : \n",
    "    \"\"\"Fonction qui calcule la racine carrée du sinus de x\n",
    "        Les valeurs admises de x sont imposées par une étude du domaine :\n",
    "        x appartient à [k*2*pi,k*2*pi+pi], pour tout k entier. \n",
    "        \"\"\"\n",
    "    return np.sqrt(np.sin(x))\n",
    "    \n",
    "help(f)"
   ]
  },
  {
   "cell_type": "markdown",
   "id": "8ca3ecaf",
   "metadata": {},
   "source": [
    "### Séquences d'échappement"
   ]
  },
  {
   "cell_type": "markdown",
   "id": "bade5127",
   "metadata": {},
   "source": [
    "|Séquence|Signification|\n",
    "|:-|:-|\n",
    "|\\\\|Saut de ligne ignoré|\n",
    "|\\\\ \\\\|Caractère backslash|\n",
    "|\\\\'|Apostrophe|\n",
    "|\\\\\"|Guillemet|\n",
    "|\\b|Retour arrière d'un caractère|\n",
    "|\\\\n|Saut de ligne|\n",
    "|\\r|Retour en début de ligne|\n",
    "|\\t|tabulation horizontale|"
   ]
  },
  {
   "cell_type": "code",
   "execution_count": 61,
   "id": "e811169f",
   "metadata": {},
   "outputs": [
    {
     "name": "stdout",
     "output_type": "stream",
     "text": [
      "Ceci est un backslash : \\\n"
     ]
    }
   ],
   "source": [
    "print(\"Ceci est un backslash : \\\\\")"
   ]
  },
  {
   "cell_type": "code",
   "execution_count": 64,
   "id": "de66bf10",
   "metadata": {},
   "outputs": [
    {
     "name": "stdout",
     "output_type": "stream",
     "text": [
      "Et je passe à la ligne\n",
      " suivante\n"
     ]
    }
   ],
   "source": [
    "print(\"Et je passe à la ligne\\n suivante\")"
   ]
  },
  {
   "cell_type": "code",
   "execution_count": 65,
   "id": "06164543",
   "metadata": {},
   "outputs": [
    {
     "name": "stdout",
     "output_type": "stream",
     "text": [
      "Et je passe à la ligne\n",
      "suivante\n"
     ]
    }
   ],
   "source": [
    "print(\"Et je passe à la ligne\\nsuivante\")"
   ]
  },
  {
   "cell_type": "markdown",
   "id": "2d81ca13",
   "metadata": {},
   "source": [
    "### Fonction, méthodes et opérations usuelles"
   ]
  },
  {
   "cell_type": "markdown",
   "id": "243ecef4",
   "metadata": {},
   "source": [
    "Les tableaux ci-dessous résument les différentes opérations/fonctions/méthodes ususelles qui s'appliquent aux chaines de caractères. Elles sont illustrées à la suite. Certaines seront aussi valables pour les listes et tuples, qu'on abordera en master 1.<br/>\n",
    "s et t sont deux chaines de caractères (ou deux listes ou deux tuples), x et y des éléments de la chaine (de la liste, du tuple), et n, i, j et k des entiers. <br/>\n",
    "Pour une liste exhaustive des *méthodes* du type *str*, voir https://www.w3schools.com/python/python_strings_methods.asp "
   ]
  },
  {
   "cell_type": "markdown",
   "id": "fab1b5ad",
   "metadata": {},
   "source": [
    "#### Opérations, fonctions et méthodes pour les types str, list et tuple"
   ]
  },
  {
   "cell_type": "markdown",
   "id": "9131c437",
   "metadata": {},
   "source": [
    "|Opération/Fonction/Méthode|Signification|\n",
    "|:-|:-|\n",
    "|`x in s`|`True`si contient x, `False` sinon|\n",
    "|`x not in s`|`True`si ne contient pas x, `False` sinon|\n",
    "|`s+t`|concaténation de s et t|\n",
    "|`n*s`|n copies concaténées de s|\n",
    "|`s[i]`|i<sup>ème</sup> élément de s, à partir de 0|\n",
    "|`s[i:j]`|tranche de s de l'indice i (inclus) à l'indice j (exclu)|\n",
    "|`s[i:j:k]`|idem avec un pas de k|\n",
    "|`s[:i]`|tranche de s du début jusqu'à l'indice i (exclu)|\n",
    "|`s[i:]`|tranche de s de l'indice i (inclus) jusqu'à la fin|\n",
    "|`s[::k]`|partie de s dont on a pris 1 élément sur k sur tout s|\n",
    "|`len(s)`|nombre d'éléments de s|\n",
    "|`max(s)`|plus grand élément de s|\n",
    "|`min(s)`|plus petit élément de s|\n",
    "|`s.index(x)`|indice de la 1<sup>ère</sup> occurence de x dans s. Renvoie une erreur si x non trouvé.|\n",
    "|`s.count(x)`|nombre d'occurence de x dans s|"
   ]
  },
  {
   "cell_type": "markdown",
   "id": "07a19ea7",
   "metadata": {},
   "source": [
    "#### Méthodes propres au type str"
   ]
  },
  {
   "cell_type": "markdown",
   "id": "39c891b2",
   "metadata": {},
   "source": [
    "|Méthode|Signification|\n",
    "|:-|:-|\n",
    "|`s.lower()`|met tous les caractères en minuscule|\n",
    "|`s.upper()`|met tous les caractères en majuscule|\n",
    "|`s.swapcase()`|minuscule devient majuscule et inversément|\n",
    "|`s.capitalize()`|met la première lettre du premier mot en majuscule, les autres en minuscule|\n",
    "|`s.title()`|met, à chaque mot, la première lettre est mise en majuscule, les autres en minuscule|\n",
    "|`s.lstrip()`|Supprime les espaces en début de chaine|\n",
    "|`s.rstrip()`|Supprime les espaces en fin de chaine|\n",
    "|`s.lstrip(x)`|Supprime les caractères en tête de chaine, tels que spécifiés par x|\n",
    "|`s.rstrip(x)`|Supprime les caractères en fin de chaine, tels que spécifiés par x|\n",
    "|`s.strip()`|Supprime les espaces en début et fin de chaine|\n",
    "|`s.strip(x)`|Supprime les caractères en début et fin de chaine, tels que spécifiés par x|\n",
    "|`s.center(n,x)`|Centre la chaine sur n caractères, et comble les trous avec x|\n",
    "|`s.ljust(n,x)`|Aligne la chaine à gauche sur n caractères, et comble les trous avec x|\n",
    "|`s.rjust(n,x)`|Aligne la chaine à droite sur n caractères, et comble les trous avec x|\n",
    "|`s.replace(x,y)`|Dans la chaine s, remplace x par y|\n",
    "|`s.split()`|Découpe la chaine aux espaces. Morceaux mis dans une liste|\n",
    "|`s.split(x)`|Découpe la chaine au séparateur x. Morceaux mis dans une liste|\n",
    "|`s.isupper()`|`True` si tout en majuscules|\n",
    "|`s.islower()`|`True` si tout en minuscules|\n",
    "|`s.isalpha()`|`True` si ne contient que des lettres|\n",
    "|`s.isdigit()`|`True` si ne contient que des chiffres|\n",
    "|`s.startswith(x)`|`True` si commence par x|\n",
    "|`s.endswith(x)`|`True` si termine par x|\n",
    "|`s.find(x)`|Indice de la 1<sup>ère</sup> occurence de x, en démarrant de la gauche. Renvoie -1 si x non trouvé.|\n",
    "|`s.rfind(x)`|Indice de la 1<sup>ère</sup> occurence de x, en démarrant de la droite. Renvoie -1 si x non trouvé.|\n",
    "|`s.rindex(x)`|Identique à rfind, sauf qu'il renvoie une erreur si x non trouvé|\n",
    "|`s.count(x,i,j)`|Nombre d'occurence de x dans s, entre les indices i (compris) et j (non compris)|"
   ]
  },
  {
   "cell_type": "markdown",
   "id": "b6f17176",
   "metadata": {},
   "source": [
    "#### Illustration : les bases"
   ]
  },
  {
   "cell_type": "code",
   "execution_count": 68,
   "id": "aacf8274",
   "metadata": {},
   "outputs": [
    {
     "data": {
      "text/plain": [
       "7"
      ]
     },
     "execution_count": 68,
     "metadata": {},
     "output_type": "execute_result"
    }
   ],
   "source": [
    "len(\"Hi you!\")    # Longueur chaine (nombre de caractères)"
   ]
  },
  {
   "cell_type": "code",
   "execution_count": 69,
   "id": "df0fcb6b",
   "metadata": {},
   "outputs": [
    {
     "data": {
      "text/plain": [
       "'Hi you!'"
      ]
     },
     "execution_count": 69,
     "metadata": {},
     "output_type": "execute_result"
    }
   ],
   "source": [
    "\"Hi\"+\" \"+\"you!\"  # Concaténation (mise bout à bout de chaines)"
   ]
  },
  {
   "cell_type": "code",
   "execution_count": 70,
   "id": "7ad73eee",
   "metadata": {},
   "outputs": [
    {
     "data": {
      "text/plain": [
       "'Hey Hey Hey Hey '"
      ]
     },
     "execution_count": 70,
     "metadata": {},
     "output_type": "execute_result"
    }
   ],
   "source": [
    "\"Hey \"*4         # Répétition"
   ]
  },
  {
   "cell_type": "code",
   "execution_count": 71,
   "id": "ec3ed02f",
   "metadata": {},
   "outputs": [
    {
     "data": {
      "text/plain": [
       "True"
      ]
     },
     "execution_count": 71,
     "metadata": {},
     "output_type": "execute_result"
    }
   ],
   "source": [
    "\"tho\" in \"Python\"     # Appartenance de \"tho\" dans le mot \"Python\""
   ]
  },
  {
   "cell_type": "code",
   "execution_count": 72,
   "id": "ac2e0a3b",
   "metadata": {},
   "outputs": [
    {
     "data": {
      "text/plain": [
       "False"
      ]
     },
     "execution_count": 72,
     "metadata": {},
     "output_type": "execute_result"
    }
   ],
   "source": [
    "\"p\" in \"Python\""
   ]
  },
  {
   "cell_type": "code",
   "execution_count": 73,
   "id": "0d7f0b80",
   "metadata": {},
   "outputs": [
    {
     "data": {
      "text/plain": [
       "True"
      ]
     },
     "execution_count": 73,
     "metadata": {},
     "output_type": "execute_result"
    }
   ],
   "source": [
    "\"P\" in \"Python\""
   ]
  },
  {
   "cell_type": "code",
   "execution_count": 74,
   "id": "a6f4b94a",
   "metadata": {},
   "outputs": [
    {
     "data": {
      "text/plain": [
       "False"
      ]
     },
     "execution_count": 74,
     "metadata": {},
     "output_type": "execute_result"
    }
   ],
   "source": [
    "\"Pyon\" in \"Python\""
   ]
  },
  {
   "cell_type": "code",
   "execution_count": 75,
   "id": "e26dfa6d",
   "metadata": {},
   "outputs": [
    {
     "data": {
      "text/plain": [
       "'u'"
      ]
     },
     "execution_count": 75,
     "metadata": {},
     "output_type": "execute_result"
    }
   ],
   "source": [
    "max(\"Anticonstitutionnel\")     # lettre la plus \"grande\" dans l'ordre alphabétique"
   ]
  },
  {
   "cell_type": "markdown",
   "id": "2a7c3ffc",
   "metadata": {},
   "source": [
    "#### Illustration : voyager dans une chaine de caractères"
   ]
  },
  {
   "cell_type": "code",
   "execution_count": 76,
   "id": "c5f2b07b",
   "metadata": {},
   "outputs": [
    {
     "name": "stdout",
     "output_type": "stream",
     "text": [
      "M\n",
      "a\n",
      "s\n",
      "e\n",
      "Mat\n",
      "Mat\n",
      "hématiques\n",
      "éai\n",
      "Mhaqs\n",
      "seuqitaméhtaM\n"
     ]
    }
   ],
   "source": [
    "x=\"Mathématiques\"\n",
    "print(x[0])\n",
    "print(x[1])\n",
    "print(x[-1])      # Dernier indice\n",
    "print(x[-2])\n",
    "print(x[0:3])     # indices 0 à 2\n",
    "print(x[:3])      # Idem\n",
    "print(x[3:])      # De l'indice 3 à la fin\n",
    "print(x[4:9:2])   # Indices 4 à 8 par pas de 2\n",
    "print(x[::3])     # Une lettre sur 3, de gauche à droite\n",
    "print(x[::-1])    # En sens inverse"
   ]
  },
  {
   "cell_type": "markdown",
   "id": "6d012677",
   "metadata": {},
   "source": [
    "#### Illustration : méthodes renvoyant une nouvelle chaine"
   ]
  },
  {
   "cell_type": "code",
   "execution_count": 77,
   "id": "1a20b005",
   "metadata": {},
   "outputs": [
    {
     "data": {
      "text/plain": [
       "'hello'"
      ]
     },
     "execution_count": 77,
     "metadata": {},
     "output_type": "execute_result"
    }
   ],
   "source": [
    "\"HeLLo\".lower()   # met tous les caractères en minuscule"
   ]
  },
  {
   "cell_type": "code",
   "execution_count": 78,
   "id": "c94b415b",
   "metadata": {},
   "outputs": [
    {
     "data": {
      "text/plain": [
       "'HELLO'"
      ]
     },
     "execution_count": 78,
     "metadata": {},
     "output_type": "execute_result"
    }
   ],
   "source": [
    "\"HeLLo\".upper()   # met tous les caractères en majuscule"
   ]
  },
  {
   "cell_type": "markdown",
   "id": "49fbd8b6",
   "metadata": {},
   "source": [
    "#### Illustration : méthodes de test de l'état d'une chaine"
   ]
  },
  {
   "cell_type": "code",
   "execution_count": 87,
   "id": "b28aa457",
   "metadata": {},
   "outputs": [
    {
     "data": {
      "text/plain": [
       "True"
      ]
     },
     "execution_count": 87,
     "metadata": {},
     "output_type": "execute_result"
    }
   ],
   "source": [
    "\"CECI EST EN MAJUSCULE\".isupper()      # islower() existe aussi"
   ]
  },
  {
   "cell_type": "code",
   "execution_count": 88,
   "id": "d23f38d6",
   "metadata": {},
   "outputs": [
    {
     "data": {
      "text/plain": [
       "False"
      ]
     },
     "execution_count": 88,
     "metadata": {},
     "output_type": "execute_result"
    }
   ],
   "source": [
    "\"CECI n'EST pas TOTALEMENT EN MAJUSCULE\".isupper()"
   ]
  },
  {
   "cell_type": "markdown",
   "id": "52925352",
   "metadata": {},
   "source": [
    "#### Illustration : méthodes renvoyant un indice"
   ]
  },
  {
   "cell_type": "markdown",
   "id": "fa32d0a7",
   "metadata": {},
   "source": [
    "Aide en ligne : \n",
    "- Méthode find : https://www.w3schools.com/python/ref_string_find.asp\n",
    "- Méthode rfind : https://www.w3schools.com/python/ref_string_rfind.asp\n",
    "\n",
    "`index` et `rindex` font de même mais produisent une erreur si la chaine n'est pas trouvée. "
   ]
  },
  {
   "cell_type": "code",
   "execution_count": 93,
   "id": "e699ab47",
   "metadata": {},
   "outputs": [
    {
     "data": {
      "text/plain": [
       "1"
      ]
     },
     "execution_count": 93,
     "metadata": {},
     "output_type": "execute_result"
    }
   ],
   "source": [
    "\"Mathématiques\".find(\"a\")       # position du premier \"a\" en démarrant de la gauche (rappel : les indices commencent à 0)"
   ]
  },
  {
   "cell_type": "code",
   "execution_count": 94,
   "id": "14c0f15e",
   "metadata": {},
   "outputs": [
    {
     "data": {
      "text/plain": [
       "2"
      ]
     },
     "execution_count": 94,
     "metadata": {},
     "output_type": "execute_result"
    }
   ],
   "source": [
    "\"Mathématiques\".find(\"t\")      "
   ]
  },
  {
   "cell_type": "code",
   "execution_count": 96,
   "id": "f18b7185",
   "metadata": {},
   "outputs": [
    {
     "data": {
      "text/plain": [
       "-1"
      ]
     },
     "execution_count": 96,
     "metadata": {},
     "output_type": "execute_result"
    }
   ],
   "source": [
    "\"Mathématiques\".find(\"z\")         # \"z\" non trouvé => -1"
   ]
  }
 ],
 "metadata": {
  "kernelspec": {
   "display_name": "Python 3 (ipykernel)",
   "language": "python",
   "name": "python3"
  },
  "language_info": {
   "codemirror_mode": {
    "name": "ipython",
    "version": 3
   },
   "file_extension": ".py",
   "mimetype": "text/x-python",
   "name": "python",
   "nbconvert_exporter": "python",
   "pygments_lexer": "ipython3",
   "version": "3.10.9"
  }
 },
 "nbformat": 4,
 "nbformat_minor": 5
}
