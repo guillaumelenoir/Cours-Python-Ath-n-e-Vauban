{
 "cells": [
  {
   "cell_type": "markdown",
   "id": "84e05adc",
   "metadata": {},
   "source": [
    "# <span style=\"color:green\"><ins>Chapitre 4: Structures de contrôle et fonctions</ins></span>"
   ]
  },
  {
   "cell_type": "code",
   "execution_count": 105,
   "id": "f6c9ebba",
   "metadata": {},
   "outputs": [],
   "source": [
    "import numpy as np\n",
    "import matplotlib.pyplot as plt\n",
    "import scipy.optimize as sciop"
   ]
  },
  {
   "cell_type": "markdown",
   "id": "e73ba4bd",
   "metadata": {},
   "source": [
    "## 4.1 Contrôle conditionnel : if, elif, else"
   ]
  },
  {
   "cell_type": "markdown",
   "id": "0d2fab41",
   "metadata": {},
   "source": [
    "Les structures conditionnelles permettent de sélectionner quel bloc de code exécuter si telle ou telle condition est vraie (condition logique True). "
   ]
  },
  {
   "cell_type": "markdown",
   "id": "9b898750",
   "metadata": {},
   "source": [
    "### Structure if simple"
   ]
  },
  {
   "cell_type": "markdown",
   "id": "4c0b37bf",
   "metadata": {},
   "source": [
    "#### Syntaxe"
   ]
  },
  {
   "cell_type": "markdown",
   "id": "6aab0b89",
   "metadata": {},
   "source": [
    "```\n",
    "if (condition logique):\n",
    "    # instructions exécutées si la condition est vraie (True)\n",
    "```"
   ]
  },
  {
   "cell_type": "markdown",
   "id": "90b07b7e",
   "metadata": {},
   "source": [
    "On remarque que, contrairement à d'autres langages, le bloc if ne se termine pas par un \"end\". Par contre, il est **obligatoire** d'indenter le bloc de code sous le if, et de terminer l'indentation lorsque qu'on sort du bloc, l'interpréteur Python sait alors où finit le bloc. Par convention, cette indentation est composée de 4 espaces ou de la touche tab du clavier, mais ne pas mélanger les deux (soit 4 espaces partout, soit tab partout). "
   ]
  },
  {
   "cell_type": "markdown",
   "id": "ccd9d780",
   "metadata": {},
   "source": [
    "Si l'instruction tient sur une ligne, on peut aussi tout écrire sur une seule ligne :"
   ]
  },
  {
   "cell_type": "markdown",
   "id": "94c4c749",
   "metadata": {},
   "source": [
    "```\n",
    "if (condition logique): # instruction exécutée si la condition est vraie\n",
    "```"
   ]
  },
  {
   "cell_type": "markdown",
   "id": "60558f8f",
   "metadata": {},
   "source": [
    "#### Exemple"
   ]
  },
  {
   "cell_type": "code",
   "execution_count": 2,
   "id": "b0ebb728",
   "metadata": {},
   "outputs": [
    {
     "name": "stdout",
     "output_type": "stream",
     "text": [
      "0.7860367583723816\n",
      "x est plus grand que 0.5\n"
     ]
    }
   ],
   "source": [
    "x=np.random.uniform()        # nombre entre 0 et 1 choisi aléatoirement dans une distribution uniforme\n",
    "print(x)\n",
    "if x>=.5 : print(\"x est plus grand que 0.5\")"
   ]
  },
  {
   "cell_type": "markdown",
   "id": "85d2ef23",
   "metadata": {},
   "source": [
    "### Structure if avec plusieurs choix"
   ]
  },
  {
   "cell_type": "markdown",
   "id": "c71bced1",
   "metadata": {},
   "source": [
    "#### Syntaxe"
   ]
  },
  {
   "cell_type": "markdown",
   "id": "eca65131",
   "metadata": {},
   "source": [
    "On peut spécifier dans un bloc \"else\" ce qu'il faut exécuter si la condition du bloc if est fausse (False). "
   ]
  },
  {
   "cell_type": "markdown",
   "id": "b77a28a3",
   "metadata": {},
   "source": [
    "```\n",
    "if (condition logique):\n",
    "\n",
    "    # instructions exécutées si la condition est vraie (True)\n",
    "   \n",
    "else:\n",
    "\n",
    "    # instructions exécutées sinon\n",
    "```"
   ]
  },
  {
   "cell_type": "markdown",
   "id": "a58c5aa4",
   "metadata": {},
   "source": [
    "S'il y a plusieurs conditions à tester, on utilise la syntaxe suivante :"
   ]
  },
  {
   "cell_type": "markdown",
   "id": "985b16eb",
   "metadata": {},
   "source": [
    "```\n",
    "if (condition logique 1):\n",
    "\n",
    "    # instructions exécutées si la condition 1 est vraie (True)\n",
    "    \n",
    "elif (condition logique 2):\n",
    "\n",
    "    # instructions exécutées si la condition 2 est vraie (True)\n",
    "    ...\n",
    "    ...\n",
    "    ...\n",
    "\n",
    "else:\n",
    "\n",
    "    # instructions exécutées sinon\n",
    "```"
   ]
  },
  {
   "cell_type": "markdown",
   "id": "93230b71",
   "metadata": {},
   "source": [
    "On peut bien sûr mettre autant de elif qu'on le souhaite. Il n'y a jamais qu'un seul bloc else, qui est facultatif et placé à la fin le cas échéant.<br/>\n",
    "On retiendra que dans ces structures, **un seul bloc conditionnel est exécuté**. Dès lors, si plusieurs conditions sont vraies, **seul le bloc de code de celle qui apparait en premier sera exécuté**, puis le programme sort de la structure conditionnelle."
   ]
  },
  {
   "cell_type": "markdown",
   "id": "20d6a5ea",
   "metadata": {},
   "source": [
    "#### Exemple 1"
   ]
  },
  {
   "cell_type": "code",
   "execution_count": 3,
   "id": "05746379",
   "metadata": {},
   "outputs": [
    {
     "name": "stdout",
     "output_type": "stream",
     "text": [
      "21.95716331992179\n",
      "small\n"
     ]
    }
   ],
   "source": [
    "x=100*np.random.uniform()      # nombre entre 0 et 100 choisi aléatoirement dans une distribution uniforme\n",
    "print(x)\n",
    "if x<30:\n",
    "    print('small')\n",
    "elif x<80:\n",
    "    print('medium')\n",
    "else:\n",
    "    print('large')"
   ]
  },
  {
   "cell_type": "markdown",
   "id": "7e8633b5",
   "metadata": {},
   "source": [
    "#### Exemple 2 : Blocs imbriqués"
   ]
  },
  {
   "cell_type": "code",
   "execution_count": 4,
   "id": "14a2b8eb",
   "metadata": {},
   "outputs": [
    {
     "name": "stdout",
     "output_type": "stream",
     "text": [
      "Donnez une température (°C) :14\n",
      "Température (°C) :14.0\n",
      "Température positive\n",
      "doux\n",
      "Je sors du if interne\n",
      "je sors du if externe\n"
     ]
    }
   ],
   "source": [
    "t=float(input(\"Donnez une température (°C) :\"))          # Répondre à la requête...\n",
    "print(\"Température (°C) :\"+str(t))\n",
    "if t<=0:\n",
    "    print(\"risque de gel\")\n",
    "else:\n",
    "    print(\"Température positive\")\n",
    "    if t>20:\n",
    "        print(\"chaud\")\n",
    "    elif t>10:\n",
    "        print(\"doux\")\n",
    "    else:\n",
    "        print(\"froid\")\n",
    "    print(\"Je sors du if interne\")\n",
    "print(\"je sors du if externe\")"
   ]
  },
  {
   "cell_type": "markdown",
   "id": "2059accf",
   "metadata": {},
   "source": [
    "## 4.2 Contrôle de boucle avec itérables : for"
   ]
  },
  {
   "cell_type": "markdown",
   "id": "df86de6c",
   "metadata": {},
   "source": [
    "Comme pour les blocs if, il n'y a pas de \"end\" mais l'indentation dans le bloc est obligatoire. "
   ]
  },
  {
   "cell_type": "markdown",
   "id": "0f5b7cdf",
   "metadata": {},
   "source": [
    "### Parcourir un conteneur d'entiers avec range"
   ]
  },
  {
   "cell_type": "markdown",
   "id": "a3a58eb4",
   "metadata": {},
   "source": [
    "C'est le conteneur le plus utilisé en programmation scientifique. "
   ]
  },
  {
   "cell_type": "code",
   "execution_count": 5,
   "id": "83c7c09a",
   "metadata": {},
   "outputs": [
    {
     "name": "stdout",
     "output_type": "stream",
     "text": [
      "0\n",
      "1\n",
      "2\n",
      "3\n"
     ]
    }
   ],
   "source": [
    "for k in range(4):\n",
    "    print(k)"
   ]
  },
  {
   "cell_type": "code",
   "execution_count": 6,
   "id": "ba296b08",
   "metadata": {},
   "outputs": [
    {
     "name": "stdout",
     "output_type": "stream",
     "text": [
      "2\n",
      "3\n",
      "4\n",
      "5\n"
     ]
    }
   ],
   "source": [
    "for k in range(2,6):\n",
    "    print(k)"
   ]
  },
  {
   "cell_type": "code",
   "execution_count": 7,
   "id": "fc851e4f",
   "metadata": {},
   "outputs": [
    {
     "name": "stdout",
     "output_type": "stream",
     "text": [
      "0\n",
      "2\n",
      "4\n",
      "6\n",
      "8\n"
     ]
    }
   ],
   "source": [
    "for k in range(0,9,2):\n",
    "    print(k)"
   ]
  },
  {
   "cell_type": "code",
   "execution_count": 8,
   "id": "f6d331f7",
   "metadata": {},
   "outputs": [
    {
     "name": "stdout",
     "output_type": "stream",
     "text": [
      "8\n",
      "6\n",
      "4\n",
      "2\n"
     ]
    }
   ],
   "source": [
    "for k in range(8,0,-2):\n",
    "    print(k)"
   ]
  },
  {
   "cell_type": "markdown",
   "id": "a2564753",
   "metadata": {},
   "source": [
    "### Pacourir d'autres conteneurs"
   ]
  },
  {
   "cell_type": "code",
   "execution_count": 9,
   "id": "225b4d5f",
   "metadata": {},
   "outputs": [
    {
     "name": "stdout",
     "output_type": "stream",
     "text": [
      "c\n",
      "i\n",
      "a\n",
      "o\n"
     ]
    }
   ],
   "source": [
    "for x in \"ciao\":\n",
    "    print(x)"
   ]
  },
  {
   "cell_type": "code",
   "execution_count": 10,
   "id": "282edf61",
   "metadata": {},
   "outputs": [
    {
     "name": "stdout",
     "output_type": "stream",
     "text": [
      "2 4\n",
      "a aa\n",
      "3.141592653589793 6.283185307179586\n"
     ]
    }
   ],
   "source": [
    "for x in [2,'a',np.pi]:\n",
    "    print(x,x*2)"
   ]
  },
  {
   "cell_type": "markdown",
   "id": "325acaf0",
   "metadata": {},
   "source": [
    "### Exemple 1"
   ]
  },
  {
   "cell_type": "code",
   "execution_count": 11,
   "id": "f76bad0f",
   "metadata": {},
   "outputs": [
    {
     "name": "stdout",
     "output_type": "stream",
     "text": [
      "La valeur de i est -5\n",
      "La valeur de i est -4\n",
      "La valeur de i est -3\n",
      "La valeur de i est -2\n",
      "La valeur de i est -1\n",
      "La valeur de i est 0\n",
      "La valeur de i est 1\n",
      "La valeur de i est 2\n",
      "La valeur de i est 3\n",
      "La valeur de i est 4\n",
      "La valeur de i est 5\n"
     ]
    }
   ],
   "source": [
    "for i in range(-5,6):\n",
    "    print(\"La valeur de i est \"+str(i))"
   ]
  },
  {
   "cell_type": "markdown",
   "id": "1b83b68a",
   "metadata": {},
   "source": [
    "### Exemple 2"
   ]
  },
  {
   "cell_type": "code",
   "execution_count": 12,
   "id": "5cc26cf6",
   "metadata": {},
   "outputs": [
    {
     "name": "stdout",
     "output_type": "stream",
     "text": [
      "[[ 2.  3.  4.  5.  6.]\n",
      " [ 3.  4.  5.  6.  7.]\n",
      " [ 4.  5.  6.  7.  8.]\n",
      " [ 5.  6.  7.  8.  9.]\n",
      " [ 6.  7.  8.  9. 10.]]\n"
     ]
    }
   ],
   "source": [
    "A=np.zeros((5,5))     # Matrice de 0 5x5\n",
    "for i in range(5):\n",
    "    for j in range(5):\n",
    "        A[i,j]=2+i+j\n",
    "print(A)"
   ]
  },
  {
   "cell_type": "markdown",
   "id": "fc388018",
   "metadata": {},
   "source": [
    "Notez qu’on a initialisé la matrice avant les boucles (matrice de zéros) afin de fixer sa taille. Il est toujours préférable de procéder de la sorte lorsque c'est possible. "
   ]
  },
  {
   "cell_type": "markdown",
   "id": "568effaa",
   "metadata": {},
   "source": [
    "### Exemple 3"
   ]
  },
  {
   "cell_type": "code",
   "execution_count": 13,
   "id": "e66f7fef",
   "metadata": {},
   "outputs": [
    {
     "name": "stdout",
     "output_type": "stream",
     "text": [
      "10\n"
     ]
    }
   ],
   "source": [
    "nb_voyelles=0\n",
    "for lettre in \"Python est un langage fort sympa\":\n",
    "    if lettre.lower() in \"aeiouy\":\n",
    "        nb_voyelles+=1\n",
    "print(nb_voyelles)"
   ]
  },
  {
   "cell_type": "markdown",
   "id": "ff03084b",
   "metadata": {},
   "source": [
    "## 4.3 Contrôle de boucle avec répétition sous condition : while"
   ]
  },
  {
   "cell_type": "markdown",
   "id": "d65a7a95",
   "metadata": {},
   "source": [
    "### Syntaxe"
   ]
  },
  {
   "cell_type": "markdown",
   "id": "4c596a6b",
   "metadata": {},
   "source": [
    "```\n",
    "while (condition logique):\n",
    "\n",
    "    # instructions exécutées si la condition est vraie (True)\n",
    "```"
   ]
  },
  {
   "cell_type": "markdown",
   "id": "2490c076",
   "metadata": {},
   "source": [
    "On répète les instructions dans le while tant que la condition est vraie (True). Plus précisément, le bloc de code dans le while est exécuté si la condition est vraie, et une fois **tout** le bloc exécuté, Python revérifie la condition. Tant que cette condition reste vraie, le bloc continue à être exécuté. Dès lors, pour sortir du while, il faut soit que la condition devienne fausse (False) ou bien forcer la sortie avec \"break\" (voir section suivante).<br/>\n",
    "Comme pour les blocs if et for, il n'y a pas de \"end\" mais l'indentation dans le bloc est obligatoire.<br/>\n",
    "En général, on a le choix entre des boucles for et des boucles while lorsqu'on conçoit un algorithme. "
   ]
  },
  {
   "cell_type": "markdown",
   "id": "97b5a445",
   "metadata": {},
   "source": [
    "### Exemple 1"
   ]
  },
  {
   "cell_type": "code",
   "execution_count": null,
   "id": "d36e4565",
   "metadata": {},
   "outputs": [],
   "source": [
    "while True:\n",
    "    print(\"Ceci est une boucle sans fin !!!\")"
   ]
  },
  {
   "cell_type": "markdown",
   "id": "6b9d4bbe",
   "metadata": {},
   "source": [
    "### Exemple 2 (approximation du log2 d'un nombre)"
   ]
  },
  {
   "cell_type": "code",
   "execution_count": 15,
   "id": "a55d88a9",
   "metadata": {},
   "outputs": [
    {
     "name": "stdout",
     "output_type": "stream",
     "text": [
      "Rentrez un nombre réel positif : 57\n",
      "L'entier plus petit ou égal à log2(57.0) vaut 5\n"
     ]
    }
   ],
   "source": [
    "x=float(input(\"Rentrez un nombre réel positif : \"))\n",
    "compteur=0\n",
    "sauv=x\n",
    "while x>1:\n",
    "    x=x//2          # division entière\n",
    "    compteur+=1\n",
    "print(\"L'entier plus petit ou égal à log2(\"+str(sauv)+\") vaut \"+str(compteur))"
   ]
  },
  {
   "cell_type": "markdown",
   "id": "34ecfdb9",
   "metadata": {},
   "source": [
    "### Exemple 3"
   ]
  },
  {
   "cell_type": "markdown",
   "id": "a7469c0c",
   "metadata": {},
   "source": [
    "On utilise souvent l'exemple suivant lorsqu'on demande une valeur à l'utilisateur. La boucle s'arrête lorsque l'utilisateur a fourni une valeur correcte. "
   ]
  },
  {
   "cell_type": "code",
   "execution_count": 16,
   "id": "3e10cac2",
   "metadata": {},
   "outputs": [
    {
     "name": "stdout",
     "output_type": "stream",
     "text": [
      "Entrez une valeur comprise entre 1 et 10 : 90.8\n",
      "Entrez une valeur comprise entre 1 et 10 : -8\n",
      "Entrez une valeur comprise entre 1 et 10 : 7\n",
      "Vous avez choisi 7\n"
     ]
    }
   ],
   "source": [
    "x=0\n",
    "while float(x)<1 or float(x)>10:\n",
    "    x=input('Entrez une valeur comprise entre 1 et 10 : ')\n",
    "    # répondre à la requête en donnant plusieurs valeurs non comprises dans cet intervalle, puis une dans l'intervalle\n",
    "print(\"Vous avez choisi \"+str(x))"
   ]
  },
  {
   "cell_type": "markdown",
   "id": "6b3b1719",
   "metadata": {},
   "source": [
    "## 4.4 Ruptures de séquences"
   ]
  },
  {
   "cell_type": "markdown",
   "id": "ae6ba225",
   "metadata": {},
   "source": [
    "Elles s'appliquent aux boucles `for` ou `while`."
   ]
  },
  {
   "cell_type": "markdown",
   "id": "cf166715",
   "metadata": {},
   "source": [
    "- L'instruction `break` permet de sortir prématurément de la boucle. \n",
    "- L'instruction `continue` permet de passer à l'itération suivante sans achever le bloc de code de l'itération en cours. \n",
    "\n",
    "Dans des boucles imbriquées, la rupture de séquence porte uniquement sur la boucle au sein de laquelle elle est utilisée."
   ]
  },
  {
   "cell_type": "markdown",
   "id": "9ab442ed",
   "metadata": {},
   "source": [
    "Pour quitter un programme python, on utilise quit() ou exit(). On évitera de les utiliser dans jupyter notebook. "
   ]
  },
  {
   "cell_type": "markdown",
   "id": "d73dd018",
   "metadata": {},
   "source": [
    "### Exemple 1 (bien comprendre !!!)"
   ]
  },
  {
   "cell_type": "code",
   "execution_count": 17,
   "id": "b1287bf8",
   "metadata": {},
   "outputs": [
    {
     "name": "stdout",
     "output_type": "stream",
     "text": [
      "La valeur de i est -5\n",
      "La valeur de i est -4\n",
      "La valeur de i est -3\n",
      "La valeur de i est -2\n",
      "La valeur de i est -1\n",
      "La valeur de i est 1\n",
      "La valeur de i est 2\n",
      "La valeur de i est 3\n"
     ]
    }
   ],
   "source": [
    "for i in range(-5,6):\n",
    "    if i==0:\n",
    "        continue\n",
    "    print(\"La valeur de i est \"+str(i))\n",
    "    if i==3:\n",
    "        break"
   ]
  },
  {
   "cell_type": "markdown",
   "id": "8327b4d7",
   "metadata": {},
   "source": [
    "### Exemple 2"
   ]
  },
  {
   "cell_type": "code",
   "execution_count": 18,
   "id": "7f56c87b",
   "metadata": {},
   "outputs": [
    {
     "name": "stdout",
     "output_type": "stream",
     "text": [
      "101\n"
     ]
    }
   ],
   "source": [
    "x=0\n",
    "while True: # cette condition est évidemment toujours vraie...\n",
    "    x+=1\n",
    "    if x>100: break\n",
    "print(x)"
   ]
  },
  {
   "cell_type": "markdown",
   "id": "3446ce21",
   "metadata": {},
   "source": [
    "Le code suivant donne le même résultat :"
   ]
  },
  {
   "cell_type": "code",
   "execution_count": 19,
   "id": "c8f6ccac",
   "metadata": {},
   "outputs": [
    {
     "name": "stdout",
     "output_type": "stream",
     "text": [
      "101\n"
     ]
    }
   ],
   "source": [
    "x=0\n",
    "while x<=100:\n",
    "    x+=1\n",
    "print(x)"
   ]
  },
  {
   "cell_type": "markdown",
   "id": "53a4fe6c",
   "metadata": {},
   "source": [
    "## 4.5 Les fonctions"
   ]
  },
  {
   "cell_type": "markdown",
   "id": "ce9ea23a",
   "metadata": {},
   "source": [
    "Il existe deux types de fonctions :<ul> \n",
    "    <li>les fonctions internes à Python (built-in functions)</li>\n",
    "    <li>les fonctions que l'on code, avec `def`</li>\n",
    "    </ul>"
   ]
  },
  {
   "cell_type": "markdown",
   "id": "778aac8a",
   "metadata": {},
   "source": [
    "Les fonctions prédéfinies de python sont listées sous le lien suivant :\n",
    "\n",
    "https://docs.python.org/3/library/functions.html\n",
    "\n",
    "Nous avons déjà rencontré certaines de ces fonctions : abs, bool, float, help, len, print, ..."
   ]
  },
  {
   "cell_type": "markdown",
   "id": "7cc5dcea",
   "metadata": {},
   "source": [
    "Chaque librairie importée possède aussi ses fonctions prédéfinies (par exemple, `sqrt` dans numpy). Voici les liens vers les fonctions prédéfinies de 3 librairies les plus utilisées :\n",
    "- https://numpy.org/doc/stable/reference/index.html\n",
    "- https://docs.scipy.org/doc/scipy/reference/\n",
    "- https://matplotlib.org/stable/api/pyplot_summary.html#module-matplotlib.pyplot"
   ]
  },
  {
   "cell_type": "markdown",
   "id": "a6d24475",
   "metadata": {},
   "source": [
    "### Syntaxe de base"
   ]
  },
  {
   "cell_type": "markdown",
   "id": "0e958b39",
   "metadata": {},
   "source": [
    "Pour définir une fonction :"
   ]
  },
  {
   "cell_type": "markdown",
   "id": "becbc5f2",
   "metadata": {},
   "source": [
    "```\n",
    "def nom_de_ma_fonction(x,y,a,d):               # x,y,a,d = inputs         \n",
    "    \"\"\"documentation\"\"\"\n",
    "    # bloc de code\n",
    "    return c,b,f                               # c,b,f = outputs\n",
    "    # plus de code ici ! return => on sort de la fonction\n",
    "```"
   ]
  },
  {
   "cell_type": "markdown",
   "id": "db84cd3e",
   "metadata": {},
   "source": [
    "On notera que les inputs et outputs peuvent être n'importe quels objets : constantes de tous types, listes de valeurs, tableaux ou matrices, autres fonctions, ..."
   ]
  },
  {
   "cell_type": "markdown",
   "id": "01c907a2",
   "metadata": {},
   "source": [
    "Pour appeler cette fonction : "
   ]
  },
  {
   "cell_type": "markdown",
   "id": "b12d3659",
   "metadata": {},
   "source": [
    "```\n",
    "c,b,f=nom_de_ma_fonction(x,y,a,d)\n",
    "```"
   ]
  },
  {
   "cell_type": "markdown",
   "id": "1f9a4edc",
   "metadata": {},
   "source": [
    "Lorsqu'on appelle la fonction, les paramètres (ici : c,b,f,x,y,a,d) peuvent porter un autre nom mais doivent être mis dans le bon ordre."
   ]
  },
  {
   "cell_type": "markdown",
   "id": "92280b2d",
   "metadata": {},
   "source": [
    "### Exemple 1 : 1 input et 1 output"
   ]
  },
  {
   "cell_type": "code",
   "execution_count": 20,
   "id": "a64d7b0a",
   "metadata": {},
   "outputs": [],
   "source": [
    "def log5(x):\n",
    "    \"\"\"Fonction qui renvoie le logarithme en base 5 d'un scalaire x>0\"\"\"\n",
    "    import numpy as np          # Facultatif si déjà importé en dehors de la fonction\n",
    "    return np.log(x)/np.log(5)"
   ]
  },
  {
   "cell_type": "code",
   "execution_count": 21,
   "id": "49256232",
   "metadata": {},
   "outputs": [
    {
     "name": "stdout",
     "output_type": "stream",
     "text": [
      "4.0\n"
     ]
    }
   ],
   "source": [
    "y=log5(625)\n",
    "print(y)              # ou directement : print(log5(625))"
   ]
  },
  {
   "cell_type": "code",
   "execution_count": 22,
   "id": "eedf70db",
   "metadata": {},
   "outputs": [
    {
     "name": "stdout",
     "output_type": "stream",
     "text": [
      "Help on function log5 in module __main__:\n",
      "\n",
      "log5(x)\n",
      "    Fonction qui renvoie le logarithme en base 5 d'un scalaire x>0\n",
      "\n"
     ]
    }
   ],
   "source": [
    "help(log5)"
   ]
  },
  {
   "cell_type": "markdown",
   "id": "2455443a",
   "metadata": {},
   "source": [
    "### Exemple 2 : plusieurs inputs et plusieurs outputs"
   ]
  },
  {
   "cell_type": "code",
   "execution_count": 23,
   "id": "7520feaf",
   "metadata": {},
   "outputs": [],
   "source": [
    "def surface_volume_cylindre(r,H):\n",
    "    \"\"\"Fonction qui renvoie la surface et le volume d'un cylindre de rayon r et de hauteur H\"\"\"\n",
    "    import numpy as np\n",
    "    S=2*np.pi*r*H\n",
    "    V=np.pi*r**2*H\n",
    "    return S,V"
   ]
  },
  {
   "cell_type": "code",
   "execution_count": 24,
   "id": "439b2484",
   "metadata": {},
   "outputs": [
    {
     "name": "stdout",
     "output_type": "stream",
     "text": [
      "353.4920053819235 1025.1268156075782\n"
     ]
    }
   ],
   "source": [
    "Surface,Volume = surface_volume_cylindre(5.8,9.7)    \n",
    "print(Surface,Volume)"
   ]
  },
  {
   "cell_type": "markdown",
   "id": "d441865b",
   "metadata": {},
   "source": [
    "On peut nommer les inputs pour s'y retrouver ou si on veut les mettre dans un ordre différent :"
   ]
  },
  {
   "cell_type": "code",
   "execution_count": 25,
   "id": "091214cf",
   "metadata": {},
   "outputs": [
    {
     "name": "stdout",
     "output_type": "stream",
     "text": [
      "353.4920053819235 1025.1268156075782\n"
     ]
    }
   ],
   "source": [
    "Surface,Volume = surface_volume_cylindre(H=9.7,r=5.8)\n",
    "print(Surface,Volume)"
   ]
  },
  {
   "cell_type": "markdown",
   "id": "44ea6e89",
   "metadata": {},
   "source": [
    "Les outputs multiples peuvent être encapsulés :"
   ]
  },
  {
   "cell_type": "code",
   "execution_count": 26,
   "id": "f563f9a8",
   "metadata": {},
   "outputs": [],
   "source": [
    "y = surface_volume_cylindre(5.8,9.7)"
   ]
  },
  {
   "cell_type": "markdown",
   "id": "63459bee",
   "metadata": {},
   "source": [
    "puis décapsulés :"
   ]
  },
  {
   "cell_type": "code",
   "execution_count": 27,
   "id": "2fca3bab",
   "metadata": {},
   "outputs": [
    {
     "name": "stdout",
     "output_type": "stream",
     "text": [
      "353.4920053819235\n",
      "1025.1268156075782\n"
     ]
    }
   ],
   "source": [
    "print(y[0])\n",
    "print(y[1])"
   ]
  },
  {
   "cell_type": "markdown",
   "id": "cc6a2271",
   "metadata": {},
   "source": [
    "Les outputs sont en fait encapsulés dans un tuple :"
   ]
  },
  {
   "cell_type": "code",
   "execution_count": 28,
   "id": "7bd73dae",
   "metadata": {},
   "outputs": [
    {
     "data": {
      "text/plain": [
       "tuple"
      ]
     },
     "execution_count": 28,
     "metadata": {},
     "output_type": "execute_result"
    }
   ],
   "source": [
    "type(y)"
   ]
  },
  {
   "cell_type": "markdown",
   "id": "847e2078",
   "metadata": {},
   "source": [
    "### Exemple 3 : pas d'input ni d'output"
   ]
  },
  {
   "cell_type": "code",
   "execution_count": 29,
   "id": "d2a31ef4",
   "metadata": {},
   "outputs": [],
   "source": [
    "def graphe_val_abs():\n",
    "    \"\"\"Fonction qui renvoie le graphe de $f(x)=abs(x)$ entre $x=-5$ et $x=5$\"\"\"\n",
    "    import matplotlib.pyplot as plt\n",
    "    x=np.linspace(-5,5,1000)\n",
    "    plt.plot(x,abs(x),\"b\")\n",
    "    plt.grid()\n",
    "    plt.xlabel(\"x\")\n",
    "    plt.ylabel(\"y\")\n",
    "    plt.title(\"Valeur absolue de x\")"
   ]
  },
  {
   "cell_type": "code",
   "execution_count": 30,
   "id": "df78f9ab",
   "metadata": {},
   "outputs": [
    {
     "data": {
      "image/png": "[encoded data removed]",
      "text/plain": [
       "<Figure size 640x480 with 1 Axes>"
      ]
     },
     "metadata": {},
     "output_type": "display_data"
    }
   ],
   "source": [
    "graphe_val_abs()"
   ]
  },
  {
   "cell_type": "markdown",
   "id": "e01870d4",
   "metadata": {},
   "source": [
    "Lorsqu'il n'y a pas d'output, la fonction renvoie `None` :"
   ]
  },
  {
   "cell_type": "code",
   "execution_count": 31,
   "id": "da8d21b9",
   "metadata": {},
   "outputs": [
    {
     "name": "stdout",
     "output_type": "stream",
     "text": [
      "None\n"
     ]
    },
    {
     "data": {
      "image/png": "[encoded data removed]",
      "text/plain": [
       "<Figure size 640x480 with 1 Axes>"
      ]
     },
     "metadata": {},
     "output_type": "display_data"
    }
   ],
   "source": [
    "y=graphe_val_abs()\n",
    "print(y)"
   ]
  },
  {
   "cell_type": "markdown",
   "id": "1dc56c3a",
   "metadata": {},
   "source": [
    "### Exemple 4 : ce qui est défini dans une fonction n'est pas accessible depuis l'extérieur (boite noire)"
   ]
  },
  {
   "cell_type": "markdown",
   "id": "f452ac27",
   "metadata": {},
   "source": [
    "Les seuls objets accessibles sont ceux renvoyés par `return`. Tous les autres objets définis dans le corps d'une fonction ne sont pas accessibles depuis l'extérieur de votre fonction. "
   ]
  },
  {
   "cell_type": "code",
   "execution_count": 32,
   "id": "351b97ac",
   "metadata": {},
   "outputs": [],
   "source": [
    "def ma_fonction(x,y):\n",
    "    zz=x+y\n",
    "    return x*y"
   ]
  },
  {
   "cell_type": "code",
   "execution_count": 33,
   "id": "51c2f912",
   "metadata": {},
   "outputs": [
    {
     "name": "stdout",
     "output_type": "stream",
     "text": [
      "12\n"
     ]
    }
   ],
   "source": [
    "m=ma_fonction(3,4)\n",
    "print(m)"
   ]
  },
  {
   "cell_type": "code",
   "execution_count": 34,
   "id": "822cfde3",
   "metadata": {},
   "outputs": [
    {
     "ename": "NameError",
     "evalue": "name 'zz' is not defined",
     "output_type": "error",
     "traceback": [
      "\u001b[0;31m---------------------------------------------------------------------------\u001b[0m",
      "\u001b[0;31mNameError\u001b[0m                                 Traceback (most recent call last)",
      "Cell \u001b[0;32mIn[34], line 1\u001b[0m\n\u001b[0;32m----> 1\u001b[0m \u001b[38;5;28mprint\u001b[39m(\u001b[43mzz\u001b[49m)\n",
      "\u001b[0;31mNameError\u001b[0m: name 'zz' is not defined"
     ]
    }
   ],
   "source": [
    "print(zz)   # z pas accessible depuis l'extérieur de la fonction => erreur"
   ]
  },
  {
   "cell_type": "markdown",
   "id": "cc5138ab",
   "metadata": {},
   "source": [
    "### Obtenir le code source d'une fonction"
   ]
  },
  {
   "cell_type": "markdown",
   "id": "5b697493",
   "metadata": {},
   "source": [
    "Il est parfois intéressant de pouvoir lire le code source des fonctions internes à Python. Par exemple, pour lire le code source de la fonction interp1d de scipy.interpolate, on code :"
   ]
  },
  {
   "cell_type": "code",
   "execution_count": 35,
   "id": "172a6aa1",
   "metadata": {},
   "outputs": [
    {
     "name": "stdout",
     "output_type": "stream",
     "text": [
      "class interp1d(_Interpolator1D):\n",
      "    \"\"\"\n",
      "    Interpolate a 1-D function.\n",
      "\n",
      "    `x` and `y` are arrays of values used to approximate some function f:\n",
      "    ``y = f(x)``. This class returns a function whose call method uses\n",
      "    interpolation to find the value of new points.\n",
      "\n",
      "    Parameters\n",
      "    ----------\n",
      "    x : (N,) array_like\n",
      "        A 1-D array of real values.\n",
      "    y : (...,N,...) array_like\n",
      "        A N-D array of real values. The length of `y` along the interpolation\n",
      "        axis must be equal to the length of `x`.\n",
      "    kind : str or int, optional\n",
      "        Specifies the kind of interpolation as a string or as an integer\n",
      "        specifying the order of the spline interpolator to use.\n",
      "        The string has to be one of 'linear', 'nearest', 'nearest-up', 'zero',\n",
      "        'slinear', 'quadratic', 'cubic', 'previous', or 'next'. 'zero',\n",
      "        'slinear', 'quadratic' and 'cubic' refer to a spline interpolation of\n",
      "        zeroth, first, second or third order; 'previous' and 'next' simply\n",
      "        return the previous or next value of the point; 'nearest-up' and\n",
      "        'nearest' differ when interpolating half-integers (e.g. 0.5, 1.5)\n",
      "        in that 'nearest-up' rounds up and 'nearest' rounds down. Default\n",
      "        is 'linear'.\n",
      "    axis : int, optional\n",
      "        Specifies the axis of `y` along which to interpolate.\n",
      "        Interpolation defaults to the last axis of `y`.\n",
      "    copy : bool, optional\n",
      "        If True, the class makes internal copies of x and y.\n",
      "        If False, references to `x` and `y` are used. The default is to copy.\n",
      "    bounds_error : bool, optional\n",
      "        If True, a ValueError is raised any time interpolation is attempted on\n",
      "        a value outside of the range of x (where extrapolation is\n",
      "        necessary). If False, out of bounds values are assigned `fill_value`.\n",
      "        By default, an error is raised unless ``fill_value=\"extrapolate\"``.\n",
      "    fill_value : array-like or (array-like, array_like) or \"extrapolate\", optional\n",
      "        - if a ndarray (or float), this value will be used to fill in for\n",
      "          requested points outside of the data range. If not provided, then\n",
      "          the default is NaN. The array-like must broadcast properly to the\n",
      "          dimensions of the non-interpolation axes.\n",
      "        - If a two-element tuple, then the first element is used as a\n",
      "          fill value for ``x_new < x[0]`` and the second element is used for\n",
      "          ``x_new > x[-1]``. Anything that is not a 2-element tuple (e.g.,\n",
      "          list or ndarray, regardless of shape) is taken to be a single\n",
      "          array-like argument meant to be used for both bounds as\n",
      "          ``below, above = fill_value, fill_value``. Using a two-element tuple\n",
      "          or ndarray requires ``bounds_error=False``.\n",
      "\n",
      "          .. versionadded:: 0.17.0\n",
      "        - If \"extrapolate\", then points outside the data range will be\n",
      "          extrapolated.\n",
      "\n",
      "          .. versionadded:: 0.17.0\n",
      "    assume_sorted : bool, optional\n",
      "        If False, values of `x` can be in any order and they are sorted first.\n",
      "        If True, `x` has to be an array of monotonically increasing values.\n",
      "\n",
      "    Attributes\n",
      "    ----------\n",
      "    fill_value\n",
      "\n",
      "    Methods\n",
      "    -------\n",
      "    __call__\n",
      "\n",
      "    See Also\n",
      "    --------\n",
      "    splrep, splev\n",
      "        Spline interpolation/smoothing based on FITPACK.\n",
      "    UnivariateSpline : An object-oriented wrapper of the FITPACK routines.\n",
      "    interp2d : 2-D interpolation\n",
      "\n",
      "    Notes\n",
      "    -----\n",
      "    Calling `interp1d` with NaNs present in input values results in\n",
      "    undefined behaviour.\n",
      "\n",
      "    Input values `x` and `y` must be convertible to `float` values like\n",
      "    `int` or `float`.\n",
      "\n",
      "    If the values in `x` are not unique, the resulting behavior is\n",
      "    undefined and specific to the choice of `kind`, i.e., changing\n",
      "    `kind` will change the behavior for duplicates.\n",
      "\n",
      "\n",
      "    Examples\n",
      "    --------\n",
      "    >>> import numpy as np\n",
      "    >>> import matplotlib.pyplot as plt\n",
      "    >>> from scipy import interpolate\n",
      "    >>> x = np.arange(0, 10)\n",
      "    >>> y = np.exp(-x/3.0)\n",
      "    >>> f = interpolate.interp1d(x, y)\n",
      "\n",
      "    >>> xnew = np.arange(0, 9, 0.1)\n",
      "    >>> ynew = f(xnew)   # use interpolation function returned by `interp1d`\n",
      "    >>> plt.plot(x, y, 'o', xnew, ynew, '-')\n",
      "    >>> plt.show()\n",
      "    \"\"\"\n",
      "\n",
      "    def __init__(self, x, y, kind='linear', axis=-1,\n",
      "                 copy=True, bounds_error=None, fill_value=np.nan,\n",
      "                 assume_sorted=False):\n",
      "        \"\"\" Initialize a 1-D linear interpolation class.\"\"\"\n",
      "        _Interpolator1D.__init__(self, x, y, axis=axis)\n",
      "\n",
      "        self.bounds_error = bounds_error  # used by fill_value setter\n",
      "        self.copy = copy\n",
      "\n",
      "        if kind in ['zero', 'slinear', 'quadratic', 'cubic']:\n",
      "            order = {'zero': 0, 'slinear': 1,\n",
      "                     'quadratic': 2, 'cubic': 3}[kind]\n",
      "            kind = 'spline'\n",
      "        elif isinstance(kind, int):\n",
      "            order = kind\n",
      "            kind = 'spline'\n",
      "        elif kind not in ('linear', 'nearest', 'nearest-up', 'previous',\n",
      "                          'next'):\n",
      "            raise NotImplementedError(\"%s is unsupported: Use fitpack \"\n",
      "                                      \"routines for other types.\" % kind)\n",
      "        x = array(x, copy=self.copy)\n",
      "        y = array(y, copy=self.copy)\n",
      "\n",
      "        if not assume_sorted:\n",
      "            ind = np.argsort(x, kind=\"mergesort\")\n",
      "            x = x[ind]\n",
      "            y = np.take(y, ind, axis=axis)\n",
      "\n",
      "        if x.ndim != 1:\n",
      "            raise ValueError(\"the x array must have exactly one dimension.\")\n",
      "        if y.ndim == 0:\n",
      "            raise ValueError(\"the y array must have at least one dimension.\")\n",
      "\n",
      "        # Force-cast y to a floating-point type, if it's not yet one\n",
      "        if not issubclass(y.dtype.type, np.inexact):\n",
      "            y = y.astype(np.float_)\n",
      "\n",
      "        # Backward compatibility\n",
      "        self.axis = axis % y.ndim\n",
      "\n",
      "        # Interpolation goes internally along the first axis\n",
      "        self.y = y\n",
      "        self._y = self._reshape_yi(self.y)\n",
      "        self.x = x\n",
      "        del y, x  # clean up namespace to prevent misuse; use attributes\n",
      "        self._kind = kind\n",
      "\n",
      "        # Adjust to interpolation kind; store reference to *unbound*\n",
      "        # interpolation methods, in order to avoid circular references to self\n",
      "        # stored in the bound instance methods, and therefore delayed garbage\n",
      "        # collection.  See: https://docs.python.org/reference/datamodel.html\n",
      "        if kind in ('linear', 'nearest', 'nearest-up', 'previous', 'next'):\n",
      "            # Make a \"view\" of the y array that is rotated to the interpolation\n",
      "            # axis.\n",
      "            minval = 1\n",
      "            if kind == 'nearest':\n",
      "                # Do division before addition to prevent possible integer\n",
      "                # overflow\n",
      "                self._side = 'left'\n",
      "                self.x_bds = self.x / 2.0\n",
      "                self.x_bds = self.x_bds[1:] + self.x_bds[:-1]\n",
      "\n",
      "                self._call = self.__class__._call_nearest\n",
      "            elif kind == 'nearest-up':\n",
      "                # Do division before addition to prevent possible integer\n",
      "                # overflow\n",
      "                self._side = 'right'\n",
      "                self.x_bds = self.x / 2.0\n",
      "                self.x_bds = self.x_bds[1:] + self.x_bds[:-1]\n",
      "\n",
      "                self._call = self.__class__._call_nearest\n",
      "            elif kind == 'previous':\n",
      "                # Side for np.searchsorted and index for clipping\n",
      "                self._side = 'left'\n",
      "                self._ind = 0\n",
      "                # Move x by one floating point value to the left\n",
      "                self._x_shift = np.nextafter(self.x, -np.inf)\n",
      "                self._call = self.__class__._call_previousnext\n",
      "                if _do_extrapolate(fill_value):\n",
      "                    self._check_and_update_bounds_error_for_extrapolation()\n",
      "                    # assume y is sorted by x ascending order here.\n",
      "                    fill_value = (np.nan, np.take(self.y, -1, axis))\n",
      "            elif kind == 'next':\n",
      "                self._side = 'right'\n",
      "                self._ind = 1\n",
      "                # Move x by one floating point value to the right\n",
      "                self._x_shift = np.nextafter(self.x, np.inf)\n",
      "                self._call = self.__class__._call_previousnext\n",
      "                if _do_extrapolate(fill_value):\n",
      "                    self._check_and_update_bounds_error_for_extrapolation()\n",
      "                    # assume y is sorted by x ascending order here.\n",
      "                    fill_value = (np.take(self.y, 0, axis), np.nan)\n",
      "            else:\n",
      "                # Check if we can delegate to numpy.interp (2x-10x faster).\n",
      "                np_types = (np.float_, np.int_)\n",
      "                cond = self.x.dtype in np_types and self.y.dtype in np_types\n",
      "                cond = cond and self.y.ndim == 1\n",
      "                cond = cond and not _do_extrapolate(fill_value)\n",
      "\n",
      "                if cond:\n",
      "                    self._call = self.__class__._call_linear_np\n",
      "                else:\n",
      "                    self._call = self.__class__._call_linear\n",
      "        else:\n",
      "            minval = order + 1\n",
      "\n",
      "            rewrite_nan = False\n",
      "            xx, yy = self.x, self._y\n",
      "            if order > 1:\n",
      "                # Quadratic or cubic spline. If input contains even a single\n",
      "                # nan, then the output is all nans. We cannot just feed data\n",
      "                # with nans to make_interp_spline because it calls LAPACK.\n",
      "                # So, we make up a bogus x and y with no nans and use it\n",
      "                # to get the correct shape of the output, which we then fill\n",
      "                # with nans.\n",
      "                # For slinear or zero order spline, we just pass nans through.\n",
      "                mask = np.isnan(self.x)\n",
      "                if mask.any():\n",
      "                    sx = self.x[~mask]\n",
      "                    if sx.size == 0:\n",
      "                        raise ValueError(\"`x` array is all-nan\")\n",
      "                    xx = np.linspace(np.nanmin(self.x),\n",
      "                                     np.nanmax(self.x),\n",
      "                                     len(self.x))\n",
      "                    rewrite_nan = True\n",
      "                if np.isnan(self._y).any():\n",
      "                    yy = np.ones_like(self._y)\n",
      "                    rewrite_nan = True\n",
      "\n",
      "            self._spline = make_interp_spline(xx, yy, k=order,\n",
      "                                              check_finite=False)\n",
      "            if rewrite_nan:\n",
      "                self._call = self.__class__._call_nan_spline\n",
      "            else:\n",
      "                self._call = self.__class__._call_spline\n",
      "\n",
      "        if len(self.x) < minval:\n",
      "            raise ValueError(\"x and y arrays must have at \"\n",
      "                             \"least %d entries\" % minval)\n",
      "\n",
      "        self.fill_value = fill_value  # calls the setter, can modify bounds_err\n",
      "\n",
      "    @property\n",
      "    def fill_value(self):\n",
      "        \"\"\"The fill value.\"\"\"\n",
      "        # backwards compat: mimic a public attribute\n",
      "        return self._fill_value_orig\n",
      "\n",
      "    @fill_value.setter\n",
      "    def fill_value(self, fill_value):\n",
      "        # extrapolation only works for nearest neighbor and linear methods\n",
      "        if _do_extrapolate(fill_value):\n",
      "            self._check_and_update_bounds_error_for_extrapolation()\n",
      "            self._extrapolate = True\n",
      "        else:\n",
      "            broadcast_shape = (self.y.shape[:self.axis] +\n",
      "                               self.y.shape[self.axis + 1:])\n",
      "            if len(broadcast_shape) == 0:\n",
      "                broadcast_shape = (1,)\n",
      "            # it's either a pair (_below_range, _above_range) or a single value\n",
      "            # for both above and below range\n",
      "            if isinstance(fill_value, tuple) and len(fill_value) == 2:\n",
      "                below_above = [np.asarray(fill_value[0]),\n",
      "                               np.asarray(fill_value[1])]\n",
      "                names = ('fill_value (below)', 'fill_value (above)')\n",
      "                for ii in range(2):\n",
      "                    below_above[ii] = _check_broadcast_up_to(\n",
      "                        below_above[ii], broadcast_shape, names[ii])\n",
      "            else:\n",
      "                fill_value = np.asarray(fill_value)\n",
      "                below_above = [_check_broadcast_up_to(\n",
      "                    fill_value, broadcast_shape, 'fill_value')] * 2\n",
      "            self._fill_value_below, self._fill_value_above = below_above\n",
      "            self._extrapolate = False\n",
      "            if self.bounds_error is None:\n",
      "                self.bounds_error = True\n",
      "        # backwards compat: fill_value was a public attr; make it writeable\n",
      "        self._fill_value_orig = fill_value\n",
      "\n",
      "    def _check_and_update_bounds_error_for_extrapolation(self):\n",
      "        if self.bounds_error:\n",
      "            raise ValueError(\"Cannot extrapolate and raise \"\n",
      "                             \"at the same time.\")\n",
      "        self.bounds_error = False\n",
      "\n",
      "    def _call_linear_np(self, x_new):\n",
      "        # Note that out-of-bounds values are taken care of in self._evaluate\n",
      "        return np.interp(x_new, self.x, self.y)\n",
      "\n",
      "    def _call_linear(self, x_new):\n",
      "        # 2. Find where in the original data, the values to interpolate\n",
      "        #    would be inserted.\n",
      "        #    Note: If x_new[n] == x[m], then m is returned by searchsorted.\n",
      "        x_new_indices = searchsorted(self.x, x_new)\n",
      "\n",
      "        # 3. Clip x_new_indices so that they are within the range of\n",
      "        #    self.x indices and at least 1. Removes mis-interpolation\n",
      "        #    of x_new[n] = x[0]\n",
      "        x_new_indices = x_new_indices.clip(1, len(self.x)-1).astype(int)\n",
      "\n",
      "        # 4. Calculate the slope of regions that each x_new value falls in.\n",
      "        lo = x_new_indices - 1\n",
      "        hi = x_new_indices\n",
      "\n",
      "        x_lo = self.x[lo]\n",
      "        x_hi = self.x[hi]\n",
      "        y_lo = self._y[lo]\n",
      "        y_hi = self._y[hi]\n",
      "\n",
      "        # Note that the following two expressions rely on the specifics of the\n",
      "        # broadcasting semantics.\n",
      "        slope = (y_hi - y_lo) / (x_hi - x_lo)[:, None]\n",
      "\n",
      "        # 5. Calculate the actual value for each entry in x_new.\n",
      "        y_new = slope*(x_new - x_lo)[:, None] + y_lo\n",
      "\n",
      "        return y_new\n",
      "\n",
      "    def _call_nearest(self, x_new):\n",
      "        \"\"\" Find nearest neighbor interpolated y_new = f(x_new).\"\"\"\n",
      "\n",
      "        # 2. Find where in the averaged data the values to interpolate\n",
      "        #    would be inserted.\n",
      "        #    Note: use side='left' (right) to searchsorted() to define the\n",
      "        #    halfway point to be nearest to the left (right) neighbor\n",
      "        x_new_indices = searchsorted(self.x_bds, x_new, side=self._side)\n",
      "\n",
      "        # 3. Clip x_new_indices so that they are within the range of x indices.\n",
      "        x_new_indices = x_new_indices.clip(0, len(self.x)-1).astype(intp)\n",
      "\n",
      "        # 4. Calculate the actual value for each entry in x_new.\n",
      "        y_new = self._y[x_new_indices]\n",
      "\n",
      "        return y_new\n",
      "\n",
      "    def _call_previousnext(self, x_new):\n",
      "        \"\"\"Use previous/next neighbor of x_new, y_new = f(x_new).\"\"\"\n",
      "\n",
      "        # 1. Get index of left/right value\n",
      "        x_new_indices = searchsorted(self._x_shift, x_new, side=self._side)\n",
      "\n",
      "        # 2. Clip x_new_indices so that they are within the range of x indices.\n",
      "        x_new_indices = x_new_indices.clip(1-self._ind,\n",
      "                                           len(self.x)-self._ind).astype(intp)\n",
      "\n",
      "        # 3. Calculate the actual value for each entry in x_new.\n",
      "        y_new = self._y[x_new_indices+self._ind-1]\n",
      "\n",
      "        return y_new\n",
      "\n",
      "    def _call_spline(self, x_new):\n",
      "        return self._spline(x_new)\n",
      "\n",
      "    def _call_nan_spline(self, x_new):\n",
      "        out = self._spline(x_new)\n",
      "        out[...] = np.nan\n",
      "        return out\n",
      "\n",
      "    def _evaluate(self, x_new):\n",
      "        # 1. Handle values in x_new that are outside of x. Throw error,\n",
      "        #    or return a list of mask array indicating the outofbounds values.\n",
      "        #    The behavior is set by the bounds_error variable.\n",
      "        x_new = asarray(x_new)\n",
      "        y_new = self._call(self, x_new)\n",
      "        if not self._extrapolate:\n",
      "            below_bounds, above_bounds = self._check_bounds(x_new)\n",
      "            if len(y_new) > 0:\n",
      "                # Note fill_value must be broadcast up to the proper size\n",
      "                # and flattened to work here\n",
      "                y_new[below_bounds] = self._fill_value_below\n",
      "                y_new[above_bounds] = self._fill_value_above\n",
      "        return y_new\n",
      "\n",
      "    def _check_bounds(self, x_new):\n",
      "        \"\"\"Check the inputs for being in the bounds of the interpolated data.\n",
      "\n",
      "        Parameters\n",
      "        ----------\n",
      "        x_new : array\n",
      "\n",
      "        Returns\n",
      "        -------\n",
      "        out_of_bounds : bool array\n",
      "            The mask on x_new of values that are out of the bounds.\n",
      "        \"\"\"\n",
      "\n",
      "        # If self.bounds_error is True, we raise an error if any x_new values\n",
      "        # fall outside the range of x. Otherwise, we return an array indicating\n",
      "        # which values are outside the boundary region.\n",
      "        below_bounds = x_new < self.x[0]\n",
      "        above_bounds = x_new > self.x[-1]\n",
      "\n",
      "        if self.bounds_error and below_bounds.any():\n",
      "            below_bounds_value = x_new[np.argmax(below_bounds)]\n",
      "            raise ValueError(\"A value ({}) in x_new is below \"\n",
      "                             \"the interpolation range's minimum value ({}).\"\n",
      "                             .format(below_bounds_value, self.x[0]))\n",
      "        if self.bounds_error and above_bounds.any():\n",
      "            above_bounds_value = x_new[np.argmax(above_bounds)]\n",
      "            raise ValueError(\"A value ({}) in x_new is above \"\n",
      "                             \"the interpolation range's maximum value ({}).\"\n",
      "                             .format(above_bounds_value, self.x[-1]))\n",
      "\n",
      "        # !! Should we emit a warning if some values are out of bounds?\n",
      "        # !! matlab does not.\n",
      "        return below_bounds, above_bounds\n",
      "\n"
     ]
    }
   ],
   "source": [
    "import inspect\n",
    "import scipy.interpolate as scint\n",
    "print(inspect.getsource(scint.interp1d))"
   ]
  },
  {
   "cell_type": "markdown",
   "id": "44d3a87f",
   "metadata": {},
   "source": [
    "### Syntaxe : niveau avancé"
   ]
  },
  {
   "cell_type": "markdown",
   "id": "9b938bd7",
   "metadata": {},
   "source": [
    "La syntaxe tout à fait générale pour définir une fonction est la suivante :"
   ]
  },
  {
   "cell_type": "markdown",
   "id": "bfc5d0c5",
   "metadata": {},
   "source": [
    "```\n",
    "def nom_de_ma_fonction(x,y,a,*args,b=8,z=9.7,**kwargs):                    \n",
    "    \"\"\"documentation\"\"\"\n",
    "    # bloc de code\n",
    "    return c,b,f                               # c,b,f = outputs\n",
    "    # plus de code ici ! return => on sort de la fonction\n",
    "```"
   ]
  },
  {
   "cell_type": "markdown",
   "id": "2977a2a7",
   "metadata": {},
   "source": [
    "- \\*args fait référence à un nombre arbitraire d'inputs optionnels de type \"tuple\" \n",
    "- b=8 et z=9.7 sont deux paramètres avec des valeurs par défaut. Si on ne fait pas référence à ces paramètres lors de l'appel à la fonction, b et z auront ces valeurs par défaut. \n",
    "- \\*\\*kwargs fait référence à un nombre arbitraire d'inputs optionnels de type \"dictionnaire\"\n",
    "\n",
    "Donnons un exemple par chaque cas pris séparément. "
   ]
  },
  {
   "cell_type": "markdown",
   "id": "314e2248",
   "metadata": {},
   "source": [
    "### Exemple 5 : Fonction avec \\*args"
   ]
  },
  {
   "cell_type": "code",
   "execution_count": 36,
   "id": "45b02fbc",
   "metadata": {},
   "outputs": [],
   "source": [
    "def addition(*numbers):\n",
    "    \"\"\"Fonction qui additionne tous les nombres donnés en inputs\"\"\"\n",
    "    total=0\n",
    "    for x in numbers:\n",
    "        total+=x\n",
    "    return total"
   ]
  },
  {
   "cell_type": "code",
   "execution_count": 37,
   "id": "fcdca6b6",
   "metadata": {},
   "outputs": [
    {
     "name": "stdout",
     "output_type": "stream",
     "text": [
      "3\n",
      "60\n",
      "0\n"
     ]
    }
   ],
   "source": [
    "print(addition(1,2))\n",
    "print(addition(9,-5,8,9,5,34))\n",
    "print(addition())                   "
   ]
  },
  {
   "cell_type": "markdown",
   "id": "83ff959e",
   "metadata": {},
   "source": [
    "### Exemple 6 : Inputs ayant des valeurs par défaut"
   ]
  },
  {
   "cell_type": "code",
   "execution_count": 38,
   "id": "a2cd08ed",
   "metadata": {},
   "outputs": [],
   "source": [
    "def surface_volume_cylindre(r=1,H=2):\n",
    "    \"\"\"Fonction qui renvoie la surface en cm^2 et le volume en cm^3 d'un cylindre de rayon r et de hauteur H\n",
    "    Par défaut, r=1cm et H=2cm\"\"\"\n",
    "    import numpy as np\n",
    "    S=2*np.pi*r*H\n",
    "    V=np.pi*r**2*H\n",
    "    return S,V"
   ]
  },
  {
   "cell_type": "code",
   "execution_count": 39,
   "id": "8f628500",
   "metadata": {},
   "outputs": [
    {
     "name": "stdout",
     "output_type": "stream",
     "text": [
      "Help on function surface_volume_cylindre in module __main__:\n",
      "\n",
      "surface_volume_cylindre(r=1, H=2)\n",
      "    Fonction qui renvoie la surface en cm^2 et le volume en cm^3 d'un cylindre de rayon r et de hauteur H\n",
      "    Par défaut, r=1cm et H=2cm\n",
      "\n"
     ]
    }
   ],
   "source": [
    "help(surface_volume_cylindre)"
   ]
  },
  {
   "cell_type": "code",
   "execution_count": 40,
   "id": "789e5469",
   "metadata": {},
   "outputs": [
    {
     "name": "stdout",
     "output_type": "stream",
     "text": [
      "12.566370614359172 6.283185307179586\n"
     ]
    }
   ],
   "source": [
    "Surf,Vol = surface_volume_cylindre()    # Aucun input => valeurs par défaut\n",
    "print(Surf,Vol)"
   ]
  },
  {
   "cell_type": "code",
   "execution_count": 41,
   "id": "d3528d2a",
   "metadata": {},
   "outputs": [
    {
     "name": "stdout",
     "output_type": "stream",
     "text": [
      "25.132741228718345 25.132741228718345\n"
     ]
    }
   ],
   "source": [
    "Surf,Vol = surface_volume_cylindre(2)    # param 1 fourni (=> r=2cm)\n",
    "print(Surf,Vol)"
   ]
  },
  {
   "cell_type": "code",
   "execution_count": 42,
   "id": "861db97f",
   "metadata": {},
   "outputs": [
    {
     "name": "stdout",
     "output_type": "stream",
     "text": [
      "31.41592653589793 15.707963267948966\n"
     ]
    }
   ],
   "source": [
    "Surf,Vol = surface_volume_cylindre(H=5)    # H fourni (=> H=5cm)\n",
    "print(Surf,Vol)"
   ]
  },
  {
   "cell_type": "markdown",
   "id": "3e9e4e24",
   "metadata": {},
   "source": [
    "Nota bene :"
   ]
  },
  {
   "cell_type": "markdown",
   "id": "e8c01a00",
   "metadata": {},
   "source": [
    "Lorsqu'on définit une fonction avec un mélange d'inputs avec valeur par défaut et d'inputs sans valeur par défaut, on est obligé de placer d'abord les inputs sans valeur par défaut.  "
   ]
  },
  {
   "cell_type": "markdown",
   "id": "586666cb",
   "metadata": {},
   "source": [
    "### Exemple 7 : Fonction avec **kwargs (keywords arguments)"
   ]
  },
  {
   "cell_type": "code",
   "execution_count": 43,
   "id": "9af12066",
   "metadata": {},
   "outputs": [],
   "source": [
    "def addition_fruits(**fruits):\n",
    "    \"\"\"Fonction qui additionne toutes les quantités des différents fruits\"\"\"\n",
    "    total=0\n",
    "    for x in fruits.values():\n",
    "        total+=x\n",
    "    return total"
   ]
  },
  {
   "cell_type": "code",
   "execution_count": 44,
   "id": "0b74a39b",
   "metadata": {},
   "outputs": [
    {
     "name": "stdout",
     "output_type": "stream",
     "text": [
      "20\n",
      "0\n"
     ]
    }
   ],
   "source": [
    "print(addition_fruits(pommes=5,bananes=9,poires=6))\n",
    "print(addition_fruits())"
   ]
  },
  {
   "cell_type": "markdown",
   "id": "b46ba80d",
   "metadata": {},
   "source": [
    "### Mutation des arguments "
   ]
  },
  {
   "cell_type": "markdown",
   "id": "8f2b4228",
   "metadata": {},
   "source": [
    "- Les inputs qui sont de type *immutables* ne sont jamais transformés par passage à travers une fonction. Ce sont certains types de données : int, float, bool, str, complex, tuples et les ensembles immutables. \n",
    "- Les inputs qui sont de type *mutables* peuvent être transformés par passage à travers une fonction : listes, ensembles mutables et dictionnaires. \n",
    "- En python plus avancé (hors du cadre de ce cours), il est possible de créer ses classes d'objets, mutables ou pas. "
   ]
  },
  {
   "cell_type": "markdown",
   "id": "f0292866",
   "metadata": {},
   "source": [
    "Pour savoir si un objet a été muté, on peut afficher sa \"carte d'identité\" (id) :"
   ]
  },
  {
   "cell_type": "code",
   "execution_count": 45,
   "id": "bececba6",
   "metadata": {},
   "outputs": [
    {
     "name": "stdout",
     "output_type": "stream",
     "text": [
      "140594311826448\n",
      "140594311826480\n"
     ]
    }
   ],
   "source": [
    "# Exemple avec le type \"int\" : \n",
    "x=90\n",
    "print(id(x))\n",
    "x+=1\n",
    "print(id(x))"
   ]
  },
  {
   "cell_type": "markdown",
   "id": "1d3d31a8",
   "metadata": {},
   "source": [
    "L'id de x a changé, ce qui veut dire que ce n'est plus le même objet. L'ancienne valeur de x a été \"écrasée\" par la nouvelle. Le type *int* n'est (assez logiquement) pas mutable."
   ]
  },
  {
   "cell_type": "code",
   "execution_count": 46,
   "id": "9d396908",
   "metadata": {},
   "outputs": [
    {
     "name": "stdout",
     "output_type": "stream",
     "text": [
      "<class 'list'>\n",
      "140594484344896\n",
      "[4, 5, 8]\n",
      "140594484344896\n"
     ]
    }
   ],
   "source": [
    "# Exemple avec le type \"list\" :\n",
    "x=[4,5,6]\n",
    "print(type(x))\n",
    "print(id(x))\n",
    "x[2]=8\n",
    "print(x)\n",
    "print(id(x))"
   ]
  },
  {
   "cell_type": "markdown",
   "id": "dd53b017",
   "metadata": {},
   "source": [
    "L'id de x n'a pas changé, ce qui veut dire que c'est le même objet. Le type *list* est (assez logiquement) mutable."
   ]
  },
  {
   "cell_type": "markdown",
   "id": "de99d9b7",
   "metadata": {},
   "source": [
    "### Exemple 8 : Passage d'arguments immutables à travers une fonction"
   ]
  },
  {
   "cell_type": "code",
   "execution_count": 47,
   "id": "7eee5f7e",
   "metadata": {},
   "outputs": [],
   "source": [
    "def plusone(x):\n",
    "    x+=1\n",
    "    return x"
   ]
  },
  {
   "cell_type": "code",
   "execution_count": 48,
   "id": "7edfbe50",
   "metadata": {},
   "outputs": [
    {
     "name": "stdout",
     "output_type": "stream",
     "text": [
      "4\n",
      "3\n"
     ]
    }
   ],
   "source": [
    "a=3                       # type int : immutable\n",
    "print(plusone(a))\n",
    "print(a)"
   ]
  },
  {
   "cell_type": "markdown",
   "id": "82f55439",
   "metadata": {},
   "source": [
    "a valait 3 avant passage par la fonction et vaut encore 3 après passage par la fonction. Il n'est donc pas transformé par passage à travers la fonction. "
   ]
  },
  {
   "cell_type": "markdown",
   "id": "b9cc4460",
   "metadata": {},
   "source": [
    "### Exemple 9 : Passage d'arguments mutables à travers une fonction"
   ]
  },
  {
   "cell_type": "code",
   "execution_count": 49,
   "id": "bcca337e",
   "metadata": {},
   "outputs": [],
   "source": [
    "def appendone(x):\n",
    "    x.append(1)     # ajoute 1 à une liste\n",
    "    return x"
   ]
  },
  {
   "cell_type": "code",
   "execution_count": 50,
   "id": "fe330118",
   "metadata": {},
   "outputs": [
    {
     "name": "stdout",
     "output_type": "stream",
     "text": [
      "[3, 4, 5, 1]\n",
      "[3, 4, 5, 1]\n"
     ]
    }
   ],
   "source": [
    "a=[3,4,5]                 # type list : mutable\n",
    "print(appendone(a))\n",
    "print(a)"
   ]
  },
  {
   "cell_type": "markdown",
   "id": "a279642a",
   "metadata": {},
   "source": [
    "a valait [3,4,5] avant passage par la fonction et vaut [3,4,5,1] après passage par la fonction. Il est donc transformé par passage à travers la fonction.<br/>\n",
    "Notons qu'un objet mutable n'est pas nécessairement transformé par passage à travers une fonction (parfois il l'est, parfois il ne l'est pas). "
   ]
  },
  {
   "cell_type": "markdown",
   "id": "1b531864",
   "metadata": {},
   "source": [
    "## 4.6 Importation de fonctions"
   ]
  },
  {
   "cell_type": "markdown",
   "id": "d07ebd8e",
   "metadata": {},
   "source": [
    "Lorsqu'on travaille sur jupyter notebook, souvent on met tout le code sur la même page.<br/>\n",
    "Cela dit, il peut arriver qu'une ou plusieurs fonctions se trouvent dans un autre fichier. On doit alors les importer.<br/> \n",
    "Par exemple, si je veux utiliser une fonction nommmée *mon_polynome* se trouvant dans le fichier *MesFonctions.py* (fichier se trouvant dans le dossier courant), l'importation peut se faire de différentes manières :\n",
    "<ul>\n",
    "<li>\n",
    "    \n",
    "```\n",
    "from MesFonctions import mon_polynome     \n",
    "# on importe juste mon_polynome du fichier MesFonctions\n",
    "```\n",
    "    \n",
    "et on fait appel à la fonction dans le code via : `mon_polynome`\n",
    "</li>\n",
    "<li>\n",
    "    \n",
    "```\n",
    "from MesFonctions import mon_polynome as pol   \n",
    "# on importe juste mon_polynome du fichier MesFonctions sous le nom pol\n",
    "```\n",
    "    \n",
    "et on fait appel à la fonction dans le code via : `pol`\n",
    "</li>\n",
    "<li>\n",
    "    \n",
    "```\n",
    "import MesFonctions as Mesfct           \n",
    "# On importe toutes les fonctions du fichier MesFonctions (analogue à ce qu'on fait quand on importe numpy : import numpy as np)\n",
    "```\n",
    "    \n",
    "et on fait appel à la fonction dans le code via : `Mesfct.mon_polynome`\n",
    "</li>\n",
    "<li>\n",
    "    \n",
    "```\n",
    "from MesFonctions import *           \n",
    "# On importe toutes les fonctions du fichier MesFonctions, sans devoir utiliser de préfixe\n",
    "```\n",
    "    \n",
    "et on fait appel à la fonction dans le code via : `mon_polynome`\n",
    "</li>\n",
    "</ul>\n",
    "Ces techniques d'importation s'appliquent également aux librairies (numpy, scipy, matplotlib, ...). Ceci est faisable par exemple : \n",
    "    \n",
    "```\n",
    "from numpy import sqrt as racine_carree\n",
    "```"
   ]
  },
  {
   "cell_type": "markdown",
   "id": "ecf77ce8",
   "metadata": {},
   "source": [
    "## 4.7 Fonctions anonymes (fonctions lambda)"
   ]
  },
  {
   "cell_type": "markdown",
   "id": "0b7f9fcb",
   "metadata": {},
   "source": [
    "Il est possible de créer une fonction sur 1 ligne sans passer par `def`. Dans la suite du cours, on utilisera souvent cette manière de faire comme alternative à `def`. Il est même possible de ne pas donner de nom à la fonction (voir exemple 3). "
   ]
  },
  {
   "cell_type": "markdown",
   "id": "0be81fb1",
   "metadata": {},
   "source": [
    "### Syntaxe "
   ]
  },
  {
   "cell_type": "markdown",
   "id": "16b72dbb",
   "metadata": {},
   "source": [
    "```\n",
    "lambda [paramètres]: expression\n",
    "```"
   ]
  },
  {
   "cell_type": "markdown",
   "id": "3db9bf3b",
   "metadata": {},
   "source": [
    "### Exemple 1 : fonction $f(x)=sin(x^2+2)$"
   ]
  },
  {
   "cell_type": "code",
   "execution_count": 51,
   "id": "d3573205",
   "metadata": {},
   "outputs": [],
   "source": [
    "f=lambda x: np.sin(x**2+2)"
   ]
  },
  {
   "cell_type": "code",
   "execution_count": 52,
   "id": "6329e7cf",
   "metadata": {},
   "outputs": [
    {
     "data": {
      "text/plain": [
       "0.956375928404503"
      ]
     },
     "execution_count": 52,
     "metadata": {},
     "output_type": "execute_result"
    }
   ],
   "source": [
    "f(5)"
   ]
  },
  {
   "cell_type": "markdown",
   "id": "234cc025",
   "metadata": {},
   "source": [
    "### Exemple 2 : définition d'un polynôme avec `def` et `lambda`"
   ]
  },
  {
   "cell_type": "code",
   "execution_count": 53,
   "id": "c9cb2565",
   "metadata": {},
   "outputs": [],
   "source": [
    "def polynome(a,b,c):\n",
    "    return lambda x: a*x**2+b*x+c     # polynôme de degré 2"
   ]
  },
  {
   "cell_type": "code",
   "execution_count": 54,
   "id": "24199ba9",
   "metadata": {},
   "outputs": [
    {
     "name": "stdout",
     "output_type": "stream",
     "text": [
      "<function polynome.<locals>.<lambda> at 0x7fdeb30e1c60>\n",
      "14\n"
     ]
    }
   ],
   "source": [
    "p=polynome(a=3,b=-1,c=4)\n",
    "print(p)\n",
    "print(p(2))           # on évalue le polynôme en x=2"
   ]
  },
  {
   "cell_type": "markdown",
   "id": "66951375",
   "metadata": {},
   "source": [
    "### Exemple 3 : fonction sans nom pour utilisation directe"
   ]
  },
  {
   "cell_type": "code",
   "execution_count": 55,
   "id": "7efa6ff7",
   "metadata": {},
   "outputs": [
    {
     "data": {
      "text/plain": [
       "5"
      ]
     },
     "execution_count": 55,
     "metadata": {},
     "output_type": "execute_result"
    }
   ],
   "source": [
    "(lambda x, y: x + y)(2, 3)"
   ]
  },
  {
   "cell_type": "markdown",
   "id": "f78940a4",
   "metadata": {},
   "source": [
    "## 4.8 Interception des erreurs "
   ]
  },
  {
   "cell_type": "markdown",
   "id": "bbf09467",
   "metadata": {},
   "source": [
    "Il est souvent plus facile d'intercepter une erreur que de la laisser se propager. Typiquement, cela se fait en début de fonction pour vérifier que l'utilisateur a rentré des valeurs correctes. Pour intercepter une erreur, on procède en deux phases :\n",
    "- bloc `try` : pour tester si le code présente une erreur (si une erreur est détectée, on dit qu'on \"lève une exception\"). \n",
    "- bloc(s) `except` : pour traiter les exceptions le cas échéant\n",
    "\n",
    "Il existe toute une famille d'exceptions en python et une syntaxe plus complète que celle qui est présentée ici (voir https://docs.python.org/fr/3/tutorial/errors.html pour plus d'information). Nous allons ici nous restreindre à l'exception la plus facile et la plus utile, qui permet de traiter de nombreuses erreurs : `AssertionError`. On procède comme suit :<ol>\n",
    "<li>On teste une condition logique avec `assert` dans le bloc `try`.</li>\n",
    "<li>Si la condition est fausse (`False`), on traite l'exception dans le bloc `except AssertionError`. Pour terminer ce bloc, deux choix sont possibles :<ul>\n",
    "    <li> On a affaire à une <strong>erreur</strong>, et le bloc de code à la suite ne pourra pas être exécuté. On termine alors avec un `return` pour sortir prématurément de la fonction.</li>\n",
    "    <li> On a affaire à un <strong>avertissement</strong>, le bloc de code à la suite pourra être exécuté, mais avec un risque de bug.</li>\n",
    "    </ul>\n",
    "    </li>\n",
    "    </ol>\n",
    "   </ol>"
   ]
  },
  {
   "cell_type": "markdown",
   "id": "fa8e1e41",
   "metadata": {},
   "source": [
    "### Exemple 1 : traiter une erreur\n",
    "Soit la fonction $f(x)=\\sqrt{x-2}$. Renvoyons une erreur si l'utilisateur rentre une valeur de $x$ $<2$ :"
   ]
  },
  {
   "cell_type": "code",
   "execution_count": 56,
   "id": "32389a22",
   "metadata": {},
   "outputs": [],
   "source": [
    "def ma_fonction(x):\n",
    "    \"\"\"Fonction qui calcule la racine carrée de x-2\"\"\"\n",
    "    try:\n",
    "        assert x>=2              # condition pour qu'il n'y ait pas d'erreur\n",
    "    except AssertionError:\n",
    "        print(\"Mauvaise valeur de x ! Tu as bien foiré ahahah\")       # Bloc de code exécuté en cas d'erreur (valeur False pour assert ci-dessus)\n",
    "        return                                                        # Pour sortir de la fonction\n",
    "    import numpy as np\n",
    "    return np.sqrt(x-2)"
   ]
  },
  {
   "cell_type": "code",
   "execution_count": 57,
   "id": "e81e05bb",
   "metadata": {},
   "outputs": [
    {
     "data": {
      "text/plain": [
       "2.0"
      ]
     },
     "execution_count": 57,
     "metadata": {},
     "output_type": "execute_result"
    }
   ],
   "source": [
    "ma_fonction(6)"
   ]
  },
  {
   "cell_type": "code",
   "execution_count": 58,
   "id": "23a0dd32",
   "metadata": {},
   "outputs": [
    {
     "name": "stdout",
     "output_type": "stream",
     "text": [
      "Mauvaise valeur de x ! Tu as bien foiré ahahah\n"
     ]
    }
   ],
   "source": [
    "ma_fonction(1)"
   ]
  },
  {
   "cell_type": "markdown",
   "id": "c366717d",
   "metadata": {},
   "source": [
    "Comparons avec une non-interception de l'erreur (on laisse la main à l'interpréteur python, qui renvoie un **avertissement** et `nan` en sortie de la fonction) :"
   ]
  },
  {
   "cell_type": "code",
   "execution_count": 59,
   "id": "339e23db",
   "metadata": {},
   "outputs": [],
   "source": [
    "def ma_fonction(x):\n",
    "    import numpy as np\n",
    "    return np.sqrt(x-2)"
   ]
  },
  {
   "cell_type": "code",
   "execution_count": 60,
   "id": "fe4480be",
   "metadata": {},
   "outputs": [
    {
     "name": "stderr",
     "output_type": "stream",
     "text": [
      "/var/folders/y7/qst494yn7fn744n4rf6j32lm0000gn/T/ipykernel_71545/1046901446.py:3: RuntimeWarning: invalid value encountered in sqrt\n",
      "  return np.sqrt(x-2)\n"
     ]
    },
    {
     "data": {
      "text/plain": [
       "nan"
      ]
     },
     "execution_count": 60,
     "metadata": {},
     "output_type": "execute_result"
    }
   ],
   "source": [
    "ma_fonction(1)"
   ]
  },
  {
   "cell_type": "markdown",
   "id": "8f0fb2cd",
   "metadata": {},
   "source": [
    "### Exemple 2 : traiter un avertissement "
   ]
  },
  {
   "cell_type": "markdown",
   "id": "2537b5b0",
   "metadata": {},
   "source": [
    "Soit la fonction $\\ln(x+2)$. Renvoyons un avertissement si $x+2$ est très proche de $0$."
   ]
  },
  {
   "cell_type": "code",
   "execution_count": 61,
   "id": "a1b99765",
   "metadata": {},
   "outputs": [],
   "source": [
    "def ma_fonction(x):\n",
    "    \"\"\"Fonction qui calcule le logarithme népérien de x+2\"\"\"\n",
    "    try:\n",
    "        assert x+2>1e-14              # condition pour qu'il n'y ait pas d'erreur\n",
    "    except AssertionError:\n",
    "        print(\"Attention : argument du log très proche de zéro !\")       # Bloc de code exécuté en cas d'erreur (valeur False pour assert ci-dessus)\n",
    "        # pas de return => code continue\n",
    "    import numpy as np\n",
    "    return np.log(x+2)"
   ]
  },
  {
   "cell_type": "code",
   "execution_count": 62,
   "id": "63d41004",
   "metadata": {},
   "outputs": [
    {
     "data": {
      "text/plain": [
       "1.6094379124341003"
      ]
     },
     "execution_count": 62,
     "metadata": {},
     "output_type": "execute_result"
    }
   ],
   "source": [
    "ma_fonction(3)"
   ]
  },
  {
   "cell_type": "code",
   "execution_count": 63,
   "id": "a52e9fc4",
   "metadata": {},
   "outputs": [
    {
     "name": "stdout",
     "output_type": "stream",
     "text": [
      "Attention : argument du log très proche de zéro !\n"
     ]
    },
    {
     "data": {
      "text/plain": [
       "-34.43421547668306"
      ]
     },
     "execution_count": 63,
     "metadata": {},
     "output_type": "execute_result"
    }
   ],
   "source": [
    "ma_fonction(1e-15-2)"
   ]
  },
  {
   "cell_type": "markdown",
   "id": "3621527b",
   "metadata": {},
   "source": [
    "Python renvoie d'ailleurs un **avertissement** si on prend une valeur trop petite : "
   ]
  },
  {
   "cell_type": "code",
   "execution_count": 64,
   "id": "e0e0e3d0",
   "metadata": {},
   "outputs": [
    {
     "name": "stdout",
     "output_type": "stream",
     "text": [
      "Attention : argument du log très proche de zéro !\n"
     ]
    },
    {
     "name": "stderr",
     "output_type": "stream",
     "text": [
      "/var/folders/y7/qst494yn7fn744n4rf6j32lm0000gn/T/ipykernel_71545/582953836.py:9: RuntimeWarning: divide by zero encountered in log\n",
      "  return np.log(x+2)\n"
     ]
    },
    {
     "data": {
      "text/plain": [
       "-inf"
      ]
     },
     "execution_count": 64,
     "metadata": {},
     "output_type": "execute_result"
    }
   ],
   "source": [
    "ma_fonction(1e-20-2)"
   ]
  },
  {
   "cell_type": "markdown",
   "id": "234d4e08",
   "metadata": {},
   "source": [
    "## 4.9 Espaces de nommage "
   ]
  },
  {
   "cell_type": "markdown",
   "id": "55c8855d",
   "metadata": {},
   "source": [
    "Lorsqu'on fait appel à une fonction par son nom, l'interpréteur Python recherche le nom, par ordre de priorité :<ol>\n",
    "    <li>En local, dans le corps d'une fonction</li>\n",
    "    <li>Dans une fonction qui englobe celle dans laquelle on se trouve</li>\n",
    "    <li>En dehors de toute fonction</li>\n",
    "    <li>Dans les fonctions built-in de python</li>\n",
    "</ol>\n",
    "    "
   ]
  },
  {
   "cell_type": "markdown",
   "id": "6e323b8a",
   "metadata": {},
   "source": [
    "### Exemple : fonction max"
   ]
  },
  {
   "cell_type": "markdown",
   "id": "9dd2d4fb",
   "metadata": {},
   "source": [
    "La fonction `max` est une fonction prédéfinie (built-in) de python (priorité 4). Mais si on définit une autre fonction qui s'appelle `max`, elle aura la priorité sur cette dernière (priorité 3). "
   ]
  },
  {
   "cell_type": "code",
   "execution_count": 65,
   "id": "872ce828",
   "metadata": {},
   "outputs": [],
   "source": [
    "x=[3,4,5]"
   ]
  },
  {
   "cell_type": "code",
   "execution_count": 66,
   "id": "4ac321be",
   "metadata": {},
   "outputs": [
    {
     "name": "stdout",
     "output_type": "stream",
     "text": [
      "Help on built-in function max in module builtins:\n",
      "\n",
      "max(...)\n",
      "    max(iterable, *[, default=obj, key=func]) -> value\n",
      "    max(arg1, arg2, *args, *[, key=func]) -> value\n",
      "    \n",
      "    With a single iterable argument, return its biggest item. The\n",
      "    default keyword-only argument specifies an object to return if\n",
      "    the provided iterable is empty.\n",
      "    With two or more arguments, return the largest argument.\n",
      "\n"
     ]
    },
    {
     "data": {
      "text/plain": [
       "5"
      ]
     },
     "execution_count": 66,
     "metadata": {},
     "output_type": "execute_result"
    }
   ],
   "source": [
    "help(max)       # fonction max built-in de python\n",
    "max(x)         "
   ]
  },
  {
   "cell_type": "code",
   "execution_count": 67,
   "id": "ed50df0f",
   "metadata": {},
   "outputs": [
    {
     "name": "stdout",
     "output_type": "stream",
     "text": [
      "Help on function max in module __main__:\n",
      "\n",
      "max(x)\n",
      "    Fonction qui renvoie le max d'un tableau\n",
      "\n"
     ]
    },
    {
     "data": {
      "text/plain": [
       "5"
      ]
     },
     "execution_count": 67,
     "metadata": {},
     "output_type": "execute_result"
    }
   ],
   "source": [
    "def max(x):\n",
    "    \"\"\"Fonction qui renvoie le max d'un tableau\"\"\"\n",
    "    import numpy as np\n",
    "    return np.max(x)\n",
    "help(max)                # fonction ci-dessus, qui a donc pris la priorité\n",
    "max(x)"
   ]
  },
  {
   "cell_type": "markdown",
   "id": "637e3ec3",
   "metadata": {},
   "source": [
    "Travailler avec des fonctions différentes mais de même nom est source de problème, à éviter!"
   ]
  },
  {
   "cell_type": "markdown",
   "id": "17552a13",
   "metadata": {},
   "source": [
    "Dans l'exemple ci-dessus, on peut revenir à la fonction `max` d'origine (built-in de python) en supprimant celle créée :"
   ]
  },
  {
   "cell_type": "code",
   "execution_count": 68,
   "id": "441c2b6d",
   "metadata": {},
   "outputs": [],
   "source": [
    "del max"
   ]
  },
  {
   "cell_type": "code",
   "execution_count": 69,
   "id": "fbc6be1e",
   "metadata": {},
   "outputs": [
    {
     "name": "stdout",
     "output_type": "stream",
     "text": [
      "Help on built-in function max in module builtins:\n",
      "\n",
      "max(...)\n",
      "    max(iterable, *[, default=obj, key=func]) -> value\n",
      "    max(arg1, arg2, *args, *[, key=func]) -> value\n",
      "    \n",
      "    With a single iterable argument, return its biggest item. The\n",
      "    default keyword-only argument specifies an object to return if\n",
      "    the provided iterable is empty.\n",
      "    With two or more arguments, return the largest argument.\n",
      "\n"
     ]
    }
   ],
   "source": [
    "help(max)"
   ]
  },
  {
   "cell_type": "markdown",
   "id": "f7ac6b47",
   "metadata": {},
   "source": [
    "### Importation de librairies : la chose à ne pas faire"
   ]
  },
  {
   "cell_type": "markdown",
   "id": "abd0ef89",
   "metadata": {},
   "source": [
    "C'est la raison pour laquelle on évite de faire ceci : "
   ]
  },
  {
   "cell_type": "code",
   "execution_count": 70,
   "id": "19b052ba",
   "metadata": {},
   "outputs": [],
   "source": [
    "from numpy import *  # importation toute la librairie numpy sans préfixe"
   ]
  },
  {
   "cell_type": "markdown",
   "id": "a6887ab3",
   "metadata": {},
   "source": [
    "Comme on a tout importé sans préfixe (sans le `np` conventionnel), toutes les fonctions de numpy doivent être appelées sans préfixe :"
   ]
  },
  {
   "cell_type": "code",
   "execution_count": 71,
   "id": "84766055",
   "metadata": {},
   "outputs": [
    {
     "data": {
      "text/plain": [
       "2.23606797749979"
      ]
     },
     "execution_count": 71,
     "metadata": {},
     "output_type": "execute_result"
    }
   ],
   "source": [
    "sqrt(5)    # au lieu de np.sqrt(5)"
   ]
  },
  {
   "cell_type": "markdown",
   "id": "2c1a990f",
   "metadata": {},
   "source": [
    "Problème : il y a des centaines de noms de fonctions qui sont maintenant importés sans préfixe. Si jamais vous créez une fonction de même nom, il y aura un conflit de priorité !"
   ]
  },
  {
   "cell_type": "markdown",
   "id": "28ba9e81",
   "metadata": {},
   "source": [
    "**Conclusion : toujours importer une librairie avec un préfixe**"
   ]
  },
  {
   "cell_type": "markdown",
   "id": "48dfbff2",
   "metadata": {},
   "source": [
    "## Exercice 1"
   ]
  },
  {
   "cell_type": "markdown",
   "id": "2bf53ed2",
   "metadata": {},
   "source": [
    "Ecrire une **fonction** qui prend deux entiers $a$ et $b$ en input, et renvoyer une erreur si les conditions suivantes ne sont pas satisfaites :\n",
    "\n",
    "- $a>0$\n",
    "- $b\\neq 0$\n",
    "\n",
    "Votre fonction, qui ne comportera pas d'output, affichera les calculs et les résultats des opérations suivantes : $a+b$, $a-b$, $a*b$, $a/b$, $\\log_{10}(a)$, $a^b$. Exemple d'affichage :"
   ]
  },
  {
   "attachments": {
    "chap4_exo1.png": {
     "image/png": "[encoded data removed]"
    }
   },
   "cell_type": "markdown",
   "id": "9985da24",
   "metadata": {},
   "source": [
    "![chap4_exo1.png](attachment:chap4_exo1.png)"
   ]
  },
  {
   "cell_type": "code",
   "execution_count": 72,
   "id": "0b13e8aa",
   "metadata": {},
   "outputs": [],
   "source": [
    "def moncalcul(a,b):\n",
    "    try:\n",
    "        assert a>0 and b!=0       \n",
    "    except AssertionError:      \n",
    "        print(\"Conditions a>0 et b!=0 non-respectées\")\n",
    "        return    \n",
    "    print(\"a=\"+str(a))\n",
    "    print(\"b=\"+str(b))\n",
    "    print(\"a+b=\"+str(a+b))\n",
    "    print(\"a-b=\"+str(a-b))\n",
    "    print(\"a*b=\"+str(a*b))\n",
    "    print(\"a/b=\"+str(a/b))\n",
    "    print(\"log10(a)=\"+str(np.log10(a)))\n",
    "    print(\"a^b=\"+str(a**b))"
   ]
  },
  {
   "cell_type": "code",
   "execution_count": 73,
   "id": "b86ca7a3",
   "metadata": {},
   "outputs": [
    {
     "name": "stdout",
     "output_type": "stream",
     "text": [
      "a=10\n",
      "b=2\n",
      "a+b=12\n",
      "a-b=8\n",
      "a*b=20\n",
      "a/b=5.0\n",
      "log10(a)=1.0\n",
      "a^b=100\n"
     ]
    }
   ],
   "source": [
    "moncalcul(10,2)"
   ]
  },
  {
   "cell_type": "markdown",
   "id": "d42735ba",
   "metadata": {},
   "source": [
    "## Exercice 2"
   ]
  },
  {
   "cell_type": "markdown",
   "id": "dc5e8b1e",
   "metadata": {},
   "source": [
    "Soit une suite définie par récurrence : \n",
    "\\begin{equation}\n",
    "\\left\\{\\begin{array}{l}\n",
    "x_0=\\sqrt{2}\\\\\n",
    "x_{n}=\\sqrt{2+x_{n-1}}\\quad\\forall n\\in\\mathbb{N}_0\n",
    "\\end{array}\\right.\n",
    "\\end{equation}\n",
    "Ecrire une **fonction** qui prend en input l'indice $n$ et qui renvoie $x_n$ en output.<br/>\n",
    "Montrer ensuite que cette suite converge vers $2$. "
   ]
  },
  {
   "cell_type": "code",
   "execution_count": 74,
   "id": "67ad6418",
   "metadata": {},
   "outputs": [],
   "source": [
    "def exo2(n):\n",
    "    \"\"\"n est un indice entier >=0\"\"\"\n",
    "    x=np.sqrt(2)\n",
    "    for k in range(n):      # ou range(1,n+1) , le but étant d'avoir n itérations\n",
    "        x=np.sqrt(2+x)  \n",
    "    return x"
   ]
  },
  {
   "cell_type": "code",
   "execution_count": 75,
   "id": "9a0aa969",
   "metadata": {},
   "outputs": [
    {
     "name": "stdout",
     "output_type": "stream",
     "text": [
      "1.4142135623730951\n",
      "1.8477590650225735\n",
      "1.9615705608064609\n",
      "1.9903694533443939\n",
      "1.9999994117257645\n",
      "2.0\n"
     ]
    }
   ],
   "source": [
    "print(exo2(0))\n",
    "print(exo2(1))\n",
    "print(exo2(2))\n",
    "print(exo2(3))\n",
    "print(exo2(10))\n",
    "print(exo2(100))"
   ]
  },
  {
   "cell_type": "markdown",
   "id": "49326e04",
   "metadata": {},
   "source": [
    "## Exercice 3"
   ]
  },
  {
   "cell_type": "markdown",
   "id": "5a93c57c",
   "metadata": {},
   "source": [
    "Ecrire une fonction qui renvoie le plus grand commun diviseur (PGCD) de deux entiers strictement positifs au moyen de l'algorithme d'Euclide. Cet algorithme est expliqué sur cette page web:<br/>\n",
    "https://fr.wikipedia.org/wiki/Algorithme_d%27Euclide<br>\n",
    "Tester les nombres donnés par l'utilisateur et renvoyer une erreur si ceux-ci ne sont pas des entiers strictement positifs.<br>\n",
    "*Indice:* Pour tester si le nombre $x$ est de type *int* (entier) , on utilise l'instruction `isinstance(x, int)`, qui renvoie vrai ou faux."
   ]
  },
  {
   "cell_type": "code",
   "execution_count": 76,
   "id": "8d0f11c2",
   "metadata": {},
   "outputs": [],
   "source": [
    "def PGCD_euclide(a,b):\n",
    "    \"\"\"Fonction qui renvoie le pgcd de deux nombres >0 et entiers a et b\"\"\"\n",
    "    try:\n",
    "        assert isinstance(a,int) and isinstance(b,int)\n",
    "    except AssertionError:\n",
    "        print('Erreur: les nombres en input doivent être entiers')\n",
    "        return\n",
    "    try:\n",
    "        assert a>0 and b>0\n",
    "    except AssertionError:\n",
    "        print(\"Erreur: les nombres en input doivent être >0\")\n",
    "        return\n",
    "    while a!=b:\n",
    "        if a>b:\n",
    "            a-=b\n",
    "        else:\n",
    "            b-=a\n",
    "    return a"
   ]
  },
  {
   "cell_type": "code",
   "execution_count": 77,
   "id": "ec535bed",
   "metadata": {},
   "outputs": [
    {
     "name": "stdout",
     "output_type": "stream",
     "text": [
      "Erreur: les nombres en input doivent être entiers\n"
     ]
    }
   ],
   "source": [
    "PGCD_euclide(\"hello\",7)"
   ]
  },
  {
   "cell_type": "code",
   "execution_count": 78,
   "id": "a8245278",
   "metadata": {},
   "outputs": [
    {
     "name": "stdout",
     "output_type": "stream",
     "text": [
      "Erreur: les nombres en input doivent être entiers\n"
     ]
    }
   ],
   "source": [
    "PGCD_euclide(5,7.2)"
   ]
  },
  {
   "cell_type": "code",
   "execution_count": 79,
   "id": "be06896a",
   "metadata": {},
   "outputs": [
    {
     "name": "stdout",
     "output_type": "stream",
     "text": [
      "Erreur: les nombres en input doivent être >0\n"
     ]
    }
   ],
   "source": [
    "PGCD_euclide(5,-9)"
   ]
  },
  {
   "cell_type": "code",
   "execution_count": 80,
   "id": "9a5d9bd0",
   "metadata": {},
   "outputs": [
    {
     "name": "stdout",
     "output_type": "stream",
     "text": [
      "Erreur: les nombres en input doivent être >0\n"
     ]
    }
   ],
   "source": [
    "PGCD_euclide(5,0)"
   ]
  },
  {
   "cell_type": "code",
   "execution_count": 81,
   "id": "16dd9e0d",
   "metadata": {},
   "outputs": [
    {
     "data": {
      "text/plain": [
       "14"
      ]
     },
     "execution_count": 81,
     "metadata": {},
     "output_type": "execute_result"
    }
   ],
   "source": [
    "PGCD_euclide(42,28)"
   ]
  },
  {
   "cell_type": "markdown",
   "id": "26f86af4",
   "metadata": {},
   "source": [
    "## Exercice 4"
   ]
  },
  {
   "cell_type": "markdown",
   "id": "925d0a04",
   "metadata": {},
   "source": [
    "Ecrire une **fonction** qui renvoie en output la factorielle d'un nombre entier. Ce nombre entier est donné en input de la fonction."
   ]
  },
  {
   "cell_type": "markdown",
   "id": "ab058770",
   "metadata": {},
   "source": [
    "### Façon 1: boucle classique"
   ]
  },
  {
   "cell_type": "code",
   "execution_count": 82,
   "id": "75a86a9e",
   "metadata": {},
   "outputs": [],
   "source": [
    "def factorielle(n):\n",
    "    \"\"\"Fonction qui calcule la factorielle de n\n",
    "    n est un entier positif\"\"\"    # Explication de la fonction, à toujours placer juste après \"def\"\n",
    "    f=1\n",
    "    for k in range(2,n+1):\n",
    "        f=f*k  \n",
    "    return f"
   ]
  },
  {
   "cell_type": "code",
   "execution_count": 83,
   "id": "bc47ab6e",
   "metadata": {},
   "outputs": [
    {
     "name": "stdout",
     "output_type": "stream",
     "text": [
      "1\n"
     ]
    }
   ],
   "source": [
    "print(factorielle(0))"
   ]
  },
  {
   "cell_type": "code",
   "execution_count": 84,
   "id": "07861c50",
   "metadata": {},
   "outputs": [
    {
     "name": "stdout",
     "output_type": "stream",
     "text": [
      "120\n"
     ]
    }
   ],
   "source": [
    "print(factorielle(5))"
   ]
  },
  {
   "cell_type": "code",
   "execution_count": 85,
   "id": "a5dc39fa",
   "metadata": {},
   "outputs": [
    {
     "name": "stdout",
     "output_type": "stream",
     "text": [
      "Help on function factorielle in module __main__:\n",
      "\n",
      "factorielle(n)\n",
      "    Fonction qui calcule la factorielle de n\n",
      "    n est un entier positif\n",
      "\n"
     ]
    }
   ],
   "source": [
    "help(factorielle)"
   ]
  },
  {
   "cell_type": "markdown",
   "id": "3ab961a1",
   "metadata": {},
   "source": [
    "### Façon 2: par récursivité (la fonction s'appelle elle-même)"
   ]
  },
  {
   "cell_type": "code",
   "execution_count": 86,
   "id": "f85e951c",
   "metadata": {},
   "outputs": [],
   "source": [
    "def f(i):\n",
    "    if i==0:\n",
    "        return 1\n",
    "    else:\n",
    "        return i*f(i-1)"
   ]
  },
  {
   "cell_type": "code",
   "execution_count": 87,
   "id": "12d0efee",
   "metadata": {},
   "outputs": [
    {
     "name": "stdout",
     "output_type": "stream",
     "text": [
      "1\n"
     ]
    }
   ],
   "source": [
    "print(f(0))"
   ]
  },
  {
   "cell_type": "code",
   "execution_count": 88,
   "id": "e3ca3f69",
   "metadata": {},
   "outputs": [
    {
     "name": "stdout",
     "output_type": "stream",
     "text": [
      "1\n"
     ]
    }
   ],
   "source": [
    "print(f(1))"
   ]
  },
  {
   "cell_type": "code",
   "execution_count": 89,
   "id": "4038978e",
   "metadata": {},
   "outputs": [
    {
     "name": "stdout",
     "output_type": "stream",
     "text": [
      "120\n"
     ]
    }
   ],
   "source": [
    "print(f(5))"
   ]
  },
  {
   "cell_type": "code",
   "execution_count": 90,
   "id": "dbbd333c",
   "metadata": {},
   "outputs": [
    {
     "name": "stdout",
     "output_type": "stream",
     "text": [
      "2432902008176640000\n"
     ]
    }
   ],
   "source": [
    "print(f(20))"
   ]
  },
  {
   "cell_type": "markdown",
   "id": "99c81fca",
   "metadata": {},
   "source": [
    "## Exercice 5"
   ]
  },
  {
   "cell_type": "markdown",
   "id": "07bc3eba",
   "metadata": {},
   "source": [
    "Ecrire une **fonction** qui renvoie la racine carrée d'un nombre strictement positif $a$ au moyen de la formule itérative suivante:\n",
    "\\begin{equation}\n",
    "x_{i+1}=\\frac{1}{2}\\left( x_i+\\frac{a}{x_i}\\right),\\quad i=0, 1, 2, ...\n",
    "\\end{equation}\n",
    "Tester la valeur donnée par l'utilisateur et renvoyer une erreur si $a$ n'est pas strictement positif. Partir d'une valeur initiale $x_0=1$ et continuer les calculs jusqu'à ce que la précision relative soit de $10^{-6}$. Tracer le graphe en semilog de la précision relative en fonction du nombre d'itérations."
   ]
  },
  {
   "cell_type": "code",
   "execution_count": 95,
   "id": "a7c18b5e",
   "metadata": {},
   "outputs": [],
   "source": [
    "def sqroot(a):\n",
    "    \"\"\"calcule la racine carrée d'un nombre strictement positif a\"\"\"\n",
    "    try:\n",
    "        assert a>0\n",
    "    except AssertionError:\n",
    "        print(\"Erreur: a doit être >0\")\n",
    "        return # si pas cette ligne, le programme continue. Dans ce cas, on parlera d'un \"avertissement\" plutôt que d'une erreur\n",
    "    eps=1e-6\n",
    "    err_rel=1 # qque chose de + grand que eps pour démarrer\n",
    "    x_old=1;\n",
    "    k=0     # compteur\n",
    "    prec_rel=np.array([])\n",
    "    while err_rel>eps:\n",
    "        if k>10000:\n",
    "            print(\"Trop d'itérations => stop\")\n",
    "            return\n",
    "        x_new=0.5*(x_old+a/x_old)\n",
    "        err_rel=abs(x_new-x_old)/x_old  # erreur relative\n",
    "        k+=1\n",
    "        prec_rel=np.append(prec_rel,[err_rel])     # stockage pour graphe ; np.append pour ajouter un élément au vecteur\n",
    "        x_old=x_new\n",
    "    plt.semilogy(range(1,k+1),prec_rel,\"k\") \n",
    "    plt.semilogy(range(1,k+1),prec_rel,\"ro\")   \n",
    "    plt.grid()\n",
    "    plt.xlabel(\"Iteration\")\n",
    "    plt.ylabel(\"Erreur relative\")\n",
    "    return x_new"
   ]
  },
  {
   "cell_type": "code",
   "execution_count": 96,
   "id": "28f50212",
   "metadata": {},
   "outputs": [
    {
     "name": "stdout",
     "output_type": "stream",
     "text": [
      "5.0\n"
     ]
    },
    {
     "data": {
      "image/png": "[encoded data removed]",
      "text/plain": [
       "<Figure size 640x480 with 1 Axes>"
      ]
     },
     "metadata": {},
     "output_type": "display_data"
    }
   ],
   "source": [
    "print(sqroot(25))"
   ]
  },
  {
   "cell_type": "code",
   "execution_count": 97,
   "id": "818f687c",
   "metadata": {},
   "outputs": [
    {
     "name": "stdout",
     "output_type": "stream",
     "text": [
      "9.999999999999999e-05\n"
     ]
    },
    {
     "data": {
      "image/png": "[encoded data removed]",
      "text/plain": [
       "<Figure size 640x480 with 1 Axes>"
      ]
     },
     "metadata": {},
     "output_type": "display_data"
    }
   ],
   "source": [
    "print(sqroot(1e-8))"
   ]
  },
  {
   "cell_type": "code",
   "execution_count": 98,
   "id": "270114ef",
   "metadata": {},
   "outputs": [
    {
     "name": "stdout",
     "output_type": "stream",
     "text": [
      "1000000.0000000054\n"
     ]
    },
    {
     "data": {
      "image/png": "[encoded data removed]",
      "text/plain": [
       "<Figure size 640x480 with 1 Axes>"
      ]
     },
     "metadata": {},
     "output_type": "display_data"
    }
   ],
   "source": [
    "print(sqroot(1e12))"
   ]
  },
  {
   "cell_type": "markdown",
   "id": "963bc373",
   "metadata": {},
   "source": [
    "## Exercice 6"
   ]
  },
  {
   "cell_type": "markdown",
   "id": "be02a876",
   "metadata": {},
   "source": [
    "Ecrire une fonction qui demande à l'utilisateur de rentrer un montant en euro (via *input*), et qui renvoie le minimum de billets et pièces que cela représente (via *input*). Par exemple, $1256,75$ euros consiste en 6 billets de 200, 1 billet de 50, 1 billet de 5, 1 pièce de 1, 1 pièce de 50 cents, 1 pièce de 20 cents et 1 pièce de 5 cents. Pour rappel, il existe les billets de 5, 10, 20, 50, 100 et 200 euros, et les pièces de 5 centimes, 10 centimes, 20 centimes, 50 centimes, 1 euro et 2 euros. Tester la valeur donnée par l'utilisateur et redemander une valeur tant que le montant n'est pas positif et multiple de $0,05$.<br>\n",
    "*Indice 1:* Travailler avec le modulo, qui ne fonctionne correctement qu'avec des nombres entiers.<br>\n",
    "*Indice 2:* Pour arrondir un nombre réel $x$ à l'entier le plus proche, on utilise l'instruction `round(x)`, qui est de type *int*."
   ]
  },
  {
   "cell_type": "code",
   "execution_count": 99,
   "id": "3a3e933a",
   "metadata": {},
   "outputs": [],
   "source": [
    "def conversion_liquide():\n",
    "    \"\"\"Fonction qui demande un montant en euro et qui renvoie le nombre minimal de billets et pièces que cela représente\"\"\"\n",
    "    # NB: avec le modulo, il faut travailler avec des entiers pour éviter des imprécisions d'arrondis\n",
    "    x=-7\n",
    "    while (x<=0 or x%5!=0):\n",
    "        x=float(input(\"Entrez le montant en euro (strictement positif, multiple de 0.05): \"))     \n",
    "        x=100.*x     # x multiple de 0.05 donc 100*x doit être un multiple de 5\n",
    "        x=round(x);     # round() arrondit à l'entier et est de type int, tandis que int() tronque à l'entier et est de type int \n",
    "    print(\"Le montant \"+str(float(x)/100.)+\" est composé de:\")   # on spécifie le montant car le nombre entré par l'utilisateur peut être légèrement différent du nombre analysé dû aux erreurs d'arrondi\n",
    "    for d in [200,100,50,20,10,5,2,1,0.5,0.2,0.1,0.05]:\n",
    "        dd=round(100.*d)\n",
    "        n=x//dd\n",
    "        x=x%dd\n",
    "        if (d>=5 and n>0):\n",
    "            print(str(n)+\" billets de \"+str(d)+\" euros\")\n",
    "        elif n>0:\n",
    "            print(str(n)+\" pièces de \"+str(d)+\" euros\")"
   ]
  },
  {
   "cell_type": "code",
   "execution_count": 100,
   "id": "9e2836f6",
   "metadata": {},
   "outputs": [
    {
     "name": "stdout",
     "output_type": "stream",
     "text": [
      "Entrez le montant en euro (strictement positif, multiple de 0.05): 1234.567\n",
      "Entrez le montant en euro (strictement positif, multiple de 0.05): 1234.65\n",
      "Le montant 1234.65 est composé de:\n",
      "6 billets de 200 euros\n",
      "1 billets de 20 euros\n",
      "1 billets de 10 euros\n",
      "2 pièces de 2 euros\n",
      "1 pièces de 0.5 euros\n",
      "1 pièces de 0.1 euros\n",
      "1 pièces de 0.05 euros\n"
     ]
    }
   ],
   "source": [
    "conversion_liquide()"
   ]
  }
 ],
 "metadata": {
  "kernelspec": {
   "display_name": "Python 3 (ipykernel)",
   "language": "python",
   "name": "python3"
  },
  "language_info": {
   "codemirror_mode": {
    "name": "ipython",
    "version": 3
   },
   "file_extension": ".py",
   "mimetype": "text/x-python",
   "name": "python",
   "nbconvert_exporter": "python",
   "pygments_lexer": "ipython3",
   "version": "3.10.9"
  }
 },
 "nbformat": 4,
 "nbformat_minor": 5
}
