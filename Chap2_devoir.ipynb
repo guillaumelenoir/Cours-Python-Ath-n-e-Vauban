{
 "cells": [
  {
   "cell_type": "markdown",
   "id": "884368c0",
   "metadata": {},
   "source": [
    "# <span style=\"color:green\"><ins>Chapitre 2 : devoir</ins></span>"
   ]
  },
  {
   "cell_type": "markdown",
   "id": "4a8e62d5",
   "metadata": {},
   "source": [
    "Les 1500 salariés d’une entreprise sont répartis dans trois services A, B et C. Pour rééquilibrer les effectifs de ces trois services, il a été décidé que :\n",
    "- 10\\% des salariés du service B seront affectés au service C, les autres salariés de B restant en B. \n",
    "- 5\\% des salariés du service A seront affectés au service B et 15\\% au service C, les autres salariés de A restant en A. \n",
    "- Pas de transfert des salariés de C vers d'autres services. \n",
    "\n",
    "Après cette restructuration, le nombre de salariés du service B a diminué de 15 personnes et 159 salariés ont été mutés dans le service C.<br/>\n",
    "On note A, B et C le nombre de salariés respectifs des trois services A, B et C <u><b>avant</b></u> la restructuration. On note A', B' et C' le nombre de salariés respectifs de ces trois services <u><b>après</b></u> la restructuration.\n",
    "<ol>\n",
    "<li>(Sur papier) Ecrire le problème sous forme de système linéaire.</li>\n",
    "<li>Résoudre ce système avec Python pour déterminer A, B et C.</li>\n",
    "<li>Afficher proprement A, B, C et A', B', et C'.</li>\n",
    "</ol>"
   ]
  },
  {
   "cell_type": "code",
   "execution_count": 4,
   "id": "be5e605a",
   "metadata": {},
   "outputs": [
    {
     "name": "stdout",
     "output_type": "stream",
     "text": [
      "A = 720\n",
      "B = 510\n",
      "C = 270\n",
      "A' = 576\n",
      "B' = 495\n",
      "C' = 429\n"
     ]
    }
   ],
   "source": [
    "import numpy as np\n",
    "D=[[1,1,1],[0.05,-0.1,0],[0.15,0.1,0]]\n",
    "b=np.transpose(np.array([[1500,-15,159]]))\n",
    "X=np.linalg.solve(D,b)\n",
    "A=round(X[0,0])\n",
    "B=round(X[1,0])\n",
    "C=round(X[2,0])\n",
    "print(\"A = \"+str(A))\n",
    "print(\"B = \"+str(B))\n",
    "print(\"C = \"+str(C))\n",
    "Ap=round(0.8*A)\n",
    "Bp=B-15\n",
    "Cp=C+159\n",
    "print(\"A' = \"+str(Ap))\n",
    "print(\"B' = \"+str(Bp))\n",
    "print(\"C' = \"+str(Cp))"
   ]
  }
 ],
 "metadata": {
  "kernelspec": {
   "display_name": "Python 3 (ipykernel)",
   "language": "python",
   "name": "python3"
  },
  "language_info": {
   "codemirror_mode": {
    "name": "ipython",
    "version": 3
   },
   "file_extension": ".py",
   "mimetype": "text/x-python",
   "name": "python",
   "nbconvert_exporter": "python",
   "pygments_lexer": "ipython3",
   "version": "3.10.9"
  }
 },
 "nbformat": 4,
 "nbformat_minor": 5
}
