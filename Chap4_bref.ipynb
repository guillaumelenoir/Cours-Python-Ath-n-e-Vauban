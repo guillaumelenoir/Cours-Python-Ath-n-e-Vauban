{
 "cells": [
  {
   "cell_type": "markdown",
   "id": "84e05adc",
   "metadata": {},
   "source": [
    "# <span style=\"color:green\"><ins>Chapitre 4: Structures de contrôle et fonctions</ins></span>"
   ]
  },
  {
   "cell_type": "code",
   "execution_count": 105,
   "id": "f6c9ebba",
   "metadata": {},
   "outputs": [],
   "source": [
    "import numpy as np\n",
    "import matplotlib.pyplot as plt\n",
    "import scipy.optimize as sciop"
   ]
  },
  {
   "cell_type": "markdown",
   "id": "e73ba4bd",
   "metadata": {},
   "source": [
    "## 4.1 Contrôle conditionnel : if, elif, else"
   ]
  },
  {
   "cell_type": "markdown",
   "id": "9b898750",
   "metadata": {},
   "source": [
    "### Structure if simple"
   ]
  },
  {
   "cell_type": "markdown",
   "id": "4c0b37bf",
   "metadata": {},
   "source": [
    "#### Syntaxe"
   ]
  },
  {
   "cell_type": "markdown",
   "id": "6aab0b89",
   "metadata": {},
   "source": [
    "```\n",
    "if (condition logique):\n",
    "    # instructions exécutées si la condition est vraie (True)\n",
    "```"
   ]
  },
  {
   "cell_type": "markdown",
   "id": "ccd9d780",
   "metadata": {},
   "source": [
    "Si l'instruction tient sur une ligne, on peut aussi tout écrire sur une seule ligne :"
   ]
  },
  {
   "cell_type": "markdown",
   "id": "94c4c749",
   "metadata": {},
   "source": [
    "```\n",
    "if (condition logique): # instruction exécutée si la condition est vraie\n",
    "```"
   ]
  },
  {
   "cell_type": "markdown",
   "id": "60558f8f",
   "metadata": {},
   "source": [
    "#### Exemple"
   ]
  },
  {
   "cell_type": "code",
   "execution_count": 2,
   "id": "b0ebb728",
   "metadata": {},
   "outputs": [
    {
     "name": "stdout",
     "output_type": "stream",
     "text": [
      "0.7860367583723816\n",
      "x est plus grand que 0.5\n"
     ]
    }
   ],
   "source": [
    "x=np.random.uniform()        # nombre entre 0 et 1 choisi aléatoirement dans une distribution uniforme\n",
    "print(x)\n",
    "if x>=.5 : print(\"x est plus grand que 0.5\")"
   ]
  },
  {
   "cell_type": "markdown",
   "id": "85d2ef23",
   "metadata": {},
   "source": [
    "### Structure if avec plusieurs choix"
   ]
  },
  {
   "cell_type": "markdown",
   "id": "c71bced1",
   "metadata": {},
   "source": [
    "#### Syntaxe"
   ]
  },
  {
   "cell_type": "markdown",
   "id": "eca65131",
   "metadata": {},
   "source": [
    "On peut spécifier dans un bloc \"else\" ce qu'il faut exécuter si la condition du bloc if est fausse (False). "
   ]
  },
  {
   "cell_type": "markdown",
   "id": "b77a28a3",
   "metadata": {},
   "source": [
    "```\n",
    "if (condition logique):\n",
    "\n",
    "    # instructions exécutées si la condition est vraie (True)\n",
    "   \n",
    "else:\n",
    "\n",
    "    # instructions exécutées sinon\n",
    "```"
   ]
  },
  {
   "cell_type": "markdown",
   "id": "a58c5aa4",
   "metadata": {},
   "source": [
    "S'il y a plusieurs conditions à tester, on utilise la syntaxe suivante :"
   ]
  },
  {
   "cell_type": "markdown",
   "id": "985b16eb",
   "metadata": {},
   "source": [
    "```\n",
    "if (condition logique 1):\n",
    "\n",
    "    # instructions exécutées si la condition 1 est vraie (True)\n",
    "    \n",
    "elif (condition logique 2):\n",
    "\n",
    "    # instructions exécutées si la condition 2 est vraie (True)\n",
    "    ...\n",
    "    ...\n",
    "    ...\n",
    "\n",
    "else:\n",
    "\n",
    "    # instructions exécutées sinon\n",
    "```"
   ]
  },
  {
   "cell_type": "markdown",
   "id": "20d6a5ea",
   "metadata": {},
   "source": [
    "#### Exemple 1"
   ]
  },
  {
   "cell_type": "code",
   "execution_count": 3,
   "id": "05746379",
   "metadata": {},
   "outputs": [
    {
     "name": "stdout",
     "output_type": "stream",
     "text": [
      "21.95716331992179\n",
      "small\n"
     ]
    }
   ],
   "source": [
    "x=100*np.random.uniform()      # nombre entre 0 et 100 choisi aléatoirement dans une distribution uniforme\n",
    "print(x)\n",
    "if x<30:\n",
    "    print('small')\n",
    "elif x<80:\n",
    "    print('medium')\n",
    "else:\n",
    "    print('large')"
   ]
  },
  {
   "cell_type": "markdown",
   "id": "7e8633b5",
   "metadata": {},
   "source": [
    "#### Exemple 2 : Blocs imbriqués"
   ]
  },
  {
   "cell_type": "code",
   "execution_count": 4,
   "id": "14a2b8eb",
   "metadata": {},
   "outputs": [
    {
     "name": "stdout",
     "output_type": "stream",
     "text": [
      "Donnez une température (°C) :14\n",
      "Température (°C) :14.0\n",
      "Température positive\n",
      "doux\n",
      "Je sors du if interne\n",
      "je sors du if externe\n"
     ]
    }
   ],
   "source": [
    "t=float(input(\"Donnez une température (°C) :\"))          # Répondre à la requête...\n",
    "print(\"Température (°C) :\"+str(t))\n",
    "if t<=0:\n",
    "    print(\"risque de gel\")\n",
    "else:\n",
    "    print(\"Température positive\")\n",
    "    if t>20:\n",
    "        print(\"chaud\")\n",
    "    elif t>10:\n",
    "        print(\"doux\")\n",
    "    else:\n",
    "        print(\"froid\")\n",
    "    print(\"Je sors du if interne\")\n",
    "print(\"je sors du if externe\")"
   ]
  },
  {
   "cell_type": "markdown",
   "id": "2059accf",
   "metadata": {},
   "source": [
    "## 4.2 Contrôle de boucle avec itérables : for"
   ]
  },
  {
   "cell_type": "markdown",
   "id": "0f5b7cdf",
   "metadata": {},
   "source": [
    "### Parcourir un conteneur d'entiers avec range"
   ]
  },
  {
   "cell_type": "markdown",
   "id": "a3a58eb4",
   "metadata": {},
   "source": [
    "C'est le conteneur le plus utilisé en programmation scientifique. "
   ]
  },
  {
   "cell_type": "code",
   "execution_count": 5,
   "id": "83c7c09a",
   "metadata": {},
   "outputs": [
    {
     "name": "stdout",
     "output_type": "stream",
     "text": [
      "0\n",
      "1\n",
      "2\n",
      "3\n"
     ]
    }
   ],
   "source": [
    "for k in range(4):\n",
    "    print(k)"
   ]
  },
  {
   "cell_type": "code",
   "execution_count": 6,
   "id": "ba296b08",
   "metadata": {},
   "outputs": [
    {
     "name": "stdout",
     "output_type": "stream",
     "text": [
      "2\n",
      "3\n",
      "4\n",
      "5\n"
     ]
    }
   ],
   "source": [
    "for k in range(2,6):\n",
    "    print(k)"
   ]
  },
  {
   "cell_type": "code",
   "execution_count": 7,
   "id": "fc851e4f",
   "metadata": {},
   "outputs": [
    {
     "name": "stdout",
     "output_type": "stream",
     "text": [
      "0\n",
      "2\n",
      "4\n",
      "6\n",
      "8\n"
     ]
    }
   ],
   "source": [
    "for k in range(0,9,2):\n",
    "    print(k)"
   ]
  },
  {
   "cell_type": "code",
   "execution_count": 8,
   "id": "f6d331f7",
   "metadata": {},
   "outputs": [
    {
     "name": "stdout",
     "output_type": "stream",
     "text": [
      "8\n",
      "6\n",
      "4\n",
      "2\n"
     ]
    }
   ],
   "source": [
    "for k in range(8,0,-2):\n",
    "    print(k)"
   ]
  },
  {
   "cell_type": "markdown",
   "id": "a2564753",
   "metadata": {},
   "source": [
    "### Pacourir d'autres conteneurs"
   ]
  },
  {
   "cell_type": "code",
   "execution_count": 9,
   "id": "225b4d5f",
   "metadata": {},
   "outputs": [
    {
     "name": "stdout",
     "output_type": "stream",
     "text": [
      "c\n",
      "i\n",
      "a\n",
      "o\n"
     ]
    }
   ],
   "source": [
    "for x in \"ciao\":\n",
    "    print(x)"
   ]
  },
  {
   "cell_type": "code",
   "execution_count": 10,
   "id": "282edf61",
   "metadata": {},
   "outputs": [
    {
     "name": "stdout",
     "output_type": "stream",
     "text": [
      "2 4\n",
      "a aa\n",
      "3.141592653589793 6.283185307179586\n"
     ]
    }
   ],
   "source": [
    "for x in [2,'a',np.pi]:\n",
    "    print(x,x*2)"
   ]
  },
  {
   "cell_type": "markdown",
   "id": "1b83b68a",
   "metadata": {},
   "source": [
    "### Exemple 2"
   ]
  },
  {
   "cell_type": "code",
   "execution_count": 12,
   "id": "5cc26cf6",
   "metadata": {},
   "outputs": [
    {
     "name": "stdout",
     "output_type": "stream",
     "text": [
      "[[ 2.  3.  4.  5.  6.]\n",
      " [ 3.  4.  5.  6.  7.]\n",
      " [ 4.  5.  6.  7.  8.]\n",
      " [ 5.  6.  7.  8.  9.]\n",
      " [ 6.  7.  8.  9. 10.]]\n"
     ]
    }
   ],
   "source": [
    "A=np.zeros((5,5))     # Matrice de 0 5x5\n",
    "for i in range(5):\n",
    "    for j in range(5):\n",
    "        A[i,j]=2+i+j\n",
    "print(A)"
   ]
  },
  {
   "cell_type": "markdown",
   "id": "fc388018",
   "metadata": {},
   "source": [
    "Notez qu’on a initialisé la matrice avant les boucles (matrice de zéros) afin de fixer sa taille. Il est toujours préférable de procéder de la sorte lorsque c'est possible. "
   ]
  },
  {
   "cell_type": "markdown",
   "id": "ff03084b",
   "metadata": {},
   "source": [
    "## 4.3 Contrôle de boucle avec répétition sous condition : while"
   ]
  },
  {
   "cell_type": "markdown",
   "id": "d65a7a95",
   "metadata": {},
   "source": [
    "### Syntaxe"
   ]
  },
  {
   "cell_type": "markdown",
   "id": "4c596a6b",
   "metadata": {},
   "source": [
    "```\n",
    "while (condition logique):\n",
    "\n",
    "    # instructions exécutées si la condition est vraie (True)\n",
    "```"
   ]
  },
  {
   "cell_type": "markdown",
   "id": "97b5a445",
   "metadata": {},
   "source": [
    "### Exemple 1"
   ]
  },
  {
   "cell_type": "code",
   "execution_count": null,
   "id": "d36e4565",
   "metadata": {},
   "outputs": [],
   "source": [
    "while True:\n",
    "    print(\"Ceci est une boucle sans fin !!!\")"
   ]
  },
  {
   "cell_type": "markdown",
   "id": "6b9d4bbe",
   "metadata": {},
   "source": [
    "### Exemple 2 (approximation du log2 d'un nombre)"
   ]
  },
  {
   "cell_type": "code",
   "execution_count": 15,
   "id": "a55d88a9",
   "metadata": {},
   "outputs": [
    {
     "name": "stdout",
     "output_type": "stream",
     "text": [
      "Rentrez un nombre réel positif : 57\n",
      "L'entier plus petit ou égal à log2(57.0) vaut 5\n"
     ]
    }
   ],
   "source": [
    "x=float(input(\"Rentrez un nombre réel positif : \"))\n",
    "compteur=0\n",
    "sauv=x\n",
    "while x>1:\n",
    "    x=x//2          # division entière\n",
    "    compteur+=1\n",
    "print(\"L'entier plus petit ou égal à log2(\"+str(sauv)+\") vaut \"+str(compteur))"
   ]
  },
  {
   "cell_type": "markdown",
   "id": "34ecfdb9",
   "metadata": {},
   "source": [
    "### Exemple 3"
   ]
  },
  {
   "cell_type": "markdown",
   "id": "a7469c0c",
   "metadata": {},
   "source": [
    "On utilise souvent l'exemple suivant lorsqu'on demande une valeur à l'utilisateur. La boucle s'arrête lorsque l'utilisateur a fourni une valeur correcte. "
   ]
  },
  {
   "cell_type": "code",
   "execution_count": 16,
   "id": "3e10cac2",
   "metadata": {},
   "outputs": [
    {
     "name": "stdout",
     "output_type": "stream",
     "text": [
      "Entrez une valeur comprise entre 1 et 10 : 90.8\n",
      "Entrez une valeur comprise entre 1 et 10 : -8\n",
      "Entrez une valeur comprise entre 1 et 10 : 7\n",
      "Vous avez choisi 7\n"
     ]
    }
   ],
   "source": [
    "x=0\n",
    "while float(x)<1 or float(x)>10:\n",
    "    x=input('Entrez une valeur comprise entre 1 et 10 : ')\n",
    "    # répondre à la requête en donnant plusieurs valeurs non comprises dans cet intervalle, puis une dans l'intervalle\n",
    "print(\"Vous avez choisi \"+str(x))"
   ]
  },
  {
   "cell_type": "markdown",
   "id": "6b3b1719",
   "metadata": {},
   "source": [
    "## 4.4 Ruptures de séquences"
   ]
  },
  {
   "cell_type": "markdown",
   "id": "ae6ba225",
   "metadata": {},
   "source": [
    "Elles s'appliquent aux boucles `for` ou `while`."
   ]
  },
  {
   "cell_type": "markdown",
   "id": "cf166715",
   "metadata": {},
   "source": [
    "- L'instruction `break` permet de sortir prématurément de la boucle. \n",
    "- L'instruction `continue` permet de passer à l'itération suivante sans achever le bloc de code de l'itération en cours. \n",
    "\n",
    "Dans des boucles imbriquées, la rupture de séquence porte uniquement sur la boucle au sein de laquelle elle est utilisée."
   ]
  },
  {
   "cell_type": "markdown",
   "id": "d73dd018",
   "metadata": {},
   "source": [
    "### Exemple 1 (bien comprendre !!!)"
   ]
  },
  {
   "cell_type": "code",
   "execution_count": 17,
   "id": "b1287bf8",
   "metadata": {},
   "outputs": [
    {
     "name": "stdout",
     "output_type": "stream",
     "text": [
      "La valeur de i est -5\n",
      "La valeur de i est -4\n",
      "La valeur de i est -3\n",
      "La valeur de i est -2\n",
      "La valeur de i est -1\n",
      "La valeur de i est 1\n",
      "La valeur de i est 2\n",
      "La valeur de i est 3\n"
     ]
    }
   ],
   "source": [
    "for i in range(-5,6):\n",
    "    if i==0:\n",
    "        continue\n",
    "    print(\"La valeur de i est \"+str(i))\n",
    "    if i==3:\n",
    "        break"
   ]
  },
  {
   "cell_type": "markdown",
   "id": "53a4fe6c",
   "metadata": {},
   "source": [
    "## 4.5 Les fonctions"
   ]
  },
  {
   "cell_type": "markdown",
   "id": "ce9ea23a",
   "metadata": {},
   "source": [
    "Il existe deux types de fonctions :<ul> \n",
    "    <li>les fonctions internes à Python (built-in functions)</li>\n",
    "    <li>les fonctions que l'on code, avec `def`</li>\n",
    "    </ul>"
   ]
  },
  {
   "cell_type": "markdown",
   "id": "a6d24475",
   "metadata": {},
   "source": [
    "### Syntaxe de base"
   ]
  },
  {
   "cell_type": "markdown",
   "id": "0e958b39",
   "metadata": {},
   "source": [
    "Pour définir une fonction :"
   ]
  },
  {
   "cell_type": "markdown",
   "id": "becbc5f2",
   "metadata": {},
   "source": [
    "```\n",
    "def nom_de_ma_fonction(x,y,a,d):               # x,y,a,d = inputs         \n",
    "    \"\"\"documentation\"\"\"\n",
    "    # bloc de code\n",
    "    return c,b,f                               # c,b,f = outputs\n",
    "    # plus de code ici ! return => on sort de la fonction\n",
    "```"
   ]
  },
  {
   "cell_type": "markdown",
   "id": "db84cd3e",
   "metadata": {},
   "source": [
    "On notera que les inputs et outputs peuvent être n'importe quels objets : constantes de tous types, listes de valeurs, tableaux ou matrices, autres fonctions, ..."
   ]
  },
  {
   "cell_type": "markdown",
   "id": "01c907a2",
   "metadata": {},
   "source": [
    "Pour appeler cette fonction : "
   ]
  },
  {
   "cell_type": "markdown",
   "id": "b12d3659",
   "metadata": {},
   "source": [
    "```\n",
    "c,b,f=nom_de_ma_fonction(x,y,a,d)\n",
    "```"
   ]
  },
  {
   "cell_type": "markdown",
   "id": "1f9a4edc",
   "metadata": {},
   "source": [
    "Lorsqu'on appelle la fonction, les paramètres (ici : c,b,f,x,y,a,d) peuvent porter un autre nom mais doivent être mis dans le bon ordre."
   ]
  },
  {
   "cell_type": "markdown",
   "id": "92280b2d",
   "metadata": {},
   "source": [
    "### Exemple 1 : 1 input et 1 output"
   ]
  },
  {
   "cell_type": "code",
   "execution_count": 20,
   "id": "a64d7b0a",
   "metadata": {},
   "outputs": [],
   "source": [
    "def log5(x):\n",
    "    \"\"\"Fonction qui renvoie le logarithme en base 5 d'un scalaire x>0\"\"\"\n",
    "    import numpy as np          # Facultatif si déjà importé en dehors de la fonction\n",
    "    return np.log(x)/np.log(5)"
   ]
  },
  {
   "cell_type": "code",
   "execution_count": 21,
   "id": "49256232",
   "metadata": {},
   "outputs": [
    {
     "name": "stdout",
     "output_type": "stream",
     "text": [
      "4.0\n"
     ]
    }
   ],
   "source": [
    "y=log5(625)\n",
    "print(y)              # ou directement : print(log5(625))"
   ]
  },
  {
   "cell_type": "code",
   "execution_count": 22,
   "id": "eedf70db",
   "metadata": {},
   "outputs": [
    {
     "name": "stdout",
     "output_type": "stream",
     "text": [
      "Help on function log5 in module __main__:\n",
      "\n",
      "log5(x)\n",
      "    Fonction qui renvoie le logarithme en base 5 d'un scalaire x>0\n",
      "\n"
     ]
    }
   ],
   "source": [
    "help(log5)"
   ]
  },
  {
   "cell_type": "markdown",
   "id": "2455443a",
   "metadata": {},
   "source": [
    "### Exemple 2 : plusieurs inputs et plusieurs outputs"
   ]
  },
  {
   "cell_type": "code",
   "execution_count": 23,
   "id": "7520feaf",
   "metadata": {},
   "outputs": [],
   "source": [
    "def surface_volume_cylindre(r,H):\n",
    "    \"\"\"Fonction qui renvoie la surface et le volume d'un cylindre de rayon r et de hauteur H\"\"\"\n",
    "    import numpy as np\n",
    "    S=2*np.pi*r*H\n",
    "    V=np.pi*r**2*H\n",
    "    return S,V"
   ]
  },
  {
   "cell_type": "code",
   "execution_count": 24,
   "id": "439b2484",
   "metadata": {},
   "outputs": [
    {
     "name": "stdout",
     "output_type": "stream",
     "text": [
      "353.4920053819235 1025.1268156075782\n"
     ]
    }
   ],
   "source": [
    "Surface,Volume = surface_volume_cylindre(5.8,9.7)    \n",
    "print(Surface,Volume)"
   ]
  },
  {
   "cell_type": "markdown",
   "id": "d441865b",
   "metadata": {},
   "source": [
    "On peut nommer les inputs pour s'y retrouver ou si on veut les mettre dans un ordre différent :"
   ]
  },
  {
   "cell_type": "code",
   "execution_count": 25,
   "id": "091214cf",
   "metadata": {},
   "outputs": [
    {
     "name": "stdout",
     "output_type": "stream",
     "text": [
      "353.4920053819235 1025.1268156075782\n"
     ]
    }
   ],
   "source": [
    "Surface,Volume = surface_volume_cylindre(H=9.7,r=5.8)\n",
    "print(Surface,Volume)"
   ]
  },
  {
   "cell_type": "markdown",
   "id": "44ea6e89",
   "metadata": {},
   "source": [
    "Les outputs multiples peuvent être encapsulés :"
   ]
  },
  {
   "cell_type": "code",
   "execution_count": 26,
   "id": "f563f9a8",
   "metadata": {},
   "outputs": [],
   "source": [
    "y = surface_volume_cylindre(5.8,9.7)"
   ]
  },
  {
   "cell_type": "markdown",
   "id": "63459bee",
   "metadata": {},
   "source": [
    "puis décapsulés :"
   ]
  },
  {
   "cell_type": "code",
   "execution_count": 27,
   "id": "2fca3bab",
   "metadata": {},
   "outputs": [
    {
     "name": "stdout",
     "output_type": "stream",
     "text": [
      "353.4920053819235\n",
      "1025.1268156075782\n"
     ]
    }
   ],
   "source": [
    "print(y[0])\n",
    "print(y[1])"
   ]
  },
  {
   "cell_type": "markdown",
   "id": "cc6a2271",
   "metadata": {},
   "source": [
    "Les outputs sont en fait encapsulés dans un tuple :"
   ]
  },
  {
   "cell_type": "code",
   "execution_count": 28,
   "id": "7bd73dae",
   "metadata": {},
   "outputs": [
    {
     "data": {
      "text/plain": [
       "tuple"
      ]
     },
     "execution_count": 28,
     "metadata": {},
     "output_type": "execute_result"
    }
   ],
   "source": [
    "type(y)"
   ]
  },
  {
   "cell_type": "markdown",
   "id": "1dc56c3a",
   "metadata": {},
   "source": [
    "### Exemple 4 : ce qui est défini dans une fonction n'est pas accessible depuis l'extérieur (boite noire)"
   ]
  },
  {
   "cell_type": "markdown",
   "id": "f452ac27",
   "metadata": {},
   "source": [
    "Les seuls objets accessibles sont ceux renvoyés par `return`. Tous les autres objets définis dans le corps d'une fonction ne sont pas accessibles depuis l'extérieur de votre fonction. "
   ]
  },
  {
   "cell_type": "code",
   "execution_count": 32,
   "id": "351b97ac",
   "metadata": {},
   "outputs": [],
   "source": [
    "def ma_fonction(x,y):\n",
    "    zz=x+y\n",
    "    return x*y"
   ]
  },
  {
   "cell_type": "code",
   "execution_count": 33,
   "id": "51c2f912",
   "metadata": {},
   "outputs": [
    {
     "name": "stdout",
     "output_type": "stream",
     "text": [
      "12\n"
     ]
    }
   ],
   "source": [
    "m=ma_fonction(3,4)\n",
    "print(m)"
   ]
  },
  {
   "cell_type": "code",
   "execution_count": 34,
   "id": "822cfde3",
   "metadata": {},
   "outputs": [
    {
     "ename": "NameError",
     "evalue": "name 'zz' is not defined",
     "output_type": "error",
     "traceback": [
      "\u001b[0;31m---------------------------------------------------------------------------\u001b[0m",
      "\u001b[0;31mNameError\u001b[0m                                 Traceback (most recent call last)",
      "Cell \u001b[0;32mIn[34], line 1\u001b[0m\n\u001b[0;32m----> 1\u001b[0m \u001b[38;5;28mprint\u001b[39m(\u001b[43mzz\u001b[49m)\n",
      "\u001b[0;31mNameError\u001b[0m: name 'zz' is not defined"
     ]
    }
   ],
   "source": [
    "print(zz)   # z pas accessible depuis l'extérieur de la fonction => erreur"
   ]
  },
  {
   "cell_type": "markdown",
   "id": "83ff959e",
   "metadata": {},
   "source": [
    "### Exemple 6 : Inputs ayant des valeurs par défaut"
   ]
  },
  {
   "cell_type": "code",
   "execution_count": 38,
   "id": "a2cd08ed",
   "metadata": {},
   "outputs": [],
   "source": [
    "def surface_volume_cylindre(r=1,H=2):\n",
    "    \"\"\"Fonction qui renvoie la surface en cm^2 et le volume en cm^3 d'un cylindre de rayon r et de hauteur H\n",
    "    Par défaut, r=1cm et H=2cm\"\"\"\n",
    "    import numpy as np\n",
    "    S=2*np.pi*r*H\n",
    "    V=np.pi*r**2*H\n",
    "    return S,V"
   ]
  },
  {
   "cell_type": "code",
   "execution_count": 39,
   "id": "8f628500",
   "metadata": {},
   "outputs": [
    {
     "name": "stdout",
     "output_type": "stream",
     "text": [
      "Help on function surface_volume_cylindre in module __main__:\n",
      "\n",
      "surface_volume_cylindre(r=1, H=2)\n",
      "    Fonction qui renvoie la surface en cm^2 et le volume en cm^3 d'un cylindre de rayon r et de hauteur H\n",
      "    Par défaut, r=1cm et H=2cm\n",
      "\n"
     ]
    }
   ],
   "source": [
    "help(surface_volume_cylindre)"
   ]
  },
  {
   "cell_type": "code",
   "execution_count": 40,
   "id": "789e5469",
   "metadata": {},
   "outputs": [
    {
     "name": "stdout",
     "output_type": "stream",
     "text": [
      "12.566370614359172 6.283185307179586\n"
     ]
    }
   ],
   "source": [
    "Surf,Vol = surface_volume_cylindre()    # Aucun input => valeurs par défaut\n",
    "print(Surf,Vol)"
   ]
  },
  {
   "cell_type": "code",
   "execution_count": 41,
   "id": "d3528d2a",
   "metadata": {},
   "outputs": [
    {
     "name": "stdout",
     "output_type": "stream",
     "text": [
      "25.132741228718345 25.132741228718345\n"
     ]
    }
   ],
   "source": [
    "Surf,Vol = surface_volume_cylindre(2)    # param 1 fourni (=> r=2cm)\n",
    "print(Surf,Vol)"
   ]
  },
  {
   "cell_type": "code",
   "execution_count": 42,
   "id": "861db97f",
   "metadata": {},
   "outputs": [
    {
     "name": "stdout",
     "output_type": "stream",
     "text": [
      "31.41592653589793 15.707963267948966\n"
     ]
    }
   ],
   "source": [
    "Surf,Vol = surface_volume_cylindre(H=5)    # H fourni (=> H=5cm)\n",
    "print(Surf,Vol)"
   ]
  },
  {
   "cell_type": "markdown",
   "id": "3e9e4e24",
   "metadata": {},
   "source": [
    "Nota bene :"
   ]
  },
  {
   "cell_type": "markdown",
   "id": "e8c01a00",
   "metadata": {},
   "source": [
    "Lorsqu'on définit une fonction avec un mélange d'inputs avec valeur par défaut et d'inputs sans valeur par défaut, on est obligé de placer d'abord les inputs sans valeur par défaut.  "
   ]
  },
  {
   "cell_type": "markdown",
   "id": "ecf77ce8",
   "metadata": {},
   "source": [
    "## 4.7 Fonctions anonymes (fonctions lambda)"
   ]
  },
  {
   "cell_type": "markdown",
   "id": "0b7f9fcb",
   "metadata": {},
   "source": [
    "Il est possible de créer une fonction sur 1 ligne sans passer par `def`. Dans la suite du cours, on utilisera souvent cette manière de faire comme alternative à `def`. Il est même possible de ne pas donner de nom à la fonction (voir exemple 3). "
   ]
  },
  {
   "cell_type": "markdown",
   "id": "0be81fb1",
   "metadata": {},
   "source": [
    "### Syntaxe "
   ]
  },
  {
   "cell_type": "markdown",
   "id": "16b72dbb",
   "metadata": {},
   "source": [
    "```\n",
    "lambda [paramètres]: expression\n",
    "```"
   ]
  },
  {
   "cell_type": "markdown",
   "id": "3db9bf3b",
   "metadata": {},
   "source": [
    "### Exemple 1 : fonction $f(x)=sin(x^2+2)$"
   ]
  },
  {
   "cell_type": "code",
   "execution_count": 51,
   "id": "d3573205",
   "metadata": {},
   "outputs": [],
   "source": [
    "f=lambda x: np.sin(x**2+2)"
   ]
  },
  {
   "cell_type": "code",
   "execution_count": 52,
   "id": "6329e7cf",
   "metadata": {},
   "outputs": [
    {
     "data": {
      "text/plain": [
       "0.956375928404503"
      ]
     },
     "execution_count": 52,
     "metadata": {},
     "output_type": "execute_result"
    }
   ],
   "source": [
    "f(5)"
   ]
  },
  {
   "cell_type": "markdown",
   "id": "234cc025",
   "metadata": {},
   "source": [
    "### Exemple 2 : définition d'un polynôme avec `def` et `lambda`"
   ]
  },
  {
   "cell_type": "code",
   "execution_count": 53,
   "id": "c9cb2565",
   "metadata": {},
   "outputs": [],
   "source": [
    "def polynome(a,b,c):\n",
    "    return lambda x: a*x**2+b*x+c     # polynôme de degré 2"
   ]
  },
  {
   "cell_type": "code",
   "execution_count": 54,
   "id": "24199ba9",
   "metadata": {},
   "outputs": [
    {
     "name": "stdout",
     "output_type": "stream",
     "text": [
      "<function polynome.<locals>.<lambda> at 0x7fdeb30e1c60>\n",
      "14\n"
     ]
    }
   ],
   "source": [
    "p=polynome(a=3,b=-1,c=4)\n",
    "print(p)\n",
    "print(p(2))           # on évalue le polynôme en x=2"
   ]
  },
  {
   "cell_type": "markdown",
   "id": "66951375",
   "metadata": {},
   "source": [
    "### Exemple 3 : fonction sans nom pour utilisation directe"
   ]
  },
  {
   "cell_type": "code",
   "execution_count": 55,
   "id": "7efa6ff7",
   "metadata": {},
   "outputs": [
    {
     "data": {
      "text/plain": [
       "5"
      ]
     },
     "execution_count": 55,
     "metadata": {},
     "output_type": "execute_result"
    }
   ],
   "source": [
    "(lambda x, y: x + y)(2, 3)"
   ]
  },
  {
   "cell_type": "markdown",
   "id": "f78940a4",
   "metadata": {},
   "source": [
    "## 4.8 Interception des erreurs "
   ]
  },
  {
   "cell_type": "markdown",
   "id": "fa8e1e41",
   "metadata": {},
   "source": [
    "### Exemple 1 : traiter une erreur\n",
    "Soit la fonction $f(x)=\\sqrt{x-2}$. Renvoyons une erreur si l'utilisateur rentre une valeur de $x$ $<2$ :"
   ]
  },
  {
   "cell_type": "code",
   "execution_count": 56,
   "id": "32389a22",
   "metadata": {},
   "outputs": [],
   "source": [
    "def ma_fonction(x):\n",
    "    \"\"\"Fonction qui calcule la racine carrée de x-2\"\"\"\n",
    "    try:\n",
    "        assert x>=2              # condition pour qu'il n'y ait pas d'erreur\n",
    "    except AssertionError:\n",
    "        print(\"Mauvaise valeur de x ! Tu as bien foiré ahahah\")       # Bloc de code exécuté en cas d'erreur (valeur False pour assert ci-dessus)\n",
    "        return                                                        # Pour sortir de la fonction\n",
    "    import numpy as np\n",
    "    return np.sqrt(x-2)"
   ]
  },
  {
   "cell_type": "code",
   "execution_count": 57,
   "id": "e81e05bb",
   "metadata": {},
   "outputs": [
    {
     "data": {
      "text/plain": [
       "2.0"
      ]
     },
     "execution_count": 57,
     "metadata": {},
     "output_type": "execute_result"
    }
   ],
   "source": [
    "ma_fonction(6)"
   ]
  },
  {
   "cell_type": "code",
   "execution_count": 58,
   "id": "23a0dd32",
   "metadata": {},
   "outputs": [
    {
     "name": "stdout",
     "output_type": "stream",
     "text": [
      "Mauvaise valeur de x ! Tu as bien foiré ahahah\n"
     ]
    }
   ],
   "source": [
    "ma_fonction(1)"
   ]
  },
  {
   "cell_type": "markdown",
   "id": "c366717d",
   "metadata": {},
   "source": [
    "Comparons avec une non-interception de l'erreur (on laisse la main à l'interpréteur python, qui renvoie un **avertissement** et `nan` en sortie de la fonction) :"
   ]
  },
  {
   "cell_type": "code",
   "execution_count": 59,
   "id": "339e23db",
   "metadata": {},
   "outputs": [],
   "source": [
    "def ma_fonction(x):\n",
    "    import numpy as np\n",
    "    return np.sqrt(x-2)"
   ]
  },
  {
   "cell_type": "code",
   "execution_count": 60,
   "id": "fe4480be",
   "metadata": {},
   "outputs": [
    {
     "name": "stderr",
     "output_type": "stream",
     "text": [
      "/var/folders/y7/qst494yn7fn744n4rf6j32lm0000gn/T/ipykernel_71545/1046901446.py:3: RuntimeWarning: invalid value encountered in sqrt\n",
      "  return np.sqrt(x-2)\n"
     ]
    },
    {
     "data": {
      "text/plain": [
       "nan"
      ]
     },
     "execution_count": 60,
     "metadata": {},
     "output_type": "execute_result"
    }
   ],
   "source": [
    "ma_fonction(1)"
   ]
  },
  {
   "cell_type": "markdown",
   "id": "32b51abb",
   "metadata": {},
   "source": [
    "## Exercice 1"
   ]
  },
  {
   "cell_type": "markdown",
   "id": "c1ca7f84",
   "metadata": {},
   "source": [
    "Ecrire une **fonction** qui prend deux entiers $a$ et $b$ en input, et renvoyer une erreur si les conditions suivantes ne sont pas satisfaites :\n",
    "\n",
    "- $a>0$\n",
    "- $b\\neq 0$\n",
    "\n",
    "Votre fonction, qui ne comportera pas d'output, affichera les calculs et les résultats des opérations suivantes : $a+b$, $a-b$, $a*b$, $a/b$, $\\log_{10}(a)$, $a^b$. Exemple d'affichage :"
   ]
  },
  {
   "attachments": {
    "chap4_exo1.png": {
     "image/png": "[encoded data removed]"
    }
   },
   "cell_type": "markdown",
   "id": "7ddd7228",
   "metadata": {},
   "source": [
    "![chap4_exo1.png](attachment:chap4_exo1.png)"
   ]
  },
  {
   "cell_type": "markdown",
   "id": "2ba3cf46",
   "metadata": {},
   "source": [
    "## Exercice 2"
   ]
  },
  {
   "cell_type": "markdown",
   "id": "07d867c8",
   "metadata": {},
   "source": [
    "Soit une suite définie par récurrence : \n",
    "\\begin{equation}\n",
    "\\left\\{\\begin{array}{l}\n",
    "x_0=\\sqrt{2}\\\\\n",
    "x_{n}=\\sqrt{2+x_{n-1}}\\quad\\forall n\\in\\mathbb{N}_0\n",
    "\\end{array}\\right.\n",
    "\\end{equation}\n",
    "Ecrire une **fonction** qui prend en input l'indice $n$ et qui renvoie $x_n$ en output.<br/>\n",
    "Montrer ensuite que cette suite converge vers $2$. "
   ]
  },
  {
   "cell_type": "markdown",
   "id": "2e5fb7ed",
   "metadata": {},
   "source": [
    "## Exercice 3"
   ]
  },
  {
   "cell_type": "markdown",
   "id": "92b62111",
   "metadata": {},
   "source": [
    "Ecrire une fonction qui renvoie le plus grand commun diviseur (PGCD) de deux entiers strictement positifs au moyen de l'algorithme d'Euclide. Cet algorithme est expliqué sur cette page web:<br/>\n",
    "https://fr.wikipedia.org/wiki/Algorithme_d%27Euclide<br>\n",
    "Tester les nombres donnés par l'utilisateur et renvoyer une erreur si ceux-ci ne sont pas des entiers strictement positifs.<br>\n",
    "*Indice:* Pour tester si le nombre $x$ est de type *int* (entier) , on utilise l'instruction `isinstance(x, int)`, qui renvoie vrai ou faux."
   ]
  },
  {
   "cell_type": "markdown",
   "id": "b9b2c60c",
   "metadata": {},
   "source": [
    "## Exercice 4"
   ]
  },
  {
   "cell_type": "markdown",
   "id": "3d41a5ef",
   "metadata": {},
   "source": [
    "Ecrire une **fonction** qui renvoie en output la factorielle d'un nombre entier. Ce nombre entier est donné en input de la fonction."
   ]
  },
  {
   "cell_type": "markdown",
   "id": "ba0fc4c6",
   "metadata": {},
   "source": [
    "## Exercice 5"
   ]
  },
  {
   "cell_type": "markdown",
   "id": "cdbc57be",
   "metadata": {},
   "source": [
    "Ecrire une **fonction** qui renvoie la racine carrée d'un nombre strictement positif $a$ au moyen de la formule itérative suivante:\n",
    "\\begin{equation}\n",
    "x_{i+1}=\\frac{1}{2}\\left( x_i+\\frac{a}{x_i}\\right),\\quad i=0, 1, 2, ...\n",
    "\\end{equation}\n",
    "Tester la valeur donnée par l'utilisateur et renvoyer une erreur si $a$ n'est pas strictement positif. Partir d'une valeur initiale $x_0=1$ et continuer les calculs jusqu'à ce que la précision relative soit de $10^{-6}$. Tracer le graphe en semilog de la précision relative en fonction du nombre d'itérations."
   ]
  },
  {
   "cell_type": "markdown",
   "id": "397b6049",
   "metadata": {},
   "source": [
    "## Exercice 6"
   ]
  },
  {
   "cell_type": "markdown",
   "id": "220706b1",
   "metadata": {},
   "source": [
    "Ecrire une fonction qui demande à l'utilisateur de rentrer un montant en euro (via *input*), et qui renvoie le minimum de billets et pièces que cela représente (via *input*). Par exemple, $1256,75$ euros consiste en 6 billets de 200, 1 billet de 50, 1 billet de 5, 1 pièce de 1, 1 pièce de 50 cents, 1 pièce de 20 cents et 1 pièce de 5 cents. Pour rappel, il existe les billets de 5, 10, 20, 50, 100 et 200 euros, et les pièces de 5 centimes, 10 centimes, 20 centimes, 50 centimes, 1 euro et 2 euros. Tester la valeur donnée par l'utilisateur et redemander une valeur tant que le montant n'est pas positif et multiple de $0,05$.<br>\n",
    "*Indice 1:* Travailler avec le modulo, qui ne fonctionne correctement qu'avec des nombres entiers.<br>\n",
    "*Indice 2:* Pour arrondir un nombre réel $x$ à l'entier le plus proche, on utilise l'instruction `round(x)`, qui est de type *int*."
   ]
  }
 ],
 "metadata": {
  "kernelspec": {
   "display_name": "Python 3 (ipykernel)",
   "language": "python",
   "name": "python3"
  },
  "language_info": {
   "codemirror_mode": {
    "name": "ipython",
    "version": 3
   },
   "file_extension": ".py",
   "mimetype": "text/x-python",
   "name": "python",
   "nbconvert_exporter": "python",
   "pygments_lexer": "ipython3",
   "version": "3.10.9"
  }
 },
 "nbformat": 4,
 "nbformat_minor": 5
}
