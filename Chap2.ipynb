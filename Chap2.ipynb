{
 "cells": [
  {
   "cell_type": "markdown",
   "id": "d71f00f5",
   "metadata": {},
   "source": [
    "# <span style=\"color:green\"><ins>Chapitre 2: Vecteurs, matrices et systèmes linéaires</ins></span>"
   ]
  },
  {
   "cell_type": "code",
   "execution_count": 1,
   "id": "f1946cab",
   "metadata": {},
   "outputs": [],
   "source": [
    "import numpy as np"
   ]
  },
  {
   "cell_type": "markdown",
   "id": "cb06347a",
   "metadata": {},
   "source": [
    "Dans ce chapitre, nous allons présenter quelques fonctions de la sous-librairie \"linalg\" de numpy (linear algebra). La liste exhaustive de toutes les fonctions disponibles est présentée sous le lien suivant :\n",
    "https://numpy.org/doc/stable/reference/routines.linalg.html"
   ]
  },
  {
   "cell_type": "markdown",
   "id": "51594fd1",
   "metadata": {},
   "source": [
    "## Matrices et vecteurs : syntaxe"
   ]
  },
  {
   "cell_type": "markdown",
   "id": "8916632d",
   "metadata": {},
   "source": [
    "On supposera toujours que les matrices et vecteurs sont définis comme des tableaux numpy comme suit :<br/>\n",
    "Pour définir\n",
    "\\begin{equation*}\n",
    "A=\n",
    "\\left(\n",
    "\\begin{matrix}\n",
    "1 & 2\\\\\n",
    "3 & 4\n",
    "\\end{matrix}\n",
    "\\right)\n",
    "\\end{equation*}\n",
    "On code :"
   ]
  },
  {
   "cell_type": "code",
   "execution_count": 2,
   "id": "017e4bef",
   "metadata": {},
   "outputs": [
    {
     "name": "stdout",
     "output_type": "stream",
     "text": [
      "[[1 2]\n",
      " [3 4]]\n"
     ]
    }
   ],
   "source": [
    "A=np.array([[1,2],[3,4]])\n",
    "print(A)"
   ]
  },
  {
   "cell_type": "markdown",
   "id": "2ba232eb",
   "metadata": {},
   "source": [
    "Pour définir\n",
    "\\begin{equation*}\n",
    "A=\n",
    "\\left(\n",
    "\\begin{matrix}\n",
    "1\\\\\n",
    "2\n",
    "\\end{matrix}\n",
    "\\right)\n",
    "\\end{equation*}\n",
    "On code :"
   ]
  },
  {
   "cell_type": "code",
   "execution_count": 3,
   "id": "d1befe8a",
   "metadata": {},
   "outputs": [
    {
     "name": "stdout",
     "output_type": "stream",
     "text": [
      "[[1]\n",
      " [2]]\n"
     ]
    }
   ],
   "source": [
    "A=np.array([[1],[2]])\n",
    "print(A)"
   ]
  },
  {
   "cell_type": "markdown",
   "id": "f8f9e821",
   "metadata": {},
   "source": [
    "Pour définir\n",
    "\\begin{equation*}\n",
    "A=\n",
    "\\left(\n",
    "\\begin{matrix}\n",
    "1 & 2\n",
    "\\end{matrix}\n",
    "\\right)\n",
    "\\end{equation*}\n",
    "On code :"
   ]
  },
  {
   "cell_type": "code",
   "execution_count": 4,
   "id": "9c71e499",
   "metadata": {},
   "outputs": [
    {
     "name": "stdout",
     "output_type": "stream",
     "text": [
      "[[1 2]]\n"
     ]
    }
   ],
   "source": [
    "A=np.array([[1,2]])\n",
    "print(A)"
   ]
  },
  {
   "cell_type": "markdown",
   "id": "b48e7ac3",
   "metadata": {},
   "source": [
    "## Opérations matricielles versus opérations terme à terme"
   ]
  },
  {
   "cell_type": "markdown",
   "id": "54a34416",
   "metadata": {},
   "source": [
    "### La règle"
   ]
  },
  {
   "cell_type": "markdown",
   "id": "b8d083b1",
   "metadata": {},
   "source": [
    "Lorsqu'on écrit `A@B`, c'est une multiplication matricielle, les dimensions de $A$ et $B$ doivent donc satisfaire les propriétés matricielles.<br/>\n",
    "Lorsqu'on écrit `A*B`, `A/B` ou `A**B`, ce sont des opérations terme à terme (l'opérateur s'applique entre les mêmes composantes de $A$ et $B$). $A$ et $B$ doivent donc avoir la même dimension."
   ]
  },
  {
   "cell_type": "markdown",
   "id": "e97221f7",
   "metadata": {},
   "source": [
    "### Exemple 1"
   ]
  },
  {
   "cell_type": "markdown",
   "id": "8de49b43",
   "metadata": {},
   "source": [
    "Soient les matrices suivantes :"
   ]
  },
  {
   "cell_type": "code",
   "execution_count": 5,
   "id": "a0d7422e",
   "metadata": {},
   "outputs": [
    {
     "name": "stdout",
     "output_type": "stream",
     "text": [
      "[[1 2]\n",
      " [3 4]]\n"
     ]
    }
   ],
   "source": [
    "A=np.array([[1,2],[3,4]])\n",
    "print(A)"
   ]
  },
  {
   "cell_type": "code",
   "execution_count": 6,
   "id": "ec07cbfd",
   "metadata": {},
   "outputs": [
    {
     "name": "stdout",
     "output_type": "stream",
     "text": [
      "[[5 0]\n",
      " [2 1]]\n"
     ]
    }
   ],
   "source": [
    "B=np.array([[5,0],[2,1]])\n",
    "print(B)"
   ]
  },
  {
   "cell_type": "markdown",
   "id": "0de9479c",
   "metadata": {},
   "source": [
    "`A@B` va donner la multiplication matricielle, et `A*B` va donner la multiplication terme à terme (élément (i,j) de $A$ multiplié par l'élément (i,j) de $B$) :"
   ]
  },
  {
   "cell_type": "code",
   "execution_count": 7,
   "id": "9822ef09",
   "metadata": {},
   "outputs": [
    {
     "name": "stdout",
     "output_type": "stream",
     "text": [
      "[[ 9  2]\n",
      " [23  4]]\n"
     ]
    }
   ],
   "source": [
    "print(A@B)"
   ]
  },
  {
   "cell_type": "code",
   "execution_count": 8,
   "id": "11f98b27",
   "metadata": {},
   "outputs": [
    {
     "name": "stdout",
     "output_type": "stream",
     "text": [
      "[[5 0]\n",
      " [6 4]]\n"
     ]
    }
   ],
   "source": [
    "print(A*B)"
   ]
  },
  {
   "cell_type": "markdown",
   "id": "c6f05e7e",
   "metadata": {},
   "source": [
    "### Exemple 2"
   ]
  },
  {
   "cell_type": "markdown",
   "id": "f7a540f8",
   "metadata": {},
   "source": [
    "Soient les matrices suivantes :"
   ]
  },
  {
   "cell_type": "code",
   "execution_count": 9,
   "id": "3f06f705",
   "metadata": {},
   "outputs": [
    {
     "name": "stdout",
     "output_type": "stream",
     "text": [
      "[[1 2 3]\n",
      " [4 5 6]]\n"
     ]
    }
   ],
   "source": [
    "A=np.array([[1,2,3],[4,5,6]])\n",
    "print(A)"
   ]
  },
  {
   "cell_type": "code",
   "execution_count": 10,
   "id": "d06f1e35",
   "metadata": {},
   "outputs": [
    {
     "name": "stdout",
     "output_type": "stream",
     "text": [
      "[[5]\n",
      " [2]\n",
      " [0]]\n"
     ]
    }
   ],
   "source": [
    "B=np.array([[5],[2],[0]])\n",
    "print(B)"
   ]
  },
  {
   "cell_type": "markdown",
   "id": "b548bb38",
   "metadata": {},
   "source": [
    "`A@B` va donner la multiplication matricielle, et `A*B` va donner **une erreur** car  $A$ et $B$ ne sont pas de même dimension :"
   ]
  },
  {
   "cell_type": "code",
   "execution_count": 11,
   "id": "4d640667",
   "metadata": {},
   "outputs": [
    {
     "name": "stdout",
     "output_type": "stream",
     "text": [
      "[[ 9]\n",
      " [30]]\n"
     ]
    }
   ],
   "source": [
    "print(A@B)"
   ]
  },
  {
   "cell_type": "code",
   "execution_count": 12,
   "id": "56e44ecd",
   "metadata": {},
   "outputs": [
    {
     "ename": "ValueError",
     "evalue": "operands could not be broadcast together with shapes (2,3) (3,1) ",
     "output_type": "error",
     "traceback": [
      "\u001b[0;31m---------------------------------------------------------------------------\u001b[0m",
      "\u001b[0;31mValueError\u001b[0m                                Traceback (most recent call last)",
      "Cell \u001b[0;32mIn[12], line 1\u001b[0m\n\u001b[0;32m----> 1\u001b[0m \u001b[38;5;28mprint\u001b[39m(\u001b[43mA\u001b[49m\u001b[38;5;241;43m*\u001b[39;49m\u001b[43mB\u001b[49m)\n",
      "\u001b[0;31mValueError\u001b[0m: operands could not be broadcast together with shapes (2,3) (3,1) "
     ]
    }
   ],
   "source": [
    "print(A*B)"
   ]
  },
  {
   "cell_type": "markdown",
   "id": "5a9e5160",
   "metadata": {},
   "source": [
    "### Exemple 3"
   ]
  },
  {
   "cell_type": "markdown",
   "id": "d929b963",
   "metadata": {},
   "source": [
    "Soient les matrices suivantes :"
   ]
  },
  {
   "cell_type": "code",
   "execution_count": 13,
   "id": "c5b7b7c0",
   "metadata": {},
   "outputs": [
    {
     "name": "stdout",
     "output_type": "stream",
     "text": [
      "[[1 2 3]\n",
      " [4 5 6]]\n"
     ]
    }
   ],
   "source": [
    "A=np.array([[1,2,3],[4,5,6]])\n",
    "print(A)"
   ]
  },
  {
   "cell_type": "code",
   "execution_count": 14,
   "id": "513f8002",
   "metadata": {},
   "outputs": [
    {
     "name": "stdout",
     "output_type": "stream",
     "text": [
      "[[5 0 3]\n",
      " [2 1 5]]\n"
     ]
    }
   ],
   "source": [
    "B=np.array([[5,0,3],[2,1,5]])\n",
    "print(B)"
   ]
  },
  {
   "cell_type": "markdown",
   "id": "cfa45731",
   "metadata": {},
   "source": [
    "`A@B` va donner **une erreur** car le nombre de colonnes de $A$ n'est pas égal au nombre de lignes de $B$, et `A*B` va donner la multiplication terme à terme :"
   ]
  },
  {
   "cell_type": "code",
   "execution_count": 15,
   "id": "7be1daaa",
   "metadata": {},
   "outputs": [
    {
     "ename": "ValueError",
     "evalue": "matmul: Input operand 1 has a mismatch in its core dimension 0, with gufunc signature (n?,k),(k,m?)->(n?,m?) (size 2 is different from 3)",
     "output_type": "error",
     "traceback": [
      "\u001b[0;31m---------------------------------------------------------------------------\u001b[0m",
      "\u001b[0;31mValueError\u001b[0m                                Traceback (most recent call last)",
      "Cell \u001b[0;32mIn[15], line 1\u001b[0m\n\u001b[0;32m----> 1\u001b[0m \u001b[38;5;28mprint\u001b[39m(\u001b[43mA\u001b[49m\u001b[38;5;129;43m@B\u001b[39;49m)\n",
      "\u001b[0;31mValueError\u001b[0m: matmul: Input operand 1 has a mismatch in its core dimension 0, with gufunc signature (n?,k),(k,m?)->(n?,m?) (size 2 is different from 3)"
     ]
    }
   ],
   "source": [
    "print(A@B)"
   ]
  },
  {
   "cell_type": "code",
   "execution_count": 16,
   "id": "791cdeab",
   "metadata": {},
   "outputs": [
    {
     "name": "stdout",
     "output_type": "stream",
     "text": [
      "[[ 5  0  9]\n",
      " [ 8  5 30]]\n"
     ]
    }
   ],
   "source": [
    "print(A*B)"
   ]
  },
  {
   "cell_type": "markdown",
   "id": "e1dc1732",
   "metadata": {},
   "source": [
    "### Exemple 4"
   ]
  },
  {
   "cell_type": "markdown",
   "id": "2cf36a0d",
   "metadata": {},
   "source": [
    "Soit la matrice suivante :"
   ]
  },
  {
   "cell_type": "code",
   "execution_count": 17,
   "id": "2b9dafe5",
   "metadata": {},
   "outputs": [
    {
     "name": "stdout",
     "output_type": "stream",
     "text": [
      "[[1 2 3]\n",
      " [4 5 6]]\n"
     ]
    }
   ],
   "source": [
    "A=np.array([[1,2,3],[4,5,6]])\n",
    "print(A)"
   ]
  },
  {
   "cell_type": "markdown",
   "id": "11234eda",
   "metadata": {},
   "source": [
    "L'opération `2*A` multiplie chaque élément de $A$ par 2 :"
   ]
  },
  {
   "cell_type": "code",
   "execution_count": 18,
   "id": "098d1eb2",
   "metadata": {},
   "outputs": [
    {
     "name": "stdout",
     "output_type": "stream",
     "text": [
      "[[ 2  4  6]\n",
      " [ 8 10 12]]\n"
     ]
    }
   ],
   "source": [
    "print(2*A)"
   ]
  },
  {
   "cell_type": "markdown",
   "id": "99cd7866",
   "metadata": {},
   "source": [
    "Tandis que `2@A` renverra une erreur car $2$ et $A$ ne sont pas de même dimension :"
   ]
  },
  {
   "cell_type": "code",
   "execution_count": 19,
   "id": "3200ff85",
   "metadata": {},
   "outputs": [
    {
     "ename": "ValueError",
     "evalue": "matmul: Input operand 0 does not have enough dimensions (has 0, gufunc core with signature (n?,k),(k,m?)->(n?,m?) requires 1)",
     "output_type": "error",
     "traceback": [
      "\u001b[0;31m---------------------------------------------------------------------------\u001b[0m",
      "\u001b[0;31mValueError\u001b[0m                                Traceback (most recent call last)",
      "Cell \u001b[0;32mIn[19], line 1\u001b[0m\n\u001b[0;32m----> 1\u001b[0m \u001b[38;5;28mprint\u001b[39m(\u001b[38;5;241;43m2\u001b[39;49m\u001b[38;5;129;43m@A\u001b[39;49m)\n",
      "\u001b[0;31mValueError\u001b[0m: matmul: Input operand 0 does not have enough dimensions (has 0, gufunc core with signature (n?,k),(k,m?)->(n?,m?) requires 1)"
     ]
    }
   ],
   "source": [
    "print(2@A)"
   ]
  },
  {
   "cell_type": "markdown",
   "id": "f1a69a12",
   "metadata": {},
   "source": [
    "### Exemple 5"
   ]
  },
  {
   "cell_type": "markdown",
   "id": "2b097886",
   "metadata": {},
   "source": [
    "Soit la matrice suivante :"
   ]
  },
  {
   "cell_type": "code",
   "execution_count": 20,
   "id": "2ce74c32",
   "metadata": {},
   "outputs": [
    {
     "name": "stdout",
     "output_type": "stream",
     "text": [
      "[[1 2]\n",
      " [4 5]]\n"
     ]
    }
   ],
   "source": [
    "A=np.array([[1,2],[4,5]])\n",
    "print(A)"
   ]
  },
  {
   "cell_type": "markdown",
   "id": "07ab65e2",
   "metadata": {},
   "source": [
    "Faire `A**2` signifie `A*A`, c'est à dire que tous les termes de la matrice sont élevés au carré. Code :"
   ]
  },
  {
   "cell_type": "code",
   "execution_count": 21,
   "id": "1ef62179",
   "metadata": {},
   "outputs": [],
   "source": [
    "print(A**2)"
   ]
  },
  {
   "cell_type": "markdown",
   "id": "ea994a04",
   "metadata": {},
   "source": [
    "Si maintenant on veut prendre le carré au point de vue matriciel, qui signifie `A@A`, la syntaxe est la suivante :"
   ]
  },
  {
   "cell_type": "code",
   "execution_count": 22,
   "id": "e4e5ed01",
   "metadata": {},
   "outputs": [
    {
     "name": "stdout",
     "output_type": "stream",
     "text": [
      "[[ 9 12]\n",
      " [24 33]]\n"
     ]
    }
   ],
   "source": [
    "print(np.linalg.matrix_power(A,2))"
   ]
  },
  {
   "cell_type": "markdown",
   "id": "4ced7d9c",
   "metadata": {},
   "source": [
    "## Exercice 1"
   ]
  },
  {
   "cell_type": "markdown",
   "id": "d562e1ec",
   "metadata": {},
   "source": [
    "<ol>\n",
    "    <li>Construisez la matrice $A$ donnée par \n",
    "\\begin{equation}\n",
    "A=v^{t}.v\n",
    "\\end{equation}\n",
    "    où $v=(0.5,1,1.5,2,2.5,3,3.5,4,4.5,5)$ et $v^{t}$ est la transposée de $v$.</li>\n",
    "    <li>Construisez le vecteur $u$ défini par\n",
    "\\begin{equation}\n",
    "u=w.A^3+4.v\n",
    "\\end{equation}\n",
    "    où $w$ est un vecteur de même taille que $v$ dont les composantes sont le carré des composantes correspondantes de $v$.</li>\n",
    "    <li>Remplacez la troisième composante de $u$ par le nombre $7$.</li>\n",
    "</ol>"
   ]
  },
  {
   "cell_type": "code",
   "execution_count": 23,
   "id": "8d6ed721",
   "metadata": {},
   "outputs": [
    {
     "name": "stdout",
     "output_type": "stream",
     "text": [
      "[[0.5 1.  1.5 2.  2.5 3.  3.5 4.  4.5 5. ]]\n",
      "(1, 10)\n",
      "[[0.5]\n",
      " [1. ]\n",
      " [1.5]\n",
      " [2. ]\n",
      " [2.5]\n",
      " [3. ]\n",
      " [3.5]\n",
      " [4. ]\n",
      " [4.5]\n",
      " [5. ]]\n",
      "(10, 1)\n",
      "[[ 0.25  0.5   0.75  1.    1.25  1.5   1.75  2.    2.25  2.5 ]\n",
      " [ 0.5   1.    1.5   2.    2.5   3.    3.5   4.    4.5   5.  ]\n",
      " [ 0.75  1.5   2.25  3.    3.75  4.5   5.25  6.    6.75  7.5 ]\n",
      " [ 1.    2.    3.    4.    5.    6.    7.    8.    9.   10.  ]\n",
      " [ 1.25  2.5   3.75  5.    6.25  7.5   8.75 10.   11.25 12.5 ]\n",
      " [ 1.5   3.    4.5   6.    7.5   9.   10.5  12.   13.5  15.  ]\n",
      " [ 1.75  3.5   5.25  7.    8.75 10.5  12.25 14.   15.75 17.5 ]\n",
      " [ 2.    4.    6.    8.   10.   12.   14.   16.   18.   20.  ]\n",
      " [ 2.25  4.5   6.75  9.   11.25 13.5  15.75 18.   20.25 22.5 ]\n",
      " [ 2.5   5.    7.5  10.   12.5  15.   17.5  20.   22.5  25.  ]]\n",
      "(10, 10)\n"
     ]
    }
   ],
   "source": [
    "v=np.array([[0.5,1,1.5,2,2.5,3,3.5,4,4.5,5]])\n",
    "print(v)\n",
    "print(v.shape)\n",
    "vt=np.transpose(v)\n",
    "print(vt)\n",
    "print(vt.shape)\n",
    "A=vt@v              # produit matriciel\n",
    "print(A)\n",
    "print(A.shape)"
   ]
  },
  {
   "cell_type": "code",
   "execution_count": 24,
   "id": "84babb22",
   "metadata": {},
   "outputs": [
    {
     "name": "stdout",
     "output_type": "stream",
     "text": [
      "[[ 0.25  1.    2.25  4.    6.25  9.   12.25 16.   20.25 25.  ]]\n",
      "[[ 1751488.81640625  3502977.6328125   5254466.44921875  7005955.265625\n",
      "   8757444.08203125 10508932.8984375  12260421.71484375 14011910.53125\n",
      "  15763399.34765625 17514888.1640625 ]]\n"
     ]
    }
   ],
   "source": [
    "w=v**2        # chaque composante au carré\n",
    "print(w)\n",
    "u=w@np.linalg.matrix_power(A,3)+4*v            # np.linalg.matrix_power(A,3) signifie A@A@A\n",
    "print(u)"
   ]
  },
  {
   "cell_type": "code",
   "execution_count": 25,
   "id": "e425f5b6",
   "metadata": {},
   "outputs": [
    {
     "name": "stdout",
     "output_type": "stream",
     "text": [
      "[[1.75148882e+06 3.50297763e+06 7.00000000e+00 7.00595527e+06\n",
      "  8.75744408e+06 1.05089329e+07 1.22604217e+07 1.40119105e+07\n",
      "  1.57633993e+07 1.75148882e+07]]\n"
     ]
    }
   ],
   "source": [
    "u[0,2]=7\n",
    "print(u)"
   ]
  },
  {
   "cell_type": "markdown",
   "id": "7ed79229",
   "metadata": {},
   "source": [
    "## Exercice 2"
   ]
  },
  {
   "cell_type": "markdown",
   "id": "2e4824bc",
   "metadata": {},
   "source": [
    "<ol>\n",
    "    <li> Construire la matrice $A\\in\\mathbb{R}^{6\\times 6}$ définie par\n",
    "\\begin{equation}\n",
    "A=Id+u^{t}.u/4\n",
    "\\end{equation}\n",
    "où $u=(1,2,3,4,5,6)$.</li>\n",
    "    <li> Ajoutez $2$ à l'élément $A_{23}$.</li>\n",
    "    <li> Vérifiez que la nouvelle matrice A est une matrice inversible.</li>\n",
    "    <li> Calculez $A^{-1}$ et vérifiez que le produit $A^{-1}A$ donne l'identité.</li>\n",
    "</ol>"
   ]
  },
  {
   "cell_type": "code",
   "execution_count": 26,
   "id": "ce79ccd7",
   "metadata": {},
   "outputs": [
    {
     "name": "stdout",
     "output_type": "stream",
     "text": [
      "[[1. 0. 0. 0. 0. 0.]\n",
      " [0. 1. 0. 0. 0. 0.]\n",
      " [0. 0. 1. 0. 0. 0.]\n",
      " [0. 0. 0. 1. 0. 0.]\n",
      " [0. 0. 0. 0. 1. 0.]\n",
      " [0. 0. 0. 0. 0. 1.]]\n",
      "[[ 1.25  0.5   0.75  1.    1.25  1.5 ]\n",
      " [ 0.5   2.    1.5   2.    2.5   3.  ]\n",
      " [ 0.75  1.5   3.25  3.    3.75  4.5 ]\n",
      " [ 1.    2.    3.    5.    5.    6.  ]\n",
      " [ 1.25  2.5   3.75  5.    7.25  7.5 ]\n",
      " [ 1.5   3.    4.5   6.    7.5  10.  ]]\n"
     ]
    }
   ],
   "source": [
    "u=np.array([[1,2,3,4,5,6]])\n",
    "I=np.identity(6)                   # matrice identité\n",
    "print(I)\n",
    "A=I+np.transpose(u)@u/4\n",
    "print(A)"
   ]
  },
  {
   "cell_type": "code",
   "execution_count": 27,
   "id": "bd0c01d3",
   "metadata": {},
   "outputs": [
    {
     "name": "stdout",
     "output_type": "stream",
     "text": [
      "[[ 1.25  0.5   0.75  1.    1.25  1.5 ]\n",
      " [ 0.5   2.    3.5   2.    2.5   3.  ]\n",
      " [ 0.75  1.5   3.25  3.    3.75  4.5 ]\n",
      " [ 1.    2.    3.    5.    5.    6.  ]\n",
      " [ 1.25  2.5   3.75  5.    7.25  7.5 ]\n",
      " [ 1.5   3.    4.5   6.    7.5  10.  ]]\n"
     ]
    }
   ],
   "source": [
    "A[1,2]+=2\n",
    "print(A)"
   ]
  },
  {
   "cell_type": "code",
   "execution_count": 28,
   "id": "f7460c0e",
   "metadata": {},
   "outputs": [
    {
     "name": "stdout",
     "output_type": "stream",
     "text": [
      "20.750000000000004\n"
     ]
    }
   ],
   "source": [
    "print(np.linalg.det(A))   # Déterminant de A - Une matrice est inversible ssi son déterminant est non nul"
   ]
  },
  {
   "cell_type": "code",
   "execution_count": 29,
   "id": "e469af64",
   "metadata": {},
   "outputs": [
    {
     "name": "stdout",
     "output_type": "stream",
     "text": [
      "[[ 1.00000000e+00 -1.38777878e-16  4.44089210e-16  5.55111512e-16\n",
      "  -1.11022302e-16 -2.22044605e-16]\n",
      " [ 5.55111512e-17  1.00000000e+00 -4.44089210e-16  0.00000000e+00\n",
      "   0.00000000e+00  2.22044605e-16]\n",
      " [ 1.11022302e-16  0.00000000e+00  1.00000000e+00  2.22044605e-16\n",
      "  -4.44089210e-16  0.00000000e+00]\n",
      " [ 1.11022302e-16 -1.11022302e-16  0.00000000e+00  1.00000000e+00\n",
      "  -4.44089210e-16  0.00000000e+00]\n",
      " [ 2.22044605e-16  0.00000000e+00  0.00000000e+00  4.44089210e-16\n",
      "   1.00000000e+00  2.22044605e-16]\n",
      " [ 0.00000000e+00 -1.66533454e-16  0.00000000e+00  2.22044605e-16\n",
      "  -5.55111512e-16  1.00000000e+00]]\n"
     ]
    }
   ],
   "source": [
    "Ainv=np.linalg.inv(A)        # matrice inverse\n",
    "print(A@Ainv)"
   ]
  },
  {
   "cell_type": "markdown",
   "id": "ec54a829",
   "metadata": {},
   "source": [
    "## Exercice 3"
   ]
  },
  {
   "cell_type": "markdown",
   "id": "d9ca41cb",
   "metadata": {},
   "source": [
    "Astérix, Spirou, Kid Paddle et Gaston Lagaffe se rendent dans un Kebab. Astérix prend 8 assiettes gyros spéciales, 10 frites et 6 boissons. Il paie 43 euros. Spirou mange 2 frites et 2 boissons, mais ne prend pas d’assiette gyros spéciale, et il paie 9 euros. Kid Paddle se contente d’une assiette gyros spéciale et d’une boisson et paie 4.5 euros. Gaston Lagaffe voudrait prendre 1 assiette gyros spéciale avec 1 frite. Combien devra-t-il payer?"
   ]
  },
  {
   "cell_type": "code",
   "execution_count": 30,
   "id": "c9b4becc",
   "metadata": {},
   "outputs": [
    {
     "name": "stdout",
     "output_type": "stream",
     "text": [
      "[[ 8 10  6]\n",
      " [ 0  2  2]\n",
      " [ 1  0  1]]\n",
      "[[43. ]\n",
      " [ 9. ]\n",
      " [ 4.5]]\n"
     ]
    }
   ],
   "source": [
    "A=np.array([[8,10,6],[0,2,2],[1,0,1]])\n",
    "print(A)\n",
    "b=np.array([[43],[9],[4.5]])     # ou bien np.transpose(np.array([[43,9,4.5]]))\n",
    "print(b)"
   ]
  },
  {
   "cell_type": "code",
   "execution_count": 31,
   "id": "1145dd8c",
   "metadata": {},
   "outputs": [
    {
     "name": "stdout",
     "output_type": "stream",
     "text": [
      "[[1.33333333]\n",
      " [1.33333333]\n",
      " [3.16666667]]\n",
      "(3, 1)\n"
     ]
    }
   ],
   "source": [
    "x=np.linalg.solve(A,b)      # résolution de Ax=b\n",
    "print(x)\n",
    "print(x.shape)"
   ]
  },
  {
   "cell_type": "code",
   "execution_count": 32,
   "id": "dbcdd85c",
   "metadata": {},
   "outputs": [
    {
     "name": "stdout",
     "output_type": "stream",
     "text": [
      "Gaston payera 2.6666666666666665 euros\n"
     ]
    }
   ],
   "source": [
    "print(\"Gaston payera \"+str(x[0,0]+x[1,0])+\" euros\")\n",
    "# Plus rigoureusement : \n",
    "# print(\"Gaston payera \"+str((np.array([[1,1,0]])@x)[0,0])+\" euros\")    # On multiplie le vecteur des quantités par le vecteur des prix"
   ]
  },
  {
   "cell_type": "code",
   "execution_count": 33,
   "id": "92a8569a",
   "metadata": {},
   "outputs": [
    {
     "name": "stdout",
     "output_type": "stream",
     "text": [
      "Gaston payera 2.67 euros\n"
     ]
    }
   ],
   "source": [
    "# Spécifier le format pour rendre + présentable (.2f signifie arrondi à 2 décimales)\n",
    "print(\"Gaston payera \"+str(\"{:.2f}\".format(x[0,0]+x[1,0]))+\" euros\")"
   ]
  },
  {
   "cell_type": "markdown",
   "id": "1d63c64a",
   "metadata": {},
   "source": [
    "## Exercice 4"
   ]
  },
  {
   "cell_type": "markdown",
   "id": "a3872902",
   "metadata": {},
   "source": [
    "On considère l'équation de récurrence $f(n+1)=3f(n)-2f(n-1)$.\n",
    "<ol>\n",
    "<li>(Sur papier) Trouvez une matrice $A$ telle que \n",
    "\\begin{equation}\n",
    "    \\left(\n",
    "\\begin{matrix}\n",
    "f(n+1)\\\\\n",
    "f(n)\n",
    "\\end{matrix}\n",
    "\\right)\n",
    "=\n",
    "A\\left(\n",
    "\\begin{matrix}\n",
    "f(n)\\\\\n",
    "f(n-1)\n",
    "\\end{matrix}\n",
    "\\right) \n",
    "\\end{equation}\n",
    "</li>\n",
    "<li>(Sur papier) En déduire l'expression matricielle de $\\left(\n",
    "\\begin{matrix}\n",
    "f(n+1)\\\\\n",
    "f(n)\n",
    "\\end{matrix}\n",
    "\\right)$ en fonction de $\\left(\n",
    "\\begin{matrix}\n",
    "f(1)\\\\\n",
    "f(0)\n",
    "\\end{matrix}\n",
    "\\right)$\n",
    "</li>\n",
    "<li>(Sur Python) En supposant que $f(0)=0$ et $f(1)=1$, calculez $f(14)$ via la relation matricielle.</li>\n",
    "</ol>"
   ]
  },
  {
   "cell_type": "code",
   "execution_count": 34,
   "id": "66e5f233",
   "metadata": {},
   "outputs": [
    {
     "name": "stdout",
     "output_type": "stream",
     "text": [
      "f(14) = 16383\n"
     ]
    }
   ],
   "source": [
    "A=np.array([[3,-2],[1,0]])\n",
    "x=np.linalg.matrix_power(A,13)@np.array([[1],[0]])\n",
    "print(\"f(14) = \"+str(x[0,0]))"
   ]
  },
  {
   "cell_type": "markdown",
   "id": "1a13857b",
   "metadata": {},
   "source": [
    "## Exercice 5"
   ]
  },
  {
   "cell_type": "markdown",
   "id": "b1687df8",
   "metadata": {},
   "source": [
    "Soit la suite \n",
    "\\begin{eqnarray*}\n",
    "x_{n+1}=-x_{n}+4x_{n-1}+4x_{n-2}\\qquad n\\in\\{2,3,4,...\\}\n",
    "\\end{eqnarray*}\n",
    "avec les conditions initiales\n",
    "\\begin{eqnarray*}\n",
    "x_0=1\\quad x_1=0\\quad x_2=0\n",
    "\\end{eqnarray*}\n",
    "<ol>\n",
    "    <li>Ecrire cette équation sous forme matricielle en fonction des conditions initiales.</li>\n",
    "    <li>En déduire la valeur de $x_{10}$ via Python. \n",
    "</ol>"
   ]
  },
  {
   "cell_type": "code",
   "execution_count": 5,
   "id": "96b20501",
   "metadata": {},
   "outputs": [
    {
     "name": "stdout",
     "output_type": "stream",
     "text": [
      "x_10 = -340\n"
     ]
    }
   ],
   "source": [
    "A=np.array([[-1,4,4],[1,0,0],[0,1,0]])\n",
    "x=np.linalg.matrix_power(A,9)@np.array([[0],[0],[1]])\n",
    "print(\"x_10 = \"+str(x[1,0]))"
   ]
  },
  {
   "cell_type": "markdown",
   "id": "60d2b25b",
   "metadata": {},
   "source": [
    "## Exercice 6"
   ]
  },
  {
   "cell_type": "markdown",
   "id": "43a09f1b",
   "metadata": {},
   "source": [
    "Chaque année, la population d'un pays fait son choix entre deux partis politiques : le parti A et le parti B. On constate les faits suivants:\n",
    "- $1/3$ des anciens partisans de A sont mécontents et passent au parti B. Les autres anciens de A restent en A. \n",
    "- $1/4$ des anciens partisans de B restent en B et les autres passent en A.\n",
    "\n",
    "<ol>\n",
    "<li>(Sur papier) Exprimez par un système d'équations le mouvement politique de la population en 1 an.</li>\n",
    "<li>(Sur papier) Exprimez ce transfert sous forme matricielle.</li>\n",
    "<li>(Sur Python) Si en 1978 il y a 36000 partisans de A et 900 partisans de B, quelle sera la répartition en l'an 2000? </li>\n",
    "</ol>"
   ]
  },
  {
   "cell_type": "code",
   "execution_count": 36,
   "id": "88276dd1",
   "metadata": {},
   "outputs": [
    {
     "name": "stdout",
     "output_type": "stream",
     "text": [
      "En 2000, il y aura 25546 partisans de A et 11354 partisans de B.\n"
     ]
    }
   ],
   "source": [
    "A=np.array([[2/3,3/4],[1/3,1/4]])\n",
    "x=np.linalg.matrix_power(A,22)@np.array([[36000],[900]])\n",
    "print(\"En 2000, il y aura \"+str(round(x[0,0]))+\" partisans de A et \"+str(round(x[1,0]))+\" partisans de B.\")"
   ]
  },
  {
   "cell_type": "markdown",
   "id": "dca6fa87",
   "metadata": {},
   "source": [
    "## Nota bene"
   ]
  },
  {
   "cell_type": "markdown",
   "id": "53ddc6c7",
   "metadata": {},
   "source": [
    "Les exercices 4, 5 et 6 peuvent également être résolus par itérations, à l'aide de boucles `for` ou `while` : voir chapitre 4. "
   ]
  }
 ],
 "metadata": {
  "kernelspec": {
   "display_name": "Python 3 (ipykernel)",
   "language": "python",
   "name": "python3"
  },
  "language_info": {
   "codemirror_mode": {
    "name": "ipython",
    "version": 3
   },
   "file_extension": ".py",
   "mimetype": "text/x-python",
   "name": "python",
   "nbconvert_exporter": "python",
   "pygments_lexer": "ipython3",
   "version": "3.10.9"
  }
 },
 "nbformat": 4,
 "nbformat_minor": 5
}
